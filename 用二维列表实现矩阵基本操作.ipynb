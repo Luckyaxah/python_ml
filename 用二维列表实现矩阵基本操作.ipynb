{
 "cells": [
  {
   "cell_type": "code",
   "execution_count": 36,
   "metadata": {},
   "outputs": [],
   "source": [
    "# 通过递归计算行列式\n",
    "\n",
    "## 定义递归函数\n",
    "def det_process(sub_arr):\n",
    "    if len(sub_arr) == 2:\n",
    "        return sub_arr[0][0]*sub_arr[1][1]-sub_arr[0][1]*sub_arr[1][0]\n",
    "    c = 1\n",
    "    ret = 0\n",
    "    for ind in range(len(sub_arr[0])):\n",
    "        ret += c*sub_arr[0][ind] * det_process(get_sub_arr(sub_arr, 0, ind))\n",
    "        c *= -1\n",
    "    return ret\n",
    "\n",
    "## 定义获取子矩阵的函数\n",
    "def get_sub_arr(arr, row, col):\n",
    "    new_arr = [[ arr[i][j] for j in range(len(arr[0])) ] for i in range(len(arr))]\n",
    "    new_arr.pop(row)\n",
    "    for i in range(len(new_arr)):\n",
    "        new_arr[i].pop(col)\n",
    "    return new_arr\n"
   ]
  },
  {
   "cell_type": "code",
   "execution_count": 286,
   "metadata": {},
   "outputs": [],
   "source": [
    "## 矩阵形式打印一个二维数组\n",
    "def print_matrix(arr):\n",
    "    for row in arr:\n",
    "        for col in row:\n",
    "            print(col, end=' ')\n",
    "        print()\n",
    "\n",
    "## 对一个二维数组的j1和j2位置向量求内积\n",
    "def get_inner_product(arr, j1, j2):\n",
    "    ret = 0\n",
    "    for row in arr:\n",
    "        ret += row[j1]*row[j2]\n",
    "    return ret\n",
    "\n",
    "## 对一个二维数组的j位置向量做数乘k\n",
    "def get_scale_product(arr, j, k):\n",
    "    vec = []\n",
    "    for i in range(len(arr)):\n",
    "        vec.append([k*arr[i][j]])\n",
    "    return vec\n",
    "\n",
    "## 对一个二维数组的j1和j2位置向量做加法\n",
    "def get_sum(arr, j1,j2):\n",
    "    vec = []\n",
    "    for i in range(len(arr)):\n",
    "        vec.append([arr[i][j1] + arr[i][j2]])\n",
    "    return vec\n",
    "\n",
    "## 对两个二维形式的向量做加法\n",
    "def get_sum_of_vec(vec1, vec2):\n",
    "    print('-'*20)\n",
    "    print(vec1)\n",
    "    print(vec2)\n",
    "    vec = []\n",
    "    for i in range(len(vec1)):\n",
    "        vec.append([vec1[i][0] + vec2[i][0]])\n",
    "    return vec\n",
    "\n",
    "## 对两个二维形式的向量做内积\n",
    "def get_inner_product_of_vec(vec1, vec2):\n",
    "    ret = 0\n",
    "    for i in range(len(vec1)):\n",
    "        ret += vec1[i][0] * vec2[i][0]\n",
    "    return ret\n",
    "\n",
    "## 从一个二维数组中取出一个二维形式的向量\n",
    "def get_vec_from_arr(arr, j):\n",
    "    vec = []\n",
    "    for row in arr:\n",
    "        vec.append([row[j]])\n",
    "    return vec\n",
    "\n",
    "## 对一个二维形式的向量做数乘，相当于scale_product(vec, k)\n",
    "def get_scale_product_of_vec(vec, k):\n",
    "    new_vec = []\n",
    "    for i in range(len(vec)):\n",
    "        new_vec.append([vec[i][0]*k])\n",
    "    return new_vec\n",
    "\n",
    "## 对一个二维数组做数量乘法\n",
    "def scale_product(arr, k):\n",
    "    new_arr = deepcopy_arr(arr)\n",
    "    for i in range(len(new_arr)):\n",
    "        for j in range(len(new_arr[0])):\n",
    "            new_arr[i][j] *= k\n",
    "    return new_arr\n",
    "    \n",
    "\n",
    "## 深拷贝一个二维数组\n",
    "def deepcopy_arr(arr):\n",
    "    row_count, col_count = len(arr), len(arr[0])\n",
    "    new_arr = [[ arr[i][j] for j in range(col_count) ] for i in range(row_count)]\n",
    "    return new_arr"
   ]
  },
  {
   "cell_type": "code",
   "execution_count": 309,
   "metadata": {},
   "outputs": [],
   "source": [
    "## 对矩阵做初等行变换\n",
    "def elementary_row_transformation(arr, row1, row2, k1, k2):\n",
    "    # row1 = k1*row1+k2*row2\n",
    "    for j in range(len(arr[0])):\n",
    "        arr[row1][j] = k1*arr[row1][j]+k2*arr[row2][j]\n",
    "                \n",
    "## 将矩阵变换为阶梯形\n",
    "def row_echelon_matrix_transformation(arr):\n",
    "    row_count, col_count = len(arr), len(arr[0])\n",
    "    ind = -1\n",
    "    for i in range(row_count):\n",
    "        \n",
    "        ind += 1\n",
    "        while ind < col_count and arr[i][ind] == 0 :\n",
    "            flag = False\n",
    "            for i1 in range(i+1, row_count):\n",
    "                if arr[i1][ind] != 0:\n",
    "                    arr[i], arr[i1] = arr[i1], arr[i]\n",
    "                    flag = True\n",
    "                    break\n",
    "            if flag == False:\n",
    "                # 说明第ind列的值全为 0\n",
    "                ind += 1\n",
    "        if ind == col_count:\n",
    "            break\n",
    "            \n",
    "        if arr[i][ind] == 0:\n",
    "            for i1 in range(i+1, row_count):\n",
    "                if arr[i1][ind] != 0:\n",
    "                    arr[i], arr[i1] = arr[i1], arr[i]\n",
    "                    break\n",
    "        for i1 in range(i+1, row_count):\n",
    "            if arr[i1][i] != 0:\n",
    "                elementary_row_transformation(arr, i1, i, 1, -arr[i1][ind]/arr[i][ind])\n",
    "                \n",
    "                \n",
    "                \n",
    "## 计算阶梯形方阵的行列式\n",
    "def row_echelon_matrix_det(arr):\n",
    "    ret = 1\n",
    "    for i in range(len(arr)):\n",
    "        ret *= arr[i][i]\n",
    "    return ret\n",
    "\n",
    "## 将矩阵变换成规范的阶梯形矩阵（行最简阶梯形）\n",
    "def normol_row_echelon_matrix_transformation(arr):\n",
    "    row_count, col_count = len(arr), len(arr[0])\n",
    "    ind = -1\n",
    "    for i in range(row_count):\n",
    "\n",
    "        ind += 1\n",
    "        while ind < col_count and arr[i][ind] == 0 :\n",
    "            flag = False\n",
    "            for i1 in range(i+1, row_count):\n",
    "                if arr[i1][ind] != 0:\n",
    "                    arr[i], arr[i1] = arr[i1], arr[i]\n",
    "                    flag = True\n",
    "                    break\n",
    "            if flag == False:\n",
    "                # 说明第ind列的值全为 0\n",
    "                ind += 1\n",
    "        if ind == col_count:\n",
    "            break\n",
    "            \n",
    "        if arr[i][ind] != 1 and arr[i][ind] !=0:\n",
    "            # 第i行除以arr[i][ind]\n",
    "            elementary_row_transformation(arr, i, i, 1/arr[i][ind], 0)\n",
    "        for i1 in range(0, row_count):\n",
    "            if i1 != i and arr[i1][ind] != 0:\n",
    "                elementary_row_transformation(arr, i1, i, 1, -arr[i1][ind]/arr[i][ind])\n",
    "\n",
    "## 返回行阶梯型矩阵的阶梯列\n",
    "def find_footstep(arr):\n",
    "    positions = [0 for j in range(len(arr[0]))]\n",
    "    for i in range(len(arr)):\n",
    "        for j in range(len(arr[0])):\n",
    "            if arr[i][j] != 0:\n",
    "                positions[j] = 1\n",
    "                break\n",
    "    return positions\n",
    "\n",
    "## 返回矩阵A的列向量组的极大无关组\n",
    "def get_maximal_linearly_independent_columns(A):\n",
    "    row_count, col_count = len(A), len(A[0])\n",
    "    norm_A = deepcopy_arr(A)\n",
    "    normol_row_echelon_matrix_transformation(norm_A)\n",
    "    footstep_positions = find_footstep(norm_A)\n",
    "    ret = []\n",
    "    for i in range(row_count):\n",
    "        row = []\n",
    "        for j in range(col_count):\n",
    "            if footstep_positions[j] == 1:\n",
    "                row.append(A[i][j])\n",
    "        ret.append(row)\n",
    "    return ret\n",
    "\n",
    "\n",
    "\n",
    "\n",
    "## 对极大线性无关组施行Schmidt正交化，返回标准正交组\n",
    "def schmidt_transformation(max_ind_cols):\n",
    "    # max_ind_cols, i.e. maximal linearly independent columns\n",
    "    new_arr = deepcopy_arr(max_ind_cols)\n",
    "    row_count, col_count = len(new_arr), len(new_arr[0])\n",
    "    \n",
    "    # 循环从1开始，由于 beta1 = alpha1\n",
    "    for j in range(1, col_count):\n",
    "        alpha = get_vec_from_arr(max_ind_cols, j)\n",
    "        temp = [[0] for i in range(row_count)]\n",
    "        for k in range(j):\n",
    "            beta = get_vec_from_arr(new_arr, k)\n",
    "            coef = -get_inner_product_of_vec(alpha, beta)/ get_inner_product_of_vec(beta, beta)\n",
    "            temp = get_sum_of_vec(temp, get_scale_product_of_vec(beta, coef) )\n",
    "        beta = get_sum_of_vec(alpha, temp)\n",
    "        \n",
    "        for i in range(row_count):\n",
    "            new_arr[i][j] = beta[i][0]\n",
    "    \n",
    "    for j in range(col_count):\n",
    "        norm = get_inner_product(new_arr, j, j) ** 0.5\n",
    "        for i in range(row_count):\n",
    "            new_arr[i][j] /= norm\n",
    "    return new_arr\n",
    "            \n",
    "            \n",
    "            \n",
    "        \n",
    "        \n",
    "    \n",
    "    \n",
    "    \n",
    "\n",
    "\n",
    "\n",
    "    "
   ]
  },
  {
   "cell_type": "code",
   "execution_count": 252,
   "metadata": {},
   "outputs": [],
   "source": [
    "## 求解方程AX =0的通解，基础解系\n",
    "def get_basic_solutions(A):\n",
    "    row_count, col_count = len(A), len(A[0])\n",
    "    norm_A = deepcopy_arr(A)\n",
    "#     norm_A = [[ A[i][j] for j in range(col_count) ] for i in range(row_count)]\n",
    "    normol_row_echelon_matrix_transformation(norm_A)\n",
    "    solution = []\n",
    "    footstep_positions = find_footstep(norm_A)\n",
    "    for j in range(col_count):  \n",
    "        solution.append('x_%d' % j)\n",
    "    i = 0     \n",
    "    for j in range(col_count):\n",
    "        if footstep_positions[j] != 0:\n",
    "            temp = []\n",
    "            for j1 in range(j+1, col_count):\n",
    "                if footstep_positions[j1] == 0:\n",
    "                    \n",
    "                    if norm_A[i][j1] == 0:\n",
    "                        continue\n",
    "                    elif -norm_A[i][j1]<0 :\n",
    "                        str1 = '(%.2f)' % -norm_A[i][j1]\n",
    "                    else:\n",
    "                        str1 = str(-norm_A[i][j1])\n",
    "                    temp.append(str1+'*'+solution[j1] )\n",
    "            if temp:\n",
    "                solution[j] = '+'.join(temp)\n",
    "            else:\n",
    "                solution[j] = '0'\n",
    "            i += 1\n",
    "    return solution, norm_A"
   ]
  },
  {
   "cell_type": "code",
   "execution_count": 127,
   "metadata": {},
   "outputs": [],
   "source": [
    "# 输入学号\n",
    "\n",
    "student_id = '1234567890'\n",
    "data_base = list(student_id)\n",
    "data_base = list(map(int,data_base))\n",
    "\n",
    "base_len = len(data_base)\n",
    "cur_pos = 0 # 表示当前数在模板上的位置\n",
    "cur_power = 2 # 表示当前应做的幂次\n",
    "\n",
    "\n",
    "# 初始化矩阵\n",
    "arr = [[None for j in range(13)] for i in range(13)]\n",
    "\n",
    "nums = data_base[:]\n",
    "\n",
    "def fill_nums(nums, base, pos, power):\n",
    "    num = base[pos] ** power\n",
    "    nums.extend(list(map(int, list(str(num)))))\n",
    "\n",
    "for i in range(13):\n",
    "    for j in range(13):\n",
    "        if not nums:\n",
    "            fill_nums(nums, data_base, cur_pos, cur_power)\n",
    "            cur_pos = cur_pos + 1\n",
    "            if cur_pos == base_len:\n",
    "                cur_pos = 0\n",
    "                cur_power += 1\n",
    "        arr[i][j] = nums.pop(0)\n",
    "\n"
   ]
  },
  {
   "cell_type": "code",
   "execution_count": 128,
   "metadata": {},
   "outputs": [
    {
     "data": {
      "text/plain": [
       "[[1, 2, 3, 4, 5, 6, 7, 8, 9, 0, 1, 4, 9],\n",
       " [0.0, 4.0, -1.0, 1.0, -2.0, 0.0, -3.0, 1.0, -3.0, 4.0, 7.0, -3.0, -9.0],\n",
       " [0.0, 0.0, 0.5, 1.5, 4.0, -2.0, -1.5, -7.5, 0.5, -4.0, -10.5, 6.5, 7.5],\n",
       " [0.0,\n",
       "  0.0,\n",
       "  0.0,\n",
       "  11.0,\n",
       "  45.5,\n",
       "  -50.0,\n",
       "  -54.5,\n",
       "  -145.5,\n",
       "  -31.5,\n",
       "  -60.0,\n",
       "  -167.5,\n",
       "  93.5,\n",
       "  84.5],\n",
       " [0.0,\n",
       "  0.0,\n",
       "  0.0,\n",
       "  0.0,\n",
       "  1.5454545454545467,\n",
       "  -14.181818181818183,\n",
       "  -15.81818181818182,\n",
       "  -29.909090909090914,\n",
       "  -20.454545454545453,\n",
       "  3.18181818181818,\n",
       "  -13.909090909090914,\n",
       "  6.0,\n",
       "  -4.272727272727273],\n",
       " [0.0,\n",
       "  0.0,\n",
       "  0.0,\n",
       "  0.0,\n",
       "  -3.552713678800501e-15,\n",
       "  232.5294117647057,\n",
       "  254.70588235294102,\n",
       "  463.05882352941137,\n",
       "  352.7058823529408,\n",
       "  -97.17647058823522,\n",
       "  152.99999999999986,\n",
       "  -56.647058823529335,\n",
       "  122.29411764705878],\n",
       " [0.0,\n",
       "  0.0,\n",
       "  0.0,\n",
       "  0.0,\n",
       "  -4.655465938827876e-16,\n",
       "  0.0,\n",
       "  2.5824690108778228,\n",
       "  4.737920566658232,\n",
       "  8.924361244624329,\n",
       "  -8.410447761194028,\n",
       "  -4.950923349354923,\n",
       "  4.429926637996462,\n",
       "  8.319504174045033],\n",
       " [0.0,\n",
       "  0.0,\n",
       "  0.0,\n",
       "  -3.552713678800501e-15,\n",
       "  8.576835834259485e-16,\n",
       "  0.0,\n",
       "  0.0,\n",
       "  -4.529901552627699,\n",
       "  -12.642258901895413,\n",
       "  30.096047411470778,\n",
       "  37.126953029338296,\n",
       "  -24.64877308125581,\n",
       "  -30.915952392613956],\n",
       " [0.0,\n",
       "  0.0,\n",
       "  0.0,\n",
       "  6.4197148587603535e-15,\n",
       "  1.042916046357327e-16,\n",
       "  0.0,\n",
       "  1.7763568394002505e-15,\n",
       "  0.0,\n",
       "  -38.43196341107415,\n",
       "  60.24286656503136,\n",
       "  49.25970136343561,\n",
       "  -32.72677241125831,\n",
       "  -53.965205920832744],\n",
       " [0.0,\n",
       "  0.0,\n",
       "  0.0,\n",
       "  9.386657954794831e-15,\n",
       "  5.008835158106373e-15,\n",
       "  0.0,\n",
       "  1.273143766706178e-15,\n",
       "  -8.881784197001252e-16,\n",
       "  0.0,\n",
       "  -16.03558461953505,\n",
       "  -42.29988490506365,\n",
       "  30.537022673223696,\n",
       "  39.0634141867516],\n",
       " [0.0,\n",
       "  0.0,\n",
       "  0.0,\n",
       "  8.059165914525007e-15,\n",
       "  8.453586734096787e-15,\n",
       "  0.0,\n",
       "  6.660370307492078e-16,\n",
       "  -1.4593759560218742e-15,\n",
       "  -8.881784197001252e-16,\n",
       "  0.0,\n",
       "  -15.914813337695165,\n",
       "  18.0312087155094,\n",
       "  27.013952539498916],\n",
       " [0.0,\n",
       "  0.0,\n",
       "  0.0,\n",
       "  -3.992622124536871e-15,\n",
       "  -8.932284241995454e-15,\n",
       "  0.0,\n",
       "  2.5091665753648595e-17,\n",
       "  1.2192948290076548e-15,\n",
       "  1.1118984296104324e-15,\n",
       "  0.0,\n",
       "  0.0,\n",
       "  -11.82955819466616,\n",
       "  -14.993632903882801],\n",
       " [0.0,\n",
       "  0.0,\n",
       "  0.0,\n",
       "  3.973429709472371e-15,\n",
       "  4.979292927279234e-15,\n",
       "  0.0,\n",
       "  -9.042166213495648e-16,\n",
       "  -1.2729894888756416e-15,\n",
       "  -9.594414509526269e-16,\n",
       "  0.0,\n",
       "  0.0,\n",
       "  0.0,\n",
       "  5.964321392792715]]"
      ]
     },
     "execution_count": 128,
     "metadata": {},
     "output_type": "execute_result"
    }
   ],
   "source": [
    "row_echelon_matrix_transformation(arr)\n",
    "arr"
   ]
  },
  {
   "cell_type": "code",
   "execution_count": 129,
   "metadata": {},
   "outputs": [
    {
     "name": "stdout",
     "output_type": "stream",
     "text": [
      "-64001355880.00043\n",
      "时长 0.000453948974609375\n",
      "-64001355880.00067\n",
      "时长 0.00010800361633300781\n"
     ]
    }
   ],
   "source": [
    "import numpy as np\n",
    "import time\n",
    "start = time.time()\n",
    "print(np.linalg.det(arr))\n",
    "end = time.time()\n",
    "duration1 = end - start\n",
    "print('时长', duration1)\n",
    "\n",
    "start = time.time()\n",
    "arr\n",
    "row_echelon_matrix_transformation(arr)\n",
    "print(row_echelon_matrix_det(arr))\n",
    "end = time.time()\n",
    "duration2 = end - start\n",
    "print('时长', duration2)\n"
   ]
  },
  {
   "cell_type": "code",
   "execution_count": 130,
   "metadata": {},
   "outputs": [],
   "source": [
    "import numpy as np\n",
    "a1 = [\n",
    "    [1,2,3,4],\n",
    "    [5,2,5,3],\n",
    "    [3,5,6,2],\n",
    "    [8,5,6,8]\n",
    "]\n",
    "arr1 = np.array(a1)\n",
    "# np.linalg.det(a1)\n"
   ]
  },
  {
   "cell_type": "code",
   "execution_count": 52,
   "metadata": {},
   "outputs": [],
   "source": [
    "elementary_row_transformation(a1, 0, 1, 1, -1/5)"
   ]
  },
  {
   "cell_type": "code",
   "execution_count": 62,
   "metadata": {},
   "outputs": [],
   "source": [
    "row_echelon_matrix_transformation(a1)"
   ]
  },
  {
   "cell_type": "code",
   "execution_count": 63,
   "metadata": {},
   "outputs": [
    {
     "data": {
      "text/plain": [
       "[[1, 2, 3, 4],\n",
       " [0.0, -8.0, -10.0, -17.0],\n",
       " [0.0, 0.0, -1.75, -7.875],\n",
       " [0.0, 0.0, 0.0, 18.5]]"
      ]
     },
     "execution_count": 63,
     "metadata": {},
     "output_type": "execute_result"
    }
   ],
   "source": [
    "a1"
   ]
  },
  {
   "cell_type": "code",
   "execution_count": 69,
   "metadata": {},
   "outputs": [
    {
     "data": {
      "text/plain": [
       "259.0"
      ]
     },
     "execution_count": 69,
     "metadata": {},
     "output_type": "execute_result"
    }
   ],
   "source": [
    "row_echelon_matrix_det(a1)"
   ]
  },
  {
   "cell_type": "code",
   "execution_count": 131,
   "metadata": {},
   "outputs": [],
   "source": [
    "import numpy as np\n",
    "a1 = [\n",
    "    [1,2,2],\n",
    "    [1,1,1],\n",
    "    [0,1,1],\n",
    "]\n",
    "row_echelon_matrix_transformation(a1)"
   ]
  },
  {
   "cell_type": "code",
   "execution_count": 77,
   "metadata": {},
   "outputs": [
    {
     "data": {
      "text/plain": [
       "[[1, 2, 2], [0.0, -1.0, -1.0], [0.0, 0.0, 0.0]]"
      ]
     },
     "execution_count": 77,
     "metadata": {},
     "output_type": "execute_result"
    }
   ],
   "source": [
    "a1"
   ]
  },
  {
   "cell_type": "code",
   "execution_count": 182,
   "metadata": {},
   "outputs": [
    {
     "ename": "ZeroDivisionError",
     "evalue": "float division by zero",
     "output_type": "error",
     "traceback": [
      "\u001b[0;31m---------------------------------------------------------------------------\u001b[0m",
      "\u001b[0;31mZeroDivisionError\u001b[0m                         Traceback (most recent call last)",
      "\u001b[0;32m<ipython-input-182-88c292981d45>\u001b[0m in \u001b[0;36m<module>\u001b[0;34m\u001b[0m\n\u001b[1;32m      7\u001b[0m     \u001b[0;34m[\u001b[0m\u001b[0;36m0\u001b[0m\u001b[0;34m,\u001b[0m\u001b[0;36m4\u001b[0m\u001b[0;34m,\u001b[0m\u001b[0;36m1\u001b[0m\u001b[0;34m,\u001b[0m\u001b[0;36m1\u001b[0m\u001b[0;34m]\u001b[0m\u001b[0;34m\u001b[0m\u001b[0;34m\u001b[0m\u001b[0m\n\u001b[1;32m      8\u001b[0m ]\n\u001b[0;32m----> 9\u001b[0;31m \u001b[0mnormol_row_echelon_matrix_transformation\u001b[0m\u001b[0;34m(\u001b[0m\u001b[0ma2\u001b[0m\u001b[0;34m)\u001b[0m\u001b[0;34m\u001b[0m\u001b[0;34m\u001b[0m\u001b[0m\n\u001b[0m",
      "\u001b[0;32m<ipython-input-181-60371128a154>\u001b[0m in \u001b[0;36mnormol_row_echelon_matrix_transformation\u001b[0;34m(arr)\u001b[0m\n\u001b[1;32m     81\u001b[0m         \u001b[0;32mfor\u001b[0m \u001b[0mi1\u001b[0m \u001b[0;32min\u001b[0m \u001b[0mrange\u001b[0m\u001b[0;34m(\u001b[0m\u001b[0;36m0\u001b[0m\u001b[0;34m,\u001b[0m \u001b[0mrow_count\u001b[0m\u001b[0;34m)\u001b[0m\u001b[0;34m:\u001b[0m\u001b[0;34m\u001b[0m\u001b[0;34m\u001b[0m\u001b[0m\n\u001b[1;32m     82\u001b[0m             \u001b[0;32mif\u001b[0m \u001b[0marr\u001b[0m\u001b[0;34m[\u001b[0m\u001b[0mi1\u001b[0m\u001b[0;34m]\u001b[0m\u001b[0;34m[\u001b[0m\u001b[0mind\u001b[0m\u001b[0;34m]\u001b[0m \u001b[0;34m!=\u001b[0m \u001b[0;36m0\u001b[0m\u001b[0;34m:\u001b[0m\u001b[0;34m\u001b[0m\u001b[0;34m\u001b[0m\u001b[0m\n\u001b[0;32m---> 83\u001b[0;31m                 \u001b[0melementary_row_transformation\u001b[0m\u001b[0;34m(\u001b[0m\u001b[0marr\u001b[0m\u001b[0;34m,\u001b[0m \u001b[0mi1\u001b[0m\u001b[0;34m,\u001b[0m \u001b[0mi\u001b[0m\u001b[0;34m,\u001b[0m \u001b[0;36m1\u001b[0m\u001b[0;34m,\u001b[0m \u001b[0;34m-\u001b[0m\u001b[0marr\u001b[0m\u001b[0;34m[\u001b[0m\u001b[0mi1\u001b[0m\u001b[0;34m]\u001b[0m\u001b[0;34m[\u001b[0m\u001b[0mind\u001b[0m\u001b[0;34m]\u001b[0m\u001b[0;34m/\u001b[0m\u001b[0marr\u001b[0m\u001b[0;34m[\u001b[0m\u001b[0mi\u001b[0m\u001b[0;34m]\u001b[0m\u001b[0;34m[\u001b[0m\u001b[0mind\u001b[0m\u001b[0;34m]\u001b[0m\u001b[0;34m)\u001b[0m\u001b[0;34m\u001b[0m\u001b[0;34m\u001b[0m\u001b[0m\n\u001b[0m\u001b[1;32m     84\u001b[0m \u001b[0;34m\u001b[0m\u001b[0m\n\u001b[1;32m     85\u001b[0m \u001b[0;32mdef\u001b[0m \u001b[0mfind_footstep\u001b[0m\u001b[0;34m(\u001b[0m\u001b[0marr\u001b[0m\u001b[0;34m)\u001b[0m\u001b[0;34m:\u001b[0m\u001b[0;34m\u001b[0m\u001b[0;34m\u001b[0m\u001b[0m\n",
      "\u001b[0;31mZeroDivisionError\u001b[0m: float division by zero"
     ]
    }
   ],
   "source": [
    "import numpy as np\n",
    "a2 = [\n",
    "    [0,8,2,2],\n",
    "    [0,1,4,1],\n",
    "    [0,0,0,0],\n",
    "    [0,1,4,1],\n",
    "    [0,4,1,1]\n",
    "]\n",
    "normol_row_echelon_matrix_transformation(a2)"
   ]
  },
  {
   "cell_type": "code",
   "execution_count": 150,
   "metadata": {},
   "outputs": [
    {
     "data": {
      "text/plain": [
       "[[0.0, 1.0, 0.25, 0.25],\n",
       " [0.0, 0.0, 1.0, 0.2],\n",
       " [0, 0, 0, 0],\n",
       " [0.0, 0.0, 0.0, 0.0],\n",
       " [0.0, 0.0, 0.0, 0.0]]"
      ]
     },
     "execution_count": 150,
     "metadata": {},
     "output_type": "execute_result"
    }
   ],
   "source": [
    "a2"
   ]
  },
  {
   "cell_type": "code",
   "execution_count": 184,
   "metadata": {},
   "outputs": [
    {
     "data": {
      "text/plain": [
       "[[1.0, 0.0, 0.0, 0.0, 0.026315789473684237],\n",
       " [0.0, 1.0, 0.0, 0.0, -0.006578947368421018],\n",
       " [0.0, 0.0, 1.0, 0.0, 0.19736842105263142],\n",
       " [0.0, 0.0, 0.0, 1.0, 0.40131578947368424]]"
      ]
     },
     "execution_count": 184,
     "metadata": {},
     "output_type": "execute_result"
    }
   ],
   "source": [
    "import numpy as np\n",
    "a3 = [\n",
    "    [8,2,2,6,3],\n",
    "    [1,4,1,2,1],\n",
    "    [0,1,1,7,3],\n",
    "    [0,0,1,2,1]\n",
    "]\n",
    "normol_row_echelon_matrix_transformation(a3)\n",
    "a3"
   ]
  },
  {
   "cell_type": "code",
   "execution_count": 246,
   "metadata": {},
   "outputs": [
    {
     "data": {
      "text/plain": [
       "array([[1, 1, 0, 0, 1, 1, 1, 1, 1, 0, 0],\n",
       "       [1, 0, 1, 1, 0, 0, 1, 0, 0, 0, 1],\n",
       "       [0, 0, 1, 0, 0, 0, 1, 0, 0, 0, 1],\n",
       "       [1, 1, 1, 1, 0, 0, 0, 1, 1, 1, 1],\n",
       "       [1, 1, 0, 1, 1, 0, 0, 1, 0, 0, 1],\n",
       "       [1, 1, 0, 1, 0, 0, 1, 1, 0, 1, 1],\n",
       "       [1, 1, 0, 0, 1, 1, 0, 0, 0, 0, 1],\n",
       "       [1, 1, 0, 1, 0, 0, 1, 1, 0, 1, 1],\n",
       "       [0, 1, 0, 0, 1, 1, 1, 0, 1, 1, 0],\n",
       "       [1, 1, 1, 1, 0, 0, 0, 0, 0, 1, 1],\n",
       "       [1, 1, 1, 1, 1, 0, 0, 0, 0, 0, 0],\n",
       "       [1, 1, 1, 1, 1, 1, 0, 0, 1, 1, 0]])"
      ]
     },
     "execution_count": 246,
     "metadata": {},
     "output_type": "execute_result"
    }
   ],
   "source": [
    "import numpy as np\n",
    "np.random.seed(1)\n",
    "a4 = np.random.randint(0,2,12*11)\n",
    "a4 = a4.reshape(12,11)\n",
    "# [\n",
    "#     [1,1,3,0,5,1,1],\n",
    "#     [0,1,0,-1,5,2,1],\n",
    "#     [0,0,0,1,4,3,1],\n",
    "#     [0,0,0,2,8,4,1]\n",
    "# ]\n",
    "# normol_row_echelon_matrix_transformation(a4)\n",
    "# a4\n",
    "a4"
   ]
  },
  {
   "cell_type": "code",
   "execution_count": 310,
   "metadata": {},
   "outputs": [
    {
     "name": "stdout",
     "output_type": "stream",
     "text": [
      "--------------------\n",
      "[[0], [0], [0], [0]]\n",
      "[[-1.0], [-0.0], [-0.0], [-0.0]]\n",
      "--------------------\n",
      "[[1], [1], [0], [0]]\n",
      "[[-1.0], [0.0], [0.0], [0.0]]\n",
      "--------------------\n",
      "[[0], [0], [0], [0]]\n",
      "[[0.0], [0.0], [0.0], [0.0]]\n",
      "--------------------\n",
      "[[0.0], [0.0], [0.0], [0.0]]\n",
      "[[0.0], [1.0], [0.0], [0.0]]\n",
      "--------------------\n",
      "[[0], [-1], [1], [2]]\n",
      "[[0.0], [1.0], [0.0], [0.0]]\n",
      "--------------------\n",
      "[[0], [0], [0], [0]]\n",
      "[[-1.0], [-0.0], [-0.0], [-0.0]]\n",
      "--------------------\n",
      "[[-1.0], [0.0], [0.0], [0.0]]\n",
      "[[-0.0], [-2.0], [-0.0], [-0.0]]\n",
      "--------------------\n",
      "[[-1.0], [-2.0], [0.0], [0.0]]\n",
      "[[-0.0], [-0.0], [-2.2], [-4.4]]\n",
      "--------------------\n",
      "[[1], [2], [3], [4]]\n",
      "[[-1.0], [-2.0], [-2.2], [-4.4]]\n"
     ]
    },
    {
     "data": {
      "text/plain": [
       "[[1.0, 0.0, 0.0, 0.0],\n",
       " [0.0, 1.0, 0.0, 0.0],\n",
       " [0.0, 0.0, 0.4472135954999579, 0.8944271909999157],\n",
       " [0.0, 0.0, 0.8944271909999159, -0.44721359549995837]]"
      ]
     },
     "execution_count": 310,
     "metadata": {},
     "output_type": "execute_result"
    }
   ],
   "source": [
    "import numpy as np\n",
    "a4 =[\n",
    "    [1,1,3,0,5,1,1],\n",
    "    [0,1,0,-1,5,2,1],\n",
    "    [0,0,0,1,4,3,1],\n",
    "    [0,0,0,2,8,4,1]\n",
    "]\n",
    "ret = get_maximal_linearly_independent_columns(a4)\n",
    "\n",
    "a4,ret\n",
    "\n",
    "schmidt_transformation(ret)"
   ]
  },
  {
   "cell_type": "code",
   "execution_count": 304,
   "metadata": {},
   "outputs": [
    {
     "ename": "TypeError",
     "evalue": "list indices must be integers or slices, not tuple",
     "output_type": "error",
     "traceback": [
      "\u001b[0;31m---------------------------------------------------------------------------\u001b[0m",
      "\u001b[0;31mTypeError\u001b[0m                                 Traceback (most recent call last)",
      "\u001b[0;32m<ipython-input-304-95eecc1c02c1>\u001b[0m in \u001b[0;36m<module>\u001b[0;34m\u001b[0m\n\u001b[0;32m----> 1\u001b[0;31m \u001b[0mOut\u001b[0m\u001b[0;34m[\u001b[0m\u001b[0;36m293\u001b[0m\u001b[0;34m]\u001b[0m\u001b[0;34m[\u001b[0m\u001b[0;34m:\u001b[0m\u001b[0;34m,\u001b[0m\u001b[0;36m1\u001b[0m\u001b[0;34m]\u001b[0m\u001b[0;34m\u001b[0m\u001b[0;34m\u001b[0m\u001b[0m\n\u001b[0m",
      "\u001b[0;31mTypeError\u001b[0m: list indices must be integers or slices, not tuple"
     ]
    }
   ],
   "source": []
  },
  {
   "cell_type": "code",
   "execution_count": null,
   "metadata": {},
   "outputs": [],
   "source": []
  }
 ],
 "metadata": {
  "kernelspec": {
   "display_name": "Python 3",
   "language": "python",
   "name": "python3"
  },
  "language_info": {
   "codemirror_mode": {
    "name": "ipython",
    "version": 3
   },
   "file_extension": ".py",
   "mimetype": "text/x-python",
   "name": "python",
   "nbconvert_exporter": "python",
   "pygments_lexer": "ipython3",
   "version": "3.7.4"
  }
 },
 "nbformat": 4,
 "nbformat_minor": 2
}
