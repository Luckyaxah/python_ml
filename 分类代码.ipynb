{
 "cells": [
  {
   "cell_type": "code",
   "execution_count": null,
   "metadata": {},
   "outputs": [],
   "source": [
    "import numpy as np"
   ]
  },
  {
   "cell_type": "code",
   "execution_count": null,
   "metadata": {},
   "outputs": [],
   "source": [
    "def sigmoid(z):\n",
    "    return 1.0 / (1.0 + np.exp(-z))"
   ]
  },
  {
   "cell_type": "code",
   "execution_count": null,
   "metadata": {},
   "outputs": [],
   "source": [
    "def gradient(X, y ,options):\n",
    "    m, n = X.shape\n",
    "    \n",
    "    theta = np.zeros((n,1))\n",
    "    \n",
    "    error = J(theta, X, y)\n",
    "    errors = [error, ]\n",
    "    thetas = [theta, ]\n",
    "    alpha = options.get('alpha', 0.01)\n",
    "    epsilon = options.get('epsilon', 1e-5)\n",
    "    maxLoop = options.get('maxLoop', 1000)\n",
    "    theLambda = float(options.get('theLambda', 0))\n",
    "    method = options.get('method', 'bgd')\n",
    "    \n",
    "    def _sgd(theta):\n",
    "        count = 0 # 迭代轮次\n",
    "        converged = False\n",
    "        while count < maxLoop:\n",
    "            if converged:\n",
    "                break\n",
    "            for i in range(m):\n",
    "                h = sigmoid(np.dot(X[i].reshape((1,n)), theta))\n",
    "                theta = theta - alpha*((1.0/m)*X[i].reshape((n,1))*(h-y[i])+(theLambda/m)*np.r_[[[0]], theta[1:]])\n",
    "                \n",
    "                thetas.append(theta)\n",
    "                error = J(theta, X, y, theLambda)\n",
    "                errors.append(error)\n",
    "                if abs(errors[-1]- errors[-2])< epsilon:\n",
    "                    converged = True\n",
    "                    break\n",
    "            count += 1\n",
    "        return thetas, errors, count\n",
    "    \n",
    "    def _bgd(theta):\n",
    "        count = 0\n",
    "        converged = False\n",
    "        while count < maxLoop:\n",
    "            if converged:\n",
    "                break\n",
    "            h = sigmoid(np.dot(X, theta))\n",
    "            theta = theta - alpha*((1.0/m)*np.dot(X.T, (h-y)) +(theLambda/m)* np.r_[[[0]], theta[1:]])\n",
    "            \n",
    "            thetas.append(theta)\n",
    "            error = J(theta, X, y, theLambda)\n",
    "            errors.append(error)\n",
    "            \n",
    "            count+= 1\n",
    "            if abs(errors[-1]-errors[-2]) < epsilon:\n",
    "                converged = True\n",
    "                break\n",
    "        return thetas, errors, count\n",
    "    \n",
    "    methods = {'sgd': _sgd, 'bgd': _bgd}\n",
    "    return methods[method](theta)\n",
    "            \n",
    "                \n",
    "                \n",
    "                \n",
    "                "
   ]
  }
 ],
 "metadata": {
  "kernelspec": {
   "display_name": "Python 3",
   "language": "python",
   "name": "python3"
  },
  "language_info": {
   "codemirror_mode": {
    "name": "ipython",
    "version": 3
   },
   "file_extension": ".py",
   "mimetype": "text/x-python",
   "name": "python",
   "nbconvert_exporter": "python",
   "pygments_lexer": "ipython3",
   "version": "3.7.4"
  }
 },
 "nbformat": 4,
 "nbformat_minor": 2
}
