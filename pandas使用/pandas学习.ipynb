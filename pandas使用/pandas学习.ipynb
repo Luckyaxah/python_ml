{
 "cells": [
  {
   "cell_type": "markdown",
   "metadata": {},
   "source": [
    "# Series\n",
    "\n",
    "相对于np.array的固定整型索引，Series可以自定义索引"
   ]
  },
  {
   "cell_type": "markdown",
   "metadata": {},
   "source": [
    "# DataFrame\n",
    "\n",
    "相较于Numpy使用整型下标，它可使用自定义索引和列名，即Index和Columns\n",
    "\n",
    "- describe 数据各种描述性统计值\n",
    "- unique 数据独立值列表\n",
    "- value_count 各个值计数\n",
    "- hist 直接绘制直方图\n",
    "- plot 对matplotlib进行了简单封装\n"
   ]
  },
  {
   "cell_type": "code",
   "execution_count": 1,
   "metadata": {},
   "outputs": [],
   "source": [
    "import pandas as pd\n",
    "import numpy as np\n",
    "import matplotlib.pyplot as plt\n",
    "%matplotlib inline"
   ]
  },
  {
   "cell_type": "code",
   "execution_count": 4,
   "metadata": {},
   "outputs": [
    {
     "data": {
      "text/plain": [
       "0    1.0\n",
       "1    3.0\n",
       "2    5.0\n",
       "3    NaN\n",
       "4    6.0\n",
       "5    8.0\n",
       "dtype: float64"
      ]
     },
     "execution_count": 4,
     "metadata": {},
     "output_type": "execute_result"
    }
   ],
   "source": [
    "s = pd.Series([1,3,5,np.nan,6,8])\n",
    "s"
   ]
  },
  {
   "cell_type": "code",
   "execution_count": 7,
   "metadata": {},
   "outputs": [
    {
     "data": {
      "text/plain": [
       "DatetimeIndex(['2017-10-26', '2017-10-27', '2017-10-28', '2017-10-29',\n",
       "               '2017-10-30', '2017-10-31'],\n",
       "              dtype='datetime64[ns]', freq='D')"
      ]
     },
     "execution_count": 7,
     "metadata": {},
     "output_type": "execute_result"
    }
   ],
   "source": [
    "# 创建日期，从'20171026'开始，6天\n",
    "dates = pd.date_range('20171026', periods=6)\n",
    "dates"
   ]
  },
  {
   "cell_type": "code",
   "execution_count": 8,
   "metadata": {},
   "outputs": [
    {
     "data": {
      "text/html": [
       "<div>\n",
       "<style scoped>\n",
       "    .dataframe tbody tr th:only-of-type {\n",
       "        vertical-align: middle;\n",
       "    }\n",
       "\n",
       "    .dataframe tbody tr th {\n",
       "        vertical-align: top;\n",
       "    }\n",
       "\n",
       "    .dataframe thead th {\n",
       "        text-align: right;\n",
       "    }\n",
       "</style>\n",
       "<table border=\"1\" class=\"dataframe\">\n",
       "  <thead>\n",
       "    <tr style=\"text-align: right;\">\n",
       "      <th></th>\n",
       "      <th>A</th>\n",
       "      <th>B</th>\n",
       "      <th>C</th>\n",
       "      <th>D</th>\n",
       "    </tr>\n",
       "  </thead>\n",
       "  <tbody>\n",
       "    <tr>\n",
       "      <td>2017-10-26</td>\n",
       "      <td>0.232748</td>\n",
       "      <td>-0.045571</td>\n",
       "      <td>-0.025702</td>\n",
       "      <td>-0.291828</td>\n",
       "    </tr>\n",
       "    <tr>\n",
       "      <td>2017-10-27</td>\n",
       "      <td>1.160497</td>\n",
       "      <td>0.231349</td>\n",
       "      <td>-2.502108</td>\n",
       "      <td>0.463124</td>\n",
       "    </tr>\n",
       "    <tr>\n",
       "      <td>2017-10-28</td>\n",
       "      <td>2.128304</td>\n",
       "      <td>-0.004946</td>\n",
       "      <td>-0.039373</td>\n",
       "      <td>-0.859386</td>\n",
       "    </tr>\n",
       "    <tr>\n",
       "      <td>2017-10-29</td>\n",
       "      <td>-1.110714</td>\n",
       "      <td>2.423362</td>\n",
       "      <td>-0.401902</td>\n",
       "      <td>1.600937</td>\n",
       "    </tr>\n",
       "    <tr>\n",
       "      <td>2017-10-30</td>\n",
       "      <td>-0.751810</td>\n",
       "      <td>-0.422041</td>\n",
       "      <td>-1.032300</td>\n",
       "      <td>-0.704833</td>\n",
       "    </tr>\n",
       "    <tr>\n",
       "      <td>2017-10-31</td>\n",
       "      <td>-0.065249</td>\n",
       "      <td>1.540292</td>\n",
       "      <td>1.982090</td>\n",
       "      <td>0.375051</td>\n",
       "    </tr>\n",
       "  </tbody>\n",
       "</table>\n",
       "</div>"
      ],
      "text/plain": [
       "                   A         B         C         D\n",
       "2017-10-26  0.232748 -0.045571 -0.025702 -0.291828\n",
       "2017-10-27  1.160497  0.231349 -2.502108  0.463124\n",
       "2017-10-28  2.128304 -0.004946 -0.039373 -0.859386\n",
       "2017-10-29 -1.110714  2.423362 -0.401902  1.600937\n",
       "2017-10-30 -0.751810 -0.422041 -1.032300 -0.704833\n",
       "2017-10-31 -0.065249  1.540292  1.982090  0.375051"
      ]
     },
     "execution_count": 8,
     "metadata": {},
     "output_type": "execute_result"
    }
   ],
   "source": [
    "df = pd.DataFrame(np.random.randn(6,4), index=dates, columns=tuple('ABCD'))\n",
    "df"
   ]
  },
  {
   "cell_type": "code",
   "execution_count": 10,
   "metadata": {},
   "outputs": [
    {
     "data": {
      "text/html": [
       "<div>\n",
       "<style scoped>\n",
       "    .dataframe tbody tr th:only-of-type {\n",
       "        vertical-align: middle;\n",
       "    }\n",
       "\n",
       "    .dataframe tbody tr th {\n",
       "        vertical-align: top;\n",
       "    }\n",
       "\n",
       "    .dataframe thead th {\n",
       "        text-align: right;\n",
       "    }\n",
       "</style>\n",
       "<table border=\"1\" class=\"dataframe\">\n",
       "  <thead>\n",
       "    <tr style=\"text-align: right;\">\n",
       "      <th></th>\n",
       "      <th>A</th>\n",
       "      <th>B</th>\n",
       "      <th>C</th>\n",
       "      <th>D</th>\n",
       "      <th>E</th>\n",
       "      <th>F</th>\n",
       "    </tr>\n",
       "  </thead>\n",
       "  <tbody>\n",
       "    <tr>\n",
       "      <td>0</td>\n",
       "      <td>1.0</td>\n",
       "      <td>2017-10-26</td>\n",
       "      <td>1.0</td>\n",
       "      <td>3</td>\n",
       "      <td>test</td>\n",
       "      <td>foo</td>\n",
       "    </tr>\n",
       "    <tr>\n",
       "      <td>1</td>\n",
       "      <td>1.0</td>\n",
       "      <td>2017-10-26</td>\n",
       "      <td>1.0</td>\n",
       "      <td>3</td>\n",
       "      <td>train</td>\n",
       "      <td>foo</td>\n",
       "    </tr>\n",
       "    <tr>\n",
       "      <td>2</td>\n",
       "      <td>1.0</td>\n",
       "      <td>2017-10-26</td>\n",
       "      <td>1.0</td>\n",
       "      <td>3</td>\n",
       "      <td>test</td>\n",
       "      <td>foo</td>\n",
       "    </tr>\n",
       "    <tr>\n",
       "      <td>3</td>\n",
       "      <td>1.0</td>\n",
       "      <td>2017-10-26</td>\n",
       "      <td>1.0</td>\n",
       "      <td>3</td>\n",
       "      <td>train</td>\n",
       "      <td>foo</td>\n",
       "    </tr>\n",
       "  </tbody>\n",
       "</table>\n",
       "</div>"
      ],
      "text/plain": [
       "     A          B    C  D      E    F\n",
       "0  1.0 2017-10-26  1.0  3   test  foo\n",
       "1  1.0 2017-10-26  1.0  3  train  foo\n",
       "2  1.0 2017-10-26  1.0  3   test  foo\n",
       "3  1.0 2017-10-26  1.0  3  train  foo"
      ]
     },
     "execution_count": 10,
     "metadata": {},
     "output_type": "execute_result"
    }
   ],
   "source": [
    "df2 = pd.DataFrame({\n",
    "    'A': 1.,\n",
    "    'B': pd.Timestamp('20171026'),\n",
    "    'C': pd.Series(1, index=list(range(4)), dtype='float32'),\n",
    "    'D': np.array([3]*4, dtype='int32'),\n",
    "    'E': pd.Categorical(['test','train','test','train']), # 类别类型的数据\n",
    "    'F': 'foo'\n",
    "})\n",
    "df2"
   ]
  },
  {
   "cell_type": "code",
   "execution_count": 11,
   "metadata": {},
   "outputs": [
    {
     "data": {
      "text/plain": [
       "A           float64\n",
       "B    datetime64[ns]\n",
       "C           float32\n",
       "D             int32\n",
       "E          category\n",
       "F            object\n",
       "dtype: object"
      ]
     },
     "execution_count": 11,
     "metadata": {},
     "output_type": "execute_result"
    }
   ],
   "source": [
    "df2.dtypes"
   ]
  },
  {
   "cell_type": "code",
   "execution_count": 12,
   "metadata": {},
   "outputs": [
    {
     "data": {
      "text/plain": [
       "0    1.0\n",
       "1    1.0\n",
       "2    1.0\n",
       "3    1.0\n",
       "Name: C, dtype: float32"
      ]
     },
     "execution_count": 12,
     "metadata": {},
     "output_type": "execute_result"
    }
   ],
   "source": [
    "df2.C"
   ]
  },
  {
   "cell_type": "markdown",
   "metadata": {},
   "source": [
    "# 查看数据"
   ]
  },
  {
   "cell_type": "code",
   "execution_count": 13,
   "metadata": {},
   "outputs": [
    {
     "data": {
      "text/html": [
       "<div>\n",
       "<style scoped>\n",
       "    .dataframe tbody tr th:only-of-type {\n",
       "        vertical-align: middle;\n",
       "    }\n",
       "\n",
       "    .dataframe tbody tr th {\n",
       "        vertical-align: top;\n",
       "    }\n",
       "\n",
       "    .dataframe thead th {\n",
       "        text-align: right;\n",
       "    }\n",
       "</style>\n",
       "<table border=\"1\" class=\"dataframe\">\n",
       "  <thead>\n",
       "    <tr style=\"text-align: right;\">\n",
       "      <th></th>\n",
       "      <th>A</th>\n",
       "      <th>B</th>\n",
       "      <th>C</th>\n",
       "      <th>D</th>\n",
       "    </tr>\n",
       "  </thead>\n",
       "  <tbody>\n",
       "    <tr>\n",
       "      <td>2017-10-26</td>\n",
       "      <td>0.232748</td>\n",
       "      <td>-0.045571</td>\n",
       "      <td>-0.025702</td>\n",
       "      <td>-0.291828</td>\n",
       "    </tr>\n",
       "    <tr>\n",
       "      <td>2017-10-27</td>\n",
       "      <td>1.160497</td>\n",
       "      <td>0.231349</td>\n",
       "      <td>-2.502108</td>\n",
       "      <td>0.463124</td>\n",
       "    </tr>\n",
       "    <tr>\n",
       "      <td>2017-10-28</td>\n",
       "      <td>2.128304</td>\n",
       "      <td>-0.004946</td>\n",
       "      <td>-0.039373</td>\n",
       "      <td>-0.859386</td>\n",
       "    </tr>\n",
       "    <tr>\n",
       "      <td>2017-10-29</td>\n",
       "      <td>-1.110714</td>\n",
       "      <td>2.423362</td>\n",
       "      <td>-0.401902</td>\n",
       "      <td>1.600937</td>\n",
       "    </tr>\n",
       "    <tr>\n",
       "      <td>2017-10-30</td>\n",
       "      <td>-0.751810</td>\n",
       "      <td>-0.422041</td>\n",
       "      <td>-1.032300</td>\n",
       "      <td>-0.704833</td>\n",
       "    </tr>\n",
       "  </tbody>\n",
       "</table>\n",
       "</div>"
      ],
      "text/plain": [
       "                   A         B         C         D\n",
       "2017-10-26  0.232748 -0.045571 -0.025702 -0.291828\n",
       "2017-10-27  1.160497  0.231349 -2.502108  0.463124\n",
       "2017-10-28  2.128304 -0.004946 -0.039373 -0.859386\n",
       "2017-10-29 -1.110714  2.423362 -0.401902  1.600937\n",
       "2017-10-30 -0.751810 -0.422041 -1.032300 -0.704833"
      ]
     },
     "execution_count": 13,
     "metadata": {},
     "output_type": "execute_result"
    }
   ],
   "source": [
    "df.head()"
   ]
  },
  {
   "cell_type": "code",
   "execution_count": 14,
   "metadata": {},
   "outputs": [
    {
     "data": {
      "text/html": [
       "<div>\n",
       "<style scoped>\n",
       "    .dataframe tbody tr th:only-of-type {\n",
       "        vertical-align: middle;\n",
       "    }\n",
       "\n",
       "    .dataframe tbody tr th {\n",
       "        vertical-align: top;\n",
       "    }\n",
       "\n",
       "    .dataframe thead th {\n",
       "        text-align: right;\n",
       "    }\n",
       "</style>\n",
       "<table border=\"1\" class=\"dataframe\">\n",
       "  <thead>\n",
       "    <tr style=\"text-align: right;\">\n",
       "      <th></th>\n",
       "      <th>A</th>\n",
       "      <th>B</th>\n",
       "      <th>C</th>\n",
       "      <th>D</th>\n",
       "    </tr>\n",
       "  </thead>\n",
       "  <tbody>\n",
       "    <tr>\n",
       "      <td>2017-10-26</td>\n",
       "      <td>0.232748</td>\n",
       "      <td>-0.045571</td>\n",
       "      <td>-0.025702</td>\n",
       "      <td>-0.291828</td>\n",
       "    </tr>\n",
       "  </tbody>\n",
       "</table>\n",
       "</div>"
      ],
      "text/plain": [
       "                   A         B         C         D\n",
       "2017-10-26  0.232748 -0.045571 -0.025702 -0.291828"
      ]
     },
     "execution_count": 14,
     "metadata": {},
     "output_type": "execute_result"
    }
   ],
   "source": [
    "df.head(1)"
   ]
  },
  {
   "cell_type": "code",
   "execution_count": 15,
   "metadata": {},
   "outputs": [
    {
     "data": {
      "text/html": [
       "<div>\n",
       "<style scoped>\n",
       "    .dataframe tbody tr th:only-of-type {\n",
       "        vertical-align: middle;\n",
       "    }\n",
       "\n",
       "    .dataframe tbody tr th {\n",
       "        vertical-align: top;\n",
       "    }\n",
       "\n",
       "    .dataframe thead th {\n",
       "        text-align: right;\n",
       "    }\n",
       "</style>\n",
       "<table border=\"1\" class=\"dataframe\">\n",
       "  <thead>\n",
       "    <tr style=\"text-align: right;\">\n",
       "      <th></th>\n",
       "      <th>A</th>\n",
       "      <th>B</th>\n",
       "      <th>C</th>\n",
       "      <th>D</th>\n",
       "    </tr>\n",
       "  </thead>\n",
       "  <tbody>\n",
       "    <tr>\n",
       "      <td>2017-10-29</td>\n",
       "      <td>-1.110714</td>\n",
       "      <td>2.423362</td>\n",
       "      <td>-0.401902</td>\n",
       "      <td>1.600937</td>\n",
       "    </tr>\n",
       "    <tr>\n",
       "      <td>2017-10-30</td>\n",
       "      <td>-0.751810</td>\n",
       "      <td>-0.422041</td>\n",
       "      <td>-1.032300</td>\n",
       "      <td>-0.704833</td>\n",
       "    </tr>\n",
       "    <tr>\n",
       "      <td>2017-10-31</td>\n",
       "      <td>-0.065249</td>\n",
       "      <td>1.540292</td>\n",
       "      <td>1.982090</td>\n",
       "      <td>0.375051</td>\n",
       "    </tr>\n",
       "  </tbody>\n",
       "</table>\n",
       "</div>"
      ],
      "text/plain": [
       "                   A         B         C         D\n",
       "2017-10-29 -1.110714  2.423362 -0.401902  1.600937\n",
       "2017-10-30 -0.751810 -0.422041 -1.032300 -0.704833\n",
       "2017-10-31 -0.065249  1.540292  1.982090  0.375051"
      ]
     },
     "execution_count": 15,
     "metadata": {},
     "output_type": "execute_result"
    }
   ],
   "source": [
    "df.tail(3)"
   ]
  },
  {
   "cell_type": "code",
   "execution_count": 16,
   "metadata": {},
   "outputs": [
    {
     "data": {
      "text/plain": [
       "DatetimeIndex(['2017-10-26', '2017-10-27', '2017-10-28', '2017-10-29',\n",
       "               '2017-10-30', '2017-10-31'],\n",
       "              dtype='datetime64[ns]', freq='D')"
      ]
     },
     "execution_count": 16,
     "metadata": {},
     "output_type": "execute_result"
    }
   ],
   "source": [
    "df.index"
   ]
  },
  {
   "cell_type": "code",
   "execution_count": 18,
   "metadata": {},
   "outputs": [
    {
     "data": {
      "text/plain": [
       "Index(['A', 'B', 'C', 'D'], dtype='object')"
      ]
     },
     "execution_count": 18,
     "metadata": {},
     "output_type": "execute_result"
    }
   ],
   "source": [
    "df.columns"
   ]
  },
  {
   "cell_type": "code",
   "execution_count": 19,
   "metadata": {},
   "outputs": [
    {
     "data": {
      "text/plain": [
       "array([[ 0.23274837, -0.04557109, -0.02570227, -0.29182795],\n",
       "       [ 1.16049699,  0.23134908, -2.50210818,  0.46312374],\n",
       "       [ 2.12830355, -0.00494574, -0.03937331, -0.85938631],\n",
       "       [-1.11071439,  2.42336153, -0.40190229,  1.6009375 ],\n",
       "       [-0.75180982, -0.42204075, -1.03230027, -0.70483334],\n",
       "       [-0.06524869,  1.54029245,  1.9820901 ,  0.37505137]])"
      ]
     },
     "execution_count": 19,
     "metadata": {},
     "output_type": "execute_result"
    }
   ],
   "source": [
    "df.values"
   ]
  },
  {
   "cell_type": "code",
   "execution_count": 20,
   "metadata": {},
   "outputs": [
    {
     "data": {
      "text/html": [
       "<div>\n",
       "<style scoped>\n",
       "    .dataframe tbody tr th:only-of-type {\n",
       "        vertical-align: middle;\n",
       "    }\n",
       "\n",
       "    .dataframe tbody tr th {\n",
       "        vertical-align: top;\n",
       "    }\n",
       "\n",
       "    .dataframe thead th {\n",
       "        text-align: right;\n",
       "    }\n",
       "</style>\n",
       "<table border=\"1\" class=\"dataframe\">\n",
       "  <thead>\n",
       "    <tr style=\"text-align: right;\">\n",
       "      <th></th>\n",
       "      <th>A</th>\n",
       "      <th>B</th>\n",
       "      <th>C</th>\n",
       "      <th>D</th>\n",
       "    </tr>\n",
       "  </thead>\n",
       "  <tbody>\n",
       "    <tr>\n",
       "      <td>count</td>\n",
       "      <td>6.000000</td>\n",
       "      <td>6.000000</td>\n",
       "      <td>6.000000</td>\n",
       "      <td>6.000000</td>\n",
       "    </tr>\n",
       "    <tr>\n",
       "      <td>mean</td>\n",
       "      <td>0.265629</td>\n",
       "      <td>0.620408</td>\n",
       "      <td>-0.336549</td>\n",
       "      <td>0.097177</td>\n",
       "    </tr>\n",
       "    <tr>\n",
       "      <td>std</td>\n",
       "      <td>1.209166</td>\n",
       "      <td>1.110810</td>\n",
       "      <td>1.465538</td>\n",
       "      <td>0.914547</td>\n",
       "    </tr>\n",
       "    <tr>\n",
       "      <td>min</td>\n",
       "      <td>-1.110714</td>\n",
       "      <td>-0.422041</td>\n",
       "      <td>-2.502108</td>\n",
       "      <td>-0.859386</td>\n",
       "    </tr>\n",
       "    <tr>\n",
       "      <td>25%</td>\n",
       "      <td>-0.580170</td>\n",
       "      <td>-0.035415</td>\n",
       "      <td>-0.874701</td>\n",
       "      <td>-0.601582</td>\n",
       "    </tr>\n",
       "    <tr>\n",
       "      <td>50%</td>\n",
       "      <td>0.083750</td>\n",
       "      <td>0.113202</td>\n",
       "      <td>-0.220638</td>\n",
       "      <td>0.041612</td>\n",
       "    </tr>\n",
       "    <tr>\n",
       "      <td>75%</td>\n",
       "      <td>0.928560</td>\n",
       "      <td>1.213057</td>\n",
       "      <td>-0.029120</td>\n",
       "      <td>0.441106</td>\n",
       "    </tr>\n",
       "    <tr>\n",
       "      <td>max</td>\n",
       "      <td>2.128304</td>\n",
       "      <td>2.423362</td>\n",
       "      <td>1.982090</td>\n",
       "      <td>1.600937</td>\n",
       "    </tr>\n",
       "  </tbody>\n",
       "</table>\n",
       "</div>"
      ],
      "text/plain": [
       "              A         B         C         D\n",
       "count  6.000000  6.000000  6.000000  6.000000\n",
       "mean   0.265629  0.620408 -0.336549  0.097177\n",
       "std    1.209166  1.110810  1.465538  0.914547\n",
       "min   -1.110714 -0.422041 -2.502108 -0.859386\n",
       "25%   -0.580170 -0.035415 -0.874701 -0.601582\n",
       "50%    0.083750  0.113202 -0.220638  0.041612\n",
       "75%    0.928560  1.213057 -0.029120  0.441106\n",
       "max    2.128304  2.423362  1.982090  1.600937"
      ]
     },
     "execution_count": 20,
     "metadata": {},
     "output_type": "execute_result"
    }
   ],
   "source": [
    "df.describe()"
   ]
  },
  {
   "cell_type": "code",
   "execution_count": 21,
   "metadata": {},
   "outputs": [
    {
     "data": {
      "text/html": [
       "<div>\n",
       "<style scoped>\n",
       "    .dataframe tbody tr th:only-of-type {\n",
       "        vertical-align: middle;\n",
       "    }\n",
       "\n",
       "    .dataframe tbody tr th {\n",
       "        vertical-align: top;\n",
       "    }\n",
       "\n",
       "    .dataframe thead th {\n",
       "        text-align: right;\n",
       "    }\n",
       "</style>\n",
       "<table border=\"1\" class=\"dataframe\">\n",
       "  <thead>\n",
       "    <tr style=\"text-align: right;\">\n",
       "      <th></th>\n",
       "      <th>2017-10-26</th>\n",
       "      <th>2017-10-27</th>\n",
       "      <th>2017-10-28</th>\n",
       "      <th>2017-10-29</th>\n",
       "      <th>2017-10-30</th>\n",
       "      <th>2017-10-31</th>\n",
       "    </tr>\n",
       "  </thead>\n",
       "  <tbody>\n",
       "    <tr>\n",
       "      <td>A</td>\n",
       "      <td>0.232748</td>\n",
       "      <td>1.160497</td>\n",
       "      <td>2.128304</td>\n",
       "      <td>-1.110714</td>\n",
       "      <td>-0.751810</td>\n",
       "      <td>-0.065249</td>\n",
       "    </tr>\n",
       "    <tr>\n",
       "      <td>B</td>\n",
       "      <td>-0.045571</td>\n",
       "      <td>0.231349</td>\n",
       "      <td>-0.004946</td>\n",
       "      <td>2.423362</td>\n",
       "      <td>-0.422041</td>\n",
       "      <td>1.540292</td>\n",
       "    </tr>\n",
       "    <tr>\n",
       "      <td>C</td>\n",
       "      <td>-0.025702</td>\n",
       "      <td>-2.502108</td>\n",
       "      <td>-0.039373</td>\n",
       "      <td>-0.401902</td>\n",
       "      <td>-1.032300</td>\n",
       "      <td>1.982090</td>\n",
       "    </tr>\n",
       "    <tr>\n",
       "      <td>D</td>\n",
       "      <td>-0.291828</td>\n",
       "      <td>0.463124</td>\n",
       "      <td>-0.859386</td>\n",
       "      <td>1.600937</td>\n",
       "      <td>-0.704833</td>\n",
       "      <td>0.375051</td>\n",
       "    </tr>\n",
       "  </tbody>\n",
       "</table>\n",
       "</div>"
      ],
      "text/plain": [
       "   2017-10-26  2017-10-27  2017-10-28  2017-10-29  2017-10-30  2017-10-31\n",
       "A    0.232748    1.160497    2.128304   -1.110714   -0.751810   -0.065249\n",
       "B   -0.045571    0.231349   -0.004946    2.423362   -0.422041    1.540292\n",
       "C   -0.025702   -2.502108   -0.039373   -0.401902   -1.032300    1.982090\n",
       "D   -0.291828    0.463124   -0.859386    1.600937   -0.704833    0.375051"
      ]
     },
     "execution_count": 21,
     "metadata": {},
     "output_type": "execute_result"
    }
   ],
   "source": [
    "df.T"
   ]
  },
  {
   "cell_type": "code",
   "execution_count": 22,
   "metadata": {},
   "outputs": [
    {
     "data": {
      "text/html": [
       "<div>\n",
       "<style scoped>\n",
       "    .dataframe tbody tr th:only-of-type {\n",
       "        vertical-align: middle;\n",
       "    }\n",
       "\n",
       "    .dataframe tbody tr th {\n",
       "        vertical-align: top;\n",
       "    }\n",
       "\n",
       "    .dataframe thead th {\n",
       "        text-align: right;\n",
       "    }\n",
       "</style>\n",
       "<table border=\"1\" class=\"dataframe\">\n",
       "  <thead>\n",
       "    <tr style=\"text-align: right;\">\n",
       "      <th></th>\n",
       "      <th>D</th>\n",
       "      <th>C</th>\n",
       "      <th>B</th>\n",
       "      <th>A</th>\n",
       "    </tr>\n",
       "  </thead>\n",
       "  <tbody>\n",
       "    <tr>\n",
       "      <td>2017-10-26</td>\n",
       "      <td>-0.291828</td>\n",
       "      <td>-0.025702</td>\n",
       "      <td>-0.045571</td>\n",
       "      <td>0.232748</td>\n",
       "    </tr>\n",
       "    <tr>\n",
       "      <td>2017-10-27</td>\n",
       "      <td>0.463124</td>\n",
       "      <td>-2.502108</td>\n",
       "      <td>0.231349</td>\n",
       "      <td>1.160497</td>\n",
       "    </tr>\n",
       "    <tr>\n",
       "      <td>2017-10-28</td>\n",
       "      <td>-0.859386</td>\n",
       "      <td>-0.039373</td>\n",
       "      <td>-0.004946</td>\n",
       "      <td>2.128304</td>\n",
       "    </tr>\n",
       "    <tr>\n",
       "      <td>2017-10-29</td>\n",
       "      <td>1.600937</td>\n",
       "      <td>-0.401902</td>\n",
       "      <td>2.423362</td>\n",
       "      <td>-1.110714</td>\n",
       "    </tr>\n",
       "    <tr>\n",
       "      <td>2017-10-30</td>\n",
       "      <td>-0.704833</td>\n",
       "      <td>-1.032300</td>\n",
       "      <td>-0.422041</td>\n",
       "      <td>-0.751810</td>\n",
       "    </tr>\n",
       "    <tr>\n",
       "      <td>2017-10-31</td>\n",
       "      <td>0.375051</td>\n",
       "      <td>1.982090</td>\n",
       "      <td>1.540292</td>\n",
       "      <td>-0.065249</td>\n",
       "    </tr>\n",
       "  </tbody>\n",
       "</table>\n",
       "</div>"
      ],
      "text/plain": [
       "                   D         C         B         A\n",
       "2017-10-26 -0.291828 -0.025702 -0.045571  0.232748\n",
       "2017-10-27  0.463124 -2.502108  0.231349  1.160497\n",
       "2017-10-28 -0.859386 -0.039373 -0.004946  2.128304\n",
       "2017-10-29  1.600937 -0.401902  2.423362 -1.110714\n",
       "2017-10-30 -0.704833 -1.032300 -0.422041 -0.751810\n",
       "2017-10-31  0.375051  1.982090  1.540292 -0.065249"
      ]
     },
     "execution_count": 22,
     "metadata": {},
     "output_type": "execute_result"
    }
   ],
   "source": [
    "df.sort_index(axis=1, ascending= False)"
   ]
  },
  {
   "cell_type": "code",
   "execution_count": 24,
   "metadata": {},
   "outputs": [
    {
     "data": {
      "text/html": [
       "<div>\n",
       "<style scoped>\n",
       "    .dataframe tbody tr th:only-of-type {\n",
       "        vertical-align: middle;\n",
       "    }\n",
       "\n",
       "    .dataframe tbody tr th {\n",
       "        vertical-align: top;\n",
       "    }\n",
       "\n",
       "    .dataframe thead th {\n",
       "        text-align: right;\n",
       "    }\n",
       "</style>\n",
       "<table border=\"1\" class=\"dataframe\">\n",
       "  <thead>\n",
       "    <tr style=\"text-align: right;\">\n",
       "      <th></th>\n",
       "      <th>A</th>\n",
       "      <th>B</th>\n",
       "      <th>C</th>\n",
       "      <th>D</th>\n",
       "    </tr>\n",
       "  </thead>\n",
       "  <tbody>\n",
       "    <tr>\n",
       "      <td>2017-10-31</td>\n",
       "      <td>-0.065249</td>\n",
       "      <td>1.540292</td>\n",
       "      <td>1.982090</td>\n",
       "      <td>0.375051</td>\n",
       "    </tr>\n",
       "    <tr>\n",
       "      <td>2017-10-30</td>\n",
       "      <td>-0.751810</td>\n",
       "      <td>-0.422041</td>\n",
       "      <td>-1.032300</td>\n",
       "      <td>-0.704833</td>\n",
       "    </tr>\n",
       "    <tr>\n",
       "      <td>2017-10-29</td>\n",
       "      <td>-1.110714</td>\n",
       "      <td>2.423362</td>\n",
       "      <td>-0.401902</td>\n",
       "      <td>1.600937</td>\n",
       "    </tr>\n",
       "    <tr>\n",
       "      <td>2017-10-28</td>\n",
       "      <td>2.128304</td>\n",
       "      <td>-0.004946</td>\n",
       "      <td>-0.039373</td>\n",
       "      <td>-0.859386</td>\n",
       "    </tr>\n",
       "    <tr>\n",
       "      <td>2017-10-27</td>\n",
       "      <td>1.160497</td>\n",
       "      <td>0.231349</td>\n",
       "      <td>-2.502108</td>\n",
       "      <td>0.463124</td>\n",
       "    </tr>\n",
       "    <tr>\n",
       "      <td>2017-10-26</td>\n",
       "      <td>0.232748</td>\n",
       "      <td>-0.045571</td>\n",
       "      <td>-0.025702</td>\n",
       "      <td>-0.291828</td>\n",
       "    </tr>\n",
       "  </tbody>\n",
       "</table>\n",
       "</div>"
      ],
      "text/plain": [
       "                   A         B         C         D\n",
       "2017-10-31 -0.065249  1.540292  1.982090  0.375051\n",
       "2017-10-30 -0.751810 -0.422041 -1.032300 -0.704833\n",
       "2017-10-29 -1.110714  2.423362 -0.401902  1.600937\n",
       "2017-10-28  2.128304 -0.004946 -0.039373 -0.859386\n",
       "2017-10-27  1.160497  0.231349 -2.502108  0.463124\n",
       "2017-10-26  0.232748 -0.045571 -0.025702 -0.291828"
      ]
     },
     "execution_count": 24,
     "metadata": {},
     "output_type": "execute_result"
    }
   ],
   "source": [
    "df.sort_index(axis=0, ascending=False)"
   ]
  },
  {
   "cell_type": "code",
   "execution_count": 23,
   "metadata": {},
   "outputs": [
    {
     "data": {
      "text/html": [
       "<div>\n",
       "<style scoped>\n",
       "    .dataframe tbody tr th:only-of-type {\n",
       "        vertical-align: middle;\n",
       "    }\n",
       "\n",
       "    .dataframe tbody tr th {\n",
       "        vertical-align: top;\n",
       "    }\n",
       "\n",
       "    .dataframe thead th {\n",
       "        text-align: right;\n",
       "    }\n",
       "</style>\n",
       "<table border=\"1\" class=\"dataframe\">\n",
       "  <thead>\n",
       "    <tr style=\"text-align: right;\">\n",
       "      <th></th>\n",
       "      <th>A</th>\n",
       "      <th>B</th>\n",
       "      <th>C</th>\n",
       "      <th>D</th>\n",
       "    </tr>\n",
       "  </thead>\n",
       "  <tbody>\n",
       "    <tr>\n",
       "      <td>2017-10-30</td>\n",
       "      <td>-0.751810</td>\n",
       "      <td>-0.422041</td>\n",
       "      <td>-1.032300</td>\n",
       "      <td>-0.704833</td>\n",
       "    </tr>\n",
       "    <tr>\n",
       "      <td>2017-10-26</td>\n",
       "      <td>0.232748</td>\n",
       "      <td>-0.045571</td>\n",
       "      <td>-0.025702</td>\n",
       "      <td>-0.291828</td>\n",
       "    </tr>\n",
       "    <tr>\n",
       "      <td>2017-10-28</td>\n",
       "      <td>2.128304</td>\n",
       "      <td>-0.004946</td>\n",
       "      <td>-0.039373</td>\n",
       "      <td>-0.859386</td>\n",
       "    </tr>\n",
       "    <tr>\n",
       "      <td>2017-10-27</td>\n",
       "      <td>1.160497</td>\n",
       "      <td>0.231349</td>\n",
       "      <td>-2.502108</td>\n",
       "      <td>0.463124</td>\n",
       "    </tr>\n",
       "    <tr>\n",
       "      <td>2017-10-31</td>\n",
       "      <td>-0.065249</td>\n",
       "      <td>1.540292</td>\n",
       "      <td>1.982090</td>\n",
       "      <td>0.375051</td>\n",
       "    </tr>\n",
       "    <tr>\n",
       "      <td>2017-10-29</td>\n",
       "      <td>-1.110714</td>\n",
       "      <td>2.423362</td>\n",
       "      <td>-0.401902</td>\n",
       "      <td>1.600937</td>\n",
       "    </tr>\n",
       "  </tbody>\n",
       "</table>\n",
       "</div>"
      ],
      "text/plain": [
       "                   A         B         C         D\n",
       "2017-10-30 -0.751810 -0.422041 -1.032300 -0.704833\n",
       "2017-10-26  0.232748 -0.045571 -0.025702 -0.291828\n",
       "2017-10-28  2.128304 -0.004946 -0.039373 -0.859386\n",
       "2017-10-27  1.160497  0.231349 -2.502108  0.463124\n",
       "2017-10-31 -0.065249  1.540292  1.982090  0.375051\n",
       "2017-10-29 -1.110714  2.423362 -0.401902  1.600937"
      ]
     },
     "execution_count": 23,
     "metadata": {},
     "output_type": "execute_result"
    }
   ],
   "source": [
    "df.sort_values(by='B')"
   ]
  },
  {
   "cell_type": "markdown",
   "metadata": {},
   "source": [
    "# 选择数据\n",
    "\n",
    "- 选择列 df[col]    Series\n",
    "- 选择行 df.loc[label]    Series\n",
    "- 选择列、行    df.loc[index,column]    DataFrame\n",
    "- 使用位置选择行。  df.iloc[loc]   Series  # 这里iloc是整型数据，和传统一样\n",
    "- 选择行列.   df.iloc[v_loc, h_loc]\n",
    "- 行切片.   df[5:10], df[index1:index2]  # 中括号内传入切片时，返回的是行\n",
    "- 使用布尔向量选择行   df[bool_vec] "
   ]
  },
  {
   "cell_type": "markdown",
   "metadata": {},
   "source": [
    "# 访问数据"
   ]
  },
  {
   "cell_type": "code",
   "execution_count": 25,
   "metadata": {},
   "outputs": [
    {
     "data": {
      "text/plain": [
       "2017-10-26    0.232748\n",
       "2017-10-27    1.160497\n",
       "2017-10-28    2.128304\n",
       "2017-10-29   -1.110714\n",
       "2017-10-30   -0.751810\n",
       "2017-10-31   -0.065249\n",
       "Freq: D, Name: A, dtype: float64"
      ]
     },
     "execution_count": 25,
     "metadata": {},
     "output_type": "execute_result"
    }
   ],
   "source": [
    "df['A'] #获取列"
   ]
  },
  {
   "cell_type": "code",
   "execution_count": 26,
   "metadata": {},
   "outputs": [
    {
     "data": {
      "text/html": [
       "<div>\n",
       "<style scoped>\n",
       "    .dataframe tbody tr th:only-of-type {\n",
       "        vertical-align: middle;\n",
       "    }\n",
       "\n",
       "    .dataframe tbody tr th {\n",
       "        vertical-align: top;\n",
       "    }\n",
       "\n",
       "    .dataframe thead th {\n",
       "        text-align: right;\n",
       "    }\n",
       "</style>\n",
       "<table border=\"1\" class=\"dataframe\">\n",
       "  <thead>\n",
       "    <tr style=\"text-align: right;\">\n",
       "      <th></th>\n",
       "      <th>A</th>\n",
       "      <th>B</th>\n",
       "      <th>C</th>\n",
       "      <th>D</th>\n",
       "    </tr>\n",
       "  </thead>\n",
       "  <tbody>\n",
       "    <tr>\n",
       "      <td>2017-10-26</td>\n",
       "      <td>0.232748</td>\n",
       "      <td>-0.045571</td>\n",
       "      <td>-0.025702</td>\n",
       "      <td>-0.291828</td>\n",
       "    </tr>\n",
       "    <tr>\n",
       "      <td>2017-10-27</td>\n",
       "      <td>1.160497</td>\n",
       "      <td>0.231349</td>\n",
       "      <td>-2.502108</td>\n",
       "      <td>0.463124</td>\n",
       "    </tr>\n",
       "    <tr>\n",
       "      <td>2017-10-28</td>\n",
       "      <td>2.128304</td>\n",
       "      <td>-0.004946</td>\n",
       "      <td>-0.039373</td>\n",
       "      <td>-0.859386</td>\n",
       "    </tr>\n",
       "  </tbody>\n",
       "</table>\n",
       "</div>"
      ],
      "text/plain": [
       "                   A         B         C         D\n",
       "2017-10-26  0.232748 -0.045571 -0.025702 -0.291828\n",
       "2017-10-27  1.160497  0.231349 -2.502108  0.463124\n",
       "2017-10-28  2.128304 -0.004946 -0.039373 -0.859386"
      ]
     },
     "execution_count": 26,
     "metadata": {},
     "output_type": "execute_result"
    }
   ],
   "source": [
    "df[0:3] # 切片方式获取行"
   ]
  },
  {
   "cell_type": "code",
   "execution_count": 33,
   "metadata": {},
   "outputs": [
    {
     "data": {
      "text/html": [
       "<div>\n",
       "<style scoped>\n",
       "    .dataframe tbody tr th:only-of-type {\n",
       "        vertical-align: middle;\n",
       "    }\n",
       "\n",
       "    .dataframe tbody tr th {\n",
       "        vertical-align: top;\n",
       "    }\n",
       "\n",
       "    .dataframe thead th {\n",
       "        text-align: right;\n",
       "    }\n",
       "</style>\n",
       "<table border=\"1\" class=\"dataframe\">\n",
       "  <thead>\n",
       "    <tr style=\"text-align: right;\">\n",
       "      <th></th>\n",
       "      <th>A</th>\n",
       "      <th>C</th>\n",
       "    </tr>\n",
       "  </thead>\n",
       "  <tbody>\n",
       "    <tr>\n",
       "      <td>2017-10-26</td>\n",
       "      <td>0.232748</td>\n",
       "      <td>-0.025702</td>\n",
       "    </tr>\n",
       "    <tr>\n",
       "      <td>2017-10-27</td>\n",
       "      <td>1.160497</td>\n",
       "      <td>-2.502108</td>\n",
       "    </tr>\n",
       "    <tr>\n",
       "      <td>2017-10-28</td>\n",
       "      <td>2.128304</td>\n",
       "      <td>-0.039373</td>\n",
       "    </tr>\n",
       "    <tr>\n",
       "      <td>2017-10-29</td>\n",
       "      <td>-1.110714</td>\n",
       "      <td>-0.401902</td>\n",
       "    </tr>\n",
       "    <tr>\n",
       "      <td>2017-10-30</td>\n",
       "      <td>-0.751810</td>\n",
       "      <td>-1.032300</td>\n",
       "    </tr>\n",
       "    <tr>\n",
       "      <td>2017-10-31</td>\n",
       "      <td>-0.065249</td>\n",
       "      <td>1.982090</td>\n",
       "    </tr>\n",
       "  </tbody>\n",
       "</table>\n",
       "</div>"
      ],
      "text/plain": [
       "                   A         C\n",
       "2017-10-26  0.232748 -0.025702\n",
       "2017-10-27  1.160497 -2.502108\n",
       "2017-10-28  2.128304 -0.039373\n",
       "2017-10-29 -1.110714 -0.401902\n",
       "2017-10-30 -0.751810 -1.032300\n",
       "2017-10-31 -0.065249  1.982090"
      ]
     },
     "execution_count": 33,
     "metadata": {},
     "output_type": "execute_result"
    }
   ],
   "source": [
    "df[['A','C']] # 单独选择两列"
   ]
  },
  {
   "cell_type": "code",
   "execution_count": 34,
   "metadata": {},
   "outputs": [
    {
     "ename": "SyntaxError",
     "evalue": "invalid syntax (<ipython-input-34-52fed86c4638>, line 1)",
     "output_type": "error",
     "traceback": [
      "\u001b[0;36m  File \u001b[0;32m\"<ipython-input-34-52fed86c4638>\"\u001b[0;36m, line \u001b[0;32m1\u001b[0m\n\u001b[0;31m    df[[0,2:3]]\u001b[0m\n\u001b[0m           ^\u001b[0m\n\u001b[0;31mSyntaxError\u001b[0m\u001b[0;31m:\u001b[0m invalid syntax\n"
     ]
    }
   ],
   "source": [
    "df[[0,2:3]]"
   ]
  },
  {
   "cell_type": "code",
   "execution_count": 36,
   "metadata": {},
   "outputs": [
    {
     "data": {
      "text/html": [
       "<div>\n",
       "<style scoped>\n",
       "    .dataframe tbody tr th:only-of-type {\n",
       "        vertical-align: middle;\n",
       "    }\n",
       "\n",
       "    .dataframe tbody tr th {\n",
       "        vertical-align: top;\n",
       "    }\n",
       "\n",
       "    .dataframe thead th {\n",
       "        text-align: right;\n",
       "    }\n",
       "</style>\n",
       "<table border=\"1\" class=\"dataframe\">\n",
       "  <thead>\n",
       "    <tr style=\"text-align: right;\">\n",
       "      <th></th>\n",
       "      <th>A</th>\n",
       "      <th>B</th>\n",
       "      <th>C</th>\n",
       "      <th>D</th>\n",
       "    </tr>\n",
       "  </thead>\n",
       "  <tbody>\n",
       "    <tr>\n",
       "      <td>2017-10-26</td>\n",
       "      <td>0.232748</td>\n",
       "      <td>-0.045571</td>\n",
       "      <td>-0.025702</td>\n",
       "      <td>-0.291828</td>\n",
       "    </tr>\n",
       "  </tbody>\n",
       "</table>\n",
       "</div>"
      ],
      "text/plain": [
       "                   A         B         C         D\n",
       "2017-10-26  0.232748 -0.045571 -0.025702 -0.291828"
      ]
     },
     "execution_count": 36,
     "metadata": {},
     "output_type": "execute_result"
    }
   ],
   "source": [
    "df[0:1]"
   ]
  },
  {
   "cell_type": "code",
   "execution_count": 37,
   "metadata": {},
   "outputs": [
    {
     "data": {
      "text/html": [
       "<div>\n",
       "<style scoped>\n",
       "    .dataframe tbody tr th:only-of-type {\n",
       "        vertical-align: middle;\n",
       "    }\n",
       "\n",
       "    .dataframe tbody tr th {\n",
       "        vertical-align: top;\n",
       "    }\n",
       "\n",
       "    .dataframe thead th {\n",
       "        text-align: right;\n",
       "    }\n",
       "</style>\n",
       "<table border=\"1\" class=\"dataframe\">\n",
       "  <thead>\n",
       "    <tr style=\"text-align: right;\">\n",
       "      <th></th>\n",
       "      <th>A</th>\n",
       "      <th>B</th>\n",
       "      <th>C</th>\n",
       "      <th>D</th>\n",
       "    </tr>\n",
       "  </thead>\n",
       "  <tbody>\n",
       "    <tr>\n",
       "      <td>2017-10-26</td>\n",
       "      <td>0.232748</td>\n",
       "      <td>-0.045571</td>\n",
       "      <td>-0.025702</td>\n",
       "      <td>-0.291828</td>\n",
       "    </tr>\n",
       "    <tr>\n",
       "      <td>2017-10-27</td>\n",
       "      <td>1.160497</td>\n",
       "      <td>0.231349</td>\n",
       "      <td>-2.502108</td>\n",
       "      <td>0.463124</td>\n",
       "    </tr>\n",
       "    <tr>\n",
       "      <td>2017-10-28</td>\n",
       "      <td>2.128304</td>\n",
       "      <td>-0.004946</td>\n",
       "      <td>-0.039373</td>\n",
       "      <td>-0.859386</td>\n",
       "    </tr>\n",
       "  </tbody>\n",
       "</table>\n",
       "</div>"
      ],
      "text/plain": [
       "                   A         B         C         D\n",
       "2017-10-26  0.232748 -0.045571 -0.025702 -0.291828\n",
       "2017-10-27  1.160497  0.231349 -2.502108  0.463124\n",
       "2017-10-28  2.128304 -0.004946 -0.039373 -0.859386"
      ]
     },
     "execution_count": 37,
     "metadata": {},
     "output_type": "execute_result"
    }
   ],
   "source": [
    "df['20171026':'20171028'] # 这是string类型，所以结束值也会被返回"
   ]
  },
  {
   "cell_type": "markdown",
   "metadata": {},
   "source": [
    "# 使用标签选择数据"
   ]
  },
  {
   "cell_type": "code",
   "execution_count": 39,
   "metadata": {},
   "outputs": [
    {
     "data": {
      "text/plain": [
       "A    0.232748\n",
       "B   -0.045571\n",
       "C   -0.025702\n",
       "D   -0.291828\n",
       "Name: 2017-10-26 00:00:00, dtype: float64"
      ]
     },
     "execution_count": 39,
     "metadata": {},
     "output_type": "execute_result"
    }
   ],
   "source": [
    "df.loc[dates[0]]"
   ]
  },
  {
   "cell_type": "code",
   "execution_count": 40,
   "metadata": {},
   "outputs": [
    {
     "data": {
      "text/html": [
       "<div>\n",
       "<style scoped>\n",
       "    .dataframe tbody tr th:only-of-type {\n",
       "        vertical-align: middle;\n",
       "    }\n",
       "\n",
       "    .dataframe tbody tr th {\n",
       "        vertical-align: top;\n",
       "    }\n",
       "\n",
       "    .dataframe thead th {\n",
       "        text-align: right;\n",
       "    }\n",
       "</style>\n",
       "<table border=\"1\" class=\"dataframe\">\n",
       "  <thead>\n",
       "    <tr style=\"text-align: right;\">\n",
       "      <th></th>\n",
       "      <th>A</th>\n",
       "      <th>B</th>\n",
       "    </tr>\n",
       "  </thead>\n",
       "  <tbody>\n",
       "    <tr>\n",
       "      <td>2017-10-26</td>\n",
       "      <td>0.232748</td>\n",
       "      <td>-0.045571</td>\n",
       "    </tr>\n",
       "    <tr>\n",
       "      <td>2017-10-27</td>\n",
       "      <td>1.160497</td>\n",
       "      <td>0.231349</td>\n",
       "    </tr>\n",
       "    <tr>\n",
       "      <td>2017-10-28</td>\n",
       "      <td>2.128304</td>\n",
       "      <td>-0.004946</td>\n",
       "    </tr>\n",
       "    <tr>\n",
       "      <td>2017-10-29</td>\n",
       "      <td>-1.110714</td>\n",
       "      <td>2.423362</td>\n",
       "    </tr>\n",
       "    <tr>\n",
       "      <td>2017-10-30</td>\n",
       "      <td>-0.751810</td>\n",
       "      <td>-0.422041</td>\n",
       "    </tr>\n",
       "    <tr>\n",
       "      <td>2017-10-31</td>\n",
       "      <td>-0.065249</td>\n",
       "      <td>1.540292</td>\n",
       "    </tr>\n",
       "  </tbody>\n",
       "</table>\n",
       "</div>"
      ],
      "text/plain": [
       "                   A         B\n",
       "2017-10-26  0.232748 -0.045571\n",
       "2017-10-27  1.160497  0.231349\n",
       "2017-10-28  2.128304 -0.004946\n",
       "2017-10-29 -1.110714  2.423362\n",
       "2017-10-30 -0.751810 -0.422041\n",
       "2017-10-31 -0.065249  1.540292"
      ]
     },
     "execution_count": 40,
     "metadata": {},
     "output_type": "execute_result"
    }
   ],
   "source": [
    "df.loc[:,['A','B']]"
   ]
  },
  {
   "cell_type": "code",
   "execution_count": 42,
   "metadata": {},
   "outputs": [
    {
     "data": {
      "text/html": [
       "<div>\n",
       "<style scoped>\n",
       "    .dataframe tbody tr th:only-of-type {\n",
       "        vertical-align: middle;\n",
       "    }\n",
       "\n",
       "    .dataframe tbody tr th {\n",
       "        vertical-align: top;\n",
       "    }\n",
       "\n",
       "    .dataframe thead th {\n",
       "        text-align: right;\n",
       "    }\n",
       "</style>\n",
       "<table border=\"1\" class=\"dataframe\">\n",
       "  <thead>\n",
       "    <tr style=\"text-align: right;\">\n",
       "      <th></th>\n",
       "      <th>A</th>\n",
       "      <th>B</th>\n",
       "    </tr>\n",
       "  </thead>\n",
       "  <tbody>\n",
       "    <tr>\n",
       "      <td>2017-10-26</td>\n",
       "      <td>0.232748</td>\n",
       "      <td>-0.045571</td>\n",
       "    </tr>\n",
       "    <tr>\n",
       "      <td>2017-10-27</td>\n",
       "      <td>1.160497</td>\n",
       "      <td>0.231349</td>\n",
       "    </tr>\n",
       "    <tr>\n",
       "      <td>2017-10-28</td>\n",
       "      <td>2.128304</td>\n",
       "      <td>-0.004946</td>\n",
       "    </tr>\n",
       "  </tbody>\n",
       "</table>\n",
       "</div>"
      ],
      "text/plain": [
       "                   A         B\n",
       "2017-10-26  0.232748 -0.045571\n",
       "2017-10-27  1.160497  0.231349\n",
       "2017-10-28  2.128304 -0.004946"
      ]
     },
     "execution_count": 42,
     "metadata": {},
     "output_type": "execute_result"
    }
   ],
   "source": [
    "df.loc['20171026':'20171028',['A','B']]"
   ]
  },
  {
   "cell_type": "code",
   "execution_count": 43,
   "metadata": {},
   "outputs": [
    {
     "data": {
      "text/html": [
       "<div>\n",
       "<style scoped>\n",
       "    .dataframe tbody tr th:only-of-type {\n",
       "        vertical-align: middle;\n",
       "    }\n",
       "\n",
       "    .dataframe tbody tr th {\n",
       "        vertical-align: top;\n",
       "    }\n",
       "\n",
       "    .dataframe thead th {\n",
       "        text-align: right;\n",
       "    }\n",
       "</style>\n",
       "<table border=\"1\" class=\"dataframe\">\n",
       "  <thead>\n",
       "    <tr style=\"text-align: right;\">\n",
       "      <th></th>\n",
       "      <th>A</th>\n",
       "      <th>B</th>\n",
       "    </tr>\n",
       "  </thead>\n",
       "  <tbody>\n",
       "    <tr>\n",
       "      <td>2017-10-26</td>\n",
       "      <td>0.232748</td>\n",
       "      <td>-0.045571</td>\n",
       "    </tr>\n",
       "    <tr>\n",
       "      <td>2017-10-27</td>\n",
       "      <td>1.160497</td>\n",
       "      <td>0.231349</td>\n",
       "    </tr>\n",
       "    <tr>\n",
       "      <td>2017-10-28</td>\n",
       "      <td>2.128304</td>\n",
       "      <td>-0.004946</td>\n",
       "    </tr>\n",
       "  </tbody>\n",
       "</table>\n",
       "</div>"
      ],
      "text/plain": [
       "                   A         B\n",
       "2017-10-26  0.232748 -0.045571\n",
       "2017-10-27  1.160497  0.231349\n",
       "2017-10-28  2.128304 -0.004946"
      ]
     },
     "execution_count": 43,
     "metadata": {},
     "output_type": "execute_result"
    }
   ],
   "source": [
    "df.loc['20171026':'20171028','A':'B']"
   ]
  },
  {
   "cell_type": "code",
   "execution_count": 44,
   "metadata": {},
   "outputs": [
    {
     "data": {
      "text/html": [
       "<div>\n",
       "<style scoped>\n",
       "    .dataframe tbody tr th:only-of-type {\n",
       "        vertical-align: middle;\n",
       "    }\n",
       "\n",
       "    .dataframe tbody tr th {\n",
       "        vertical-align: top;\n",
       "    }\n",
       "\n",
       "    .dataframe thead th {\n",
       "        text-align: right;\n",
       "    }\n",
       "</style>\n",
       "<table border=\"1\" class=\"dataframe\">\n",
       "  <thead>\n",
       "    <tr style=\"text-align: right;\">\n",
       "      <th></th>\n",
       "    </tr>\n",
       "  </thead>\n",
       "  <tbody>\n",
       "    <tr>\n",
       "      <td>2017-10-26</td>\n",
       "    </tr>\n",
       "    <tr>\n",
       "      <td>2017-10-27</td>\n",
       "    </tr>\n",
       "    <tr>\n",
       "      <td>2017-10-28</td>\n",
       "    </tr>\n",
       "  </tbody>\n",
       "</table>\n",
       "</div>"
      ],
      "text/plain": [
       "Empty DataFrame\n",
       "Columns: []\n",
       "Index: [2017-10-26 00:00:00, 2017-10-27 00:00:00, 2017-10-28 00:00:00]"
      ]
     },
     "execution_count": 44,
     "metadata": {},
     "output_type": "execute_result"
    }
   ],
   "source": [
    "df.loc['20171026':'20171028','B':'A']"
   ]
  },
  {
   "cell_type": "code",
   "execution_count": 45,
   "metadata": {},
   "outputs": [
    {
     "data": {
      "text/html": [
       "<div>\n",
       "<style scoped>\n",
       "    .dataframe tbody tr th:only-of-type {\n",
       "        vertical-align: middle;\n",
       "    }\n",
       "\n",
       "    .dataframe tbody tr th {\n",
       "        vertical-align: top;\n",
       "    }\n",
       "\n",
       "    .dataframe thead th {\n",
       "        text-align: right;\n",
       "    }\n",
       "</style>\n",
       "<table border=\"1\" class=\"dataframe\">\n",
       "  <thead>\n",
       "    <tr style=\"text-align: right;\">\n",
       "      <th></th>\n",
       "      <th>B</th>\n",
       "      <th>C</th>\n",
       "    </tr>\n",
       "  </thead>\n",
       "  <tbody>\n",
       "    <tr>\n",
       "      <td>2017-10-26</td>\n",
       "      <td>-0.045571</td>\n",
       "      <td>-0.025702</td>\n",
       "    </tr>\n",
       "    <tr>\n",
       "      <td>2017-10-27</td>\n",
       "      <td>0.231349</td>\n",
       "      <td>-2.502108</td>\n",
       "    </tr>\n",
       "    <tr>\n",
       "      <td>2017-10-28</td>\n",
       "      <td>-0.004946</td>\n",
       "      <td>-0.039373</td>\n",
       "    </tr>\n",
       "  </tbody>\n",
       "</table>\n",
       "</div>"
      ],
      "text/plain": [
       "                   B         C\n",
       "2017-10-26 -0.045571 -0.025702\n",
       "2017-10-27  0.231349 -2.502108\n",
       "2017-10-28 -0.004946 -0.039373"
      ]
     },
     "execution_count": 45,
     "metadata": {},
     "output_type": "execute_result"
    }
   ],
   "source": [
    "df.loc['20171026':'20171028','B':'C']"
   ]
  },
  {
   "cell_type": "code",
   "execution_count": 46,
   "metadata": {},
   "outputs": [
    {
     "data": {
      "text/plain": [
       "0.23274836674531854"
      ]
     },
     "execution_count": 46,
     "metadata": {},
     "output_type": "execute_result"
    }
   ],
   "source": [
    "df.loc[dates[0],'A']"
   ]
  },
  {
   "cell_type": "code",
   "execution_count": 47,
   "metadata": {},
   "outputs": [
    {
     "data": {
      "text/plain": [
       "0.23274836674531854"
      ]
     },
     "execution_count": 47,
     "metadata": {},
     "output_type": "execute_result"
    }
   ],
   "source": [
    "df.at[dates[0],'A']"
   ]
  },
  {
   "cell_type": "markdown",
   "metadata": {},
   "source": [
    "# 使用位置来选择"
   ]
  },
  {
   "cell_type": "code",
   "execution_count": 48,
   "metadata": {},
   "outputs": [
    {
     "data": {
      "text/plain": [
       "A   -1.110714\n",
       "B    2.423362\n",
       "C   -0.401902\n",
       "D    1.600937\n",
       "Name: 2017-10-29 00:00:00, dtype: float64"
      ]
     },
     "execution_count": 48,
     "metadata": {},
     "output_type": "execute_result"
    }
   ],
   "source": [
    "df.iloc[3]"
   ]
  },
  {
   "cell_type": "code",
   "execution_count": 49,
   "metadata": {},
   "outputs": [
    {
     "data": {
      "text/html": [
       "<div>\n",
       "<style scoped>\n",
       "    .dataframe tbody tr th:only-of-type {\n",
       "        vertical-align: middle;\n",
       "    }\n",
       "\n",
       "    .dataframe tbody tr th {\n",
       "        vertical-align: top;\n",
       "    }\n",
       "\n",
       "    .dataframe thead th {\n",
       "        text-align: right;\n",
       "    }\n",
       "</style>\n",
       "<table border=\"1\" class=\"dataframe\">\n",
       "  <thead>\n",
       "    <tr style=\"text-align: right;\">\n",
       "      <th></th>\n",
       "      <th>A</th>\n",
       "      <th>B</th>\n",
       "    </tr>\n",
       "  </thead>\n",
       "  <tbody>\n",
       "    <tr>\n",
       "      <td>2017-10-29</td>\n",
       "      <td>-1.110714</td>\n",
       "      <td>2.423362</td>\n",
       "    </tr>\n",
       "    <tr>\n",
       "      <td>2017-10-30</td>\n",
       "      <td>-0.751810</td>\n",
       "      <td>-0.422041</td>\n",
       "    </tr>\n",
       "  </tbody>\n",
       "</table>\n",
       "</div>"
      ],
      "text/plain": [
       "                   A         B\n",
       "2017-10-29 -1.110714  2.423362\n",
       "2017-10-30 -0.751810 -0.422041"
      ]
     },
     "execution_count": 49,
     "metadata": {},
     "output_type": "execute_result"
    }
   ],
   "source": [
    "df.iloc[3:5,0:2]"
   ]
  },
  {
   "cell_type": "code",
   "execution_count": 50,
   "metadata": {},
   "outputs": [
    {
     "data": {
      "text/html": [
       "<div>\n",
       "<style scoped>\n",
       "    .dataframe tbody tr th:only-of-type {\n",
       "        vertical-align: middle;\n",
       "    }\n",
       "\n",
       "    .dataframe tbody tr th {\n",
       "        vertical-align: top;\n",
       "    }\n",
       "\n",
       "    .dataframe thead th {\n",
       "        text-align: right;\n",
       "    }\n",
       "</style>\n",
       "<table border=\"1\" class=\"dataframe\">\n",
       "  <thead>\n",
       "    <tr style=\"text-align: right;\">\n",
       "      <th></th>\n",
       "      <th>A</th>\n",
       "      <th>C</th>\n",
       "    </tr>\n",
       "  </thead>\n",
       "  <tbody>\n",
       "    <tr>\n",
       "      <td>2017-10-27</td>\n",
       "      <td>1.160497</td>\n",
       "      <td>-2.502108</td>\n",
       "    </tr>\n",
       "    <tr>\n",
       "      <td>2017-10-28</td>\n",
       "      <td>2.128304</td>\n",
       "      <td>-0.039373</td>\n",
       "    </tr>\n",
       "    <tr>\n",
       "      <td>2017-10-30</td>\n",
       "      <td>-0.751810</td>\n",
       "      <td>-1.032300</td>\n",
       "    </tr>\n",
       "  </tbody>\n",
       "</table>\n",
       "</div>"
      ],
      "text/plain": [
       "                   A         C\n",
       "2017-10-27  1.160497 -2.502108\n",
       "2017-10-28  2.128304 -0.039373\n",
       "2017-10-30 -0.751810 -1.032300"
      ]
     },
     "execution_count": 50,
     "metadata": {},
     "output_type": "execute_result"
    }
   ],
   "source": [
    "df.iloc[[1,2,4],[0,2]]"
   ]
  },
  {
   "cell_type": "code",
   "execution_count": 51,
   "metadata": {},
   "outputs": [
    {
     "data": {
      "text/html": [
       "<div>\n",
       "<style scoped>\n",
       "    .dataframe tbody tr th:only-of-type {\n",
       "        vertical-align: middle;\n",
       "    }\n",
       "\n",
       "    .dataframe tbody tr th {\n",
       "        vertical-align: top;\n",
       "    }\n",
       "\n",
       "    .dataframe thead th {\n",
       "        text-align: right;\n",
       "    }\n",
       "</style>\n",
       "<table border=\"1\" class=\"dataframe\">\n",
       "  <thead>\n",
       "    <tr style=\"text-align: right;\">\n",
       "      <th></th>\n",
       "      <th>A</th>\n",
       "      <th>B</th>\n",
       "      <th>C</th>\n",
       "      <th>D</th>\n",
       "    </tr>\n",
       "  </thead>\n",
       "  <tbody>\n",
       "    <tr>\n",
       "      <td>2017-10-27</td>\n",
       "      <td>1.160497</td>\n",
       "      <td>0.231349</td>\n",
       "      <td>-2.502108</td>\n",
       "      <td>0.463124</td>\n",
       "    </tr>\n",
       "    <tr>\n",
       "      <td>2017-10-28</td>\n",
       "      <td>2.128304</td>\n",
       "      <td>-0.004946</td>\n",
       "      <td>-0.039373</td>\n",
       "      <td>-0.859386</td>\n",
       "    </tr>\n",
       "  </tbody>\n",
       "</table>\n",
       "</div>"
      ],
      "text/plain": [
       "                   A         B         C         D\n",
       "2017-10-27  1.160497  0.231349 -2.502108  0.463124\n",
       "2017-10-28  2.128304 -0.004946 -0.039373 -0.859386"
      ]
     },
     "execution_count": 51,
     "metadata": {},
     "output_type": "execute_result"
    }
   ],
   "source": [
    "df.iloc[1:3,:]"
   ]
  },
  {
   "cell_type": "code",
   "execution_count": 52,
   "metadata": {},
   "outputs": [
    {
     "data": {
      "text/html": [
       "<div>\n",
       "<style scoped>\n",
       "    .dataframe tbody tr th:only-of-type {\n",
       "        vertical-align: middle;\n",
       "    }\n",
       "\n",
       "    .dataframe tbody tr th {\n",
       "        vertical-align: top;\n",
       "    }\n",
       "\n",
       "    .dataframe thead th {\n",
       "        text-align: right;\n",
       "    }\n",
       "</style>\n",
       "<table border=\"1\" class=\"dataframe\">\n",
       "  <thead>\n",
       "    <tr style=\"text-align: right;\">\n",
       "      <th></th>\n",
       "      <th>B</th>\n",
       "      <th>C</th>\n",
       "    </tr>\n",
       "  </thead>\n",
       "  <tbody>\n",
       "    <tr>\n",
       "      <td>2017-10-26</td>\n",
       "      <td>-0.045571</td>\n",
       "      <td>-0.025702</td>\n",
       "    </tr>\n",
       "    <tr>\n",
       "      <td>2017-10-27</td>\n",
       "      <td>0.231349</td>\n",
       "      <td>-2.502108</td>\n",
       "    </tr>\n",
       "    <tr>\n",
       "      <td>2017-10-28</td>\n",
       "      <td>-0.004946</td>\n",
       "      <td>-0.039373</td>\n",
       "    </tr>\n",
       "    <tr>\n",
       "      <td>2017-10-29</td>\n",
       "      <td>2.423362</td>\n",
       "      <td>-0.401902</td>\n",
       "    </tr>\n",
       "    <tr>\n",
       "      <td>2017-10-30</td>\n",
       "      <td>-0.422041</td>\n",
       "      <td>-1.032300</td>\n",
       "    </tr>\n",
       "    <tr>\n",
       "      <td>2017-10-31</td>\n",
       "      <td>1.540292</td>\n",
       "      <td>1.982090</td>\n",
       "    </tr>\n",
       "  </tbody>\n",
       "</table>\n",
       "</div>"
      ],
      "text/plain": [
       "                   B         C\n",
       "2017-10-26 -0.045571 -0.025702\n",
       "2017-10-27  0.231349 -2.502108\n",
       "2017-10-28 -0.004946 -0.039373\n",
       "2017-10-29  2.423362 -0.401902\n",
       "2017-10-30 -0.422041 -1.032300\n",
       "2017-10-31  1.540292  1.982090"
      ]
     },
     "execution_count": 52,
     "metadata": {},
     "output_type": "execute_result"
    }
   ],
   "source": [
    "df.iloc[:,1:3]"
   ]
  },
  {
   "cell_type": "code",
   "execution_count": 53,
   "metadata": {},
   "outputs": [
    {
     "data": {
      "text/plain": [
       "0.23134907811904948"
      ]
     },
     "execution_count": 53,
     "metadata": {},
     "output_type": "execute_result"
    }
   ],
   "source": [
    "df.iloc[1,1]"
   ]
  },
  {
   "cell_type": "code",
   "execution_count": 54,
   "metadata": {},
   "outputs": [
    {
     "data": {
      "text/plain": [
       "0.23134907811904948"
      ]
     },
     "execution_count": 54,
     "metadata": {},
     "output_type": "execute_result"
    }
   ],
   "source": [
    "df.iat[1,1]"
   ]
  },
  {
   "cell_type": "code",
   "execution_count": 57,
   "metadata": {},
   "outputs": [
    {
     "data": {
      "text/plain": [
       "2017-10-26     True\n",
       "2017-10-27     True\n",
       "2017-10-28     True\n",
       "2017-10-29    False\n",
       "2017-10-30    False\n",
       "2017-10-31    False\n",
       "Freq: D, Name: A, dtype: bool"
      ]
     },
     "execution_count": 57,
     "metadata": {},
     "output_type": "execute_result"
    }
   ],
   "source": [
    "df.A>0"
   ]
  },
  {
   "cell_type": "code",
   "execution_count": 55,
   "metadata": {},
   "outputs": [
    {
     "data": {
      "text/html": [
       "<div>\n",
       "<style scoped>\n",
       "    .dataframe tbody tr th:only-of-type {\n",
       "        vertical-align: middle;\n",
       "    }\n",
       "\n",
       "    .dataframe tbody tr th {\n",
       "        vertical-align: top;\n",
       "    }\n",
       "\n",
       "    .dataframe thead th {\n",
       "        text-align: right;\n",
       "    }\n",
       "</style>\n",
       "<table border=\"1\" class=\"dataframe\">\n",
       "  <thead>\n",
       "    <tr style=\"text-align: right;\">\n",
       "      <th></th>\n",
       "      <th>A</th>\n",
       "      <th>B</th>\n",
       "      <th>C</th>\n",
       "      <th>D</th>\n",
       "    </tr>\n",
       "  </thead>\n",
       "  <tbody>\n",
       "    <tr>\n",
       "      <td>2017-10-26</td>\n",
       "      <td>0.232748</td>\n",
       "      <td>-0.045571</td>\n",
       "      <td>-0.025702</td>\n",
       "      <td>-0.291828</td>\n",
       "    </tr>\n",
       "    <tr>\n",
       "      <td>2017-10-27</td>\n",
       "      <td>1.160497</td>\n",
       "      <td>0.231349</td>\n",
       "      <td>-2.502108</td>\n",
       "      <td>0.463124</td>\n",
       "    </tr>\n",
       "    <tr>\n",
       "      <td>2017-10-28</td>\n",
       "      <td>2.128304</td>\n",
       "      <td>-0.004946</td>\n",
       "      <td>-0.039373</td>\n",
       "      <td>-0.859386</td>\n",
       "    </tr>\n",
       "  </tbody>\n",
       "</table>\n",
       "</div>"
      ],
      "text/plain": [
       "                   A         B         C         D\n",
       "2017-10-26  0.232748 -0.045571 -0.025702 -0.291828\n",
       "2017-10-27  1.160497  0.231349 -2.502108  0.463124\n",
       "2017-10-28  2.128304 -0.004946 -0.039373 -0.859386"
      ]
     },
     "execution_count": 55,
     "metadata": {},
     "output_type": "execute_result"
    }
   ],
   "source": [
    "df[df.A>0]"
   ]
  },
  {
   "cell_type": "code",
   "execution_count": 56,
   "metadata": {},
   "outputs": [
    {
     "data": {
      "text/html": [
       "<div>\n",
       "<style scoped>\n",
       "    .dataframe tbody tr th:only-of-type {\n",
       "        vertical-align: middle;\n",
       "    }\n",
       "\n",
       "    .dataframe tbody tr th {\n",
       "        vertical-align: top;\n",
       "    }\n",
       "\n",
       "    .dataframe thead th {\n",
       "        text-align: right;\n",
       "    }\n",
       "</style>\n",
       "<table border=\"1\" class=\"dataframe\">\n",
       "  <thead>\n",
       "    <tr style=\"text-align: right;\">\n",
       "      <th></th>\n",
       "      <th>A</th>\n",
       "      <th>B</th>\n",
       "      <th>C</th>\n",
       "      <th>D</th>\n",
       "    </tr>\n",
       "  </thead>\n",
       "  <tbody>\n",
       "    <tr>\n",
       "      <td>2017-10-26</td>\n",
       "      <td>0.232748</td>\n",
       "      <td>NaN</td>\n",
       "      <td>NaN</td>\n",
       "      <td>NaN</td>\n",
       "    </tr>\n",
       "    <tr>\n",
       "      <td>2017-10-27</td>\n",
       "      <td>1.160497</td>\n",
       "      <td>0.231349</td>\n",
       "      <td>NaN</td>\n",
       "      <td>0.463124</td>\n",
       "    </tr>\n",
       "    <tr>\n",
       "      <td>2017-10-28</td>\n",
       "      <td>2.128304</td>\n",
       "      <td>NaN</td>\n",
       "      <td>NaN</td>\n",
       "      <td>NaN</td>\n",
       "    </tr>\n",
       "    <tr>\n",
       "      <td>2017-10-29</td>\n",
       "      <td>NaN</td>\n",
       "      <td>2.423362</td>\n",
       "      <td>NaN</td>\n",
       "      <td>1.600937</td>\n",
       "    </tr>\n",
       "    <tr>\n",
       "      <td>2017-10-30</td>\n",
       "      <td>NaN</td>\n",
       "      <td>NaN</td>\n",
       "      <td>NaN</td>\n",
       "      <td>NaN</td>\n",
       "    </tr>\n",
       "    <tr>\n",
       "      <td>2017-10-31</td>\n",
       "      <td>NaN</td>\n",
       "      <td>1.540292</td>\n",
       "      <td>1.98209</td>\n",
       "      <td>0.375051</td>\n",
       "    </tr>\n",
       "  </tbody>\n",
       "</table>\n",
       "</div>"
      ],
      "text/plain": [
       "                   A         B        C         D\n",
       "2017-10-26  0.232748       NaN      NaN       NaN\n",
       "2017-10-27  1.160497  0.231349      NaN  0.463124\n",
       "2017-10-28  2.128304       NaN      NaN       NaN\n",
       "2017-10-29       NaN  2.423362      NaN  1.600937\n",
       "2017-10-30       NaN       NaN      NaN       NaN\n",
       "2017-10-31       NaN  1.540292  1.98209  0.375051"
      ]
     },
     "execution_count": 56,
     "metadata": {},
     "output_type": "execute_result"
    }
   ],
   "source": [
    "df[df>0]"
   ]
  },
  {
   "cell_type": "code",
   "execution_count": 58,
   "metadata": {},
   "outputs": [
    {
     "data": {
      "text/html": [
       "<div>\n",
       "<style scoped>\n",
       "    .dataframe tbody tr th:only-of-type {\n",
       "        vertical-align: middle;\n",
       "    }\n",
       "\n",
       "    .dataframe tbody tr th {\n",
       "        vertical-align: top;\n",
       "    }\n",
       "\n",
       "    .dataframe thead th {\n",
       "        text-align: right;\n",
       "    }\n",
       "</style>\n",
       "<table border=\"1\" class=\"dataframe\">\n",
       "  <thead>\n",
       "    <tr style=\"text-align: right;\">\n",
       "      <th></th>\n",
       "      <th>A</th>\n",
       "      <th>B</th>\n",
       "      <th>C</th>\n",
       "      <th>D</th>\n",
       "      <th>E</th>\n",
       "    </tr>\n",
       "  </thead>\n",
       "  <tbody>\n",
       "    <tr>\n",
       "      <td>2017-10-26</td>\n",
       "      <td>0.232748</td>\n",
       "      <td>-0.045571</td>\n",
       "      <td>-0.025702</td>\n",
       "      <td>-0.291828</td>\n",
       "      <td>one</td>\n",
       "    </tr>\n",
       "    <tr>\n",
       "      <td>2017-10-27</td>\n",
       "      <td>1.160497</td>\n",
       "      <td>0.231349</td>\n",
       "      <td>-2.502108</td>\n",
       "      <td>0.463124</td>\n",
       "      <td>one</td>\n",
       "    </tr>\n",
       "    <tr>\n",
       "      <td>2017-10-28</td>\n",
       "      <td>2.128304</td>\n",
       "      <td>-0.004946</td>\n",
       "      <td>-0.039373</td>\n",
       "      <td>-0.859386</td>\n",
       "      <td>two</td>\n",
       "    </tr>\n",
       "    <tr>\n",
       "      <td>2017-10-29</td>\n",
       "      <td>-1.110714</td>\n",
       "      <td>2.423362</td>\n",
       "      <td>-0.401902</td>\n",
       "      <td>1.600937</td>\n",
       "      <td>three</td>\n",
       "    </tr>\n",
       "    <tr>\n",
       "      <td>2017-10-30</td>\n",
       "      <td>-0.751810</td>\n",
       "      <td>-0.422041</td>\n",
       "      <td>-1.032300</td>\n",
       "      <td>-0.704833</td>\n",
       "      <td>four</td>\n",
       "    </tr>\n",
       "    <tr>\n",
       "      <td>2017-10-31</td>\n",
       "      <td>-0.065249</td>\n",
       "      <td>1.540292</td>\n",
       "      <td>1.982090</td>\n",
       "      <td>0.375051</td>\n",
       "      <td>three</td>\n",
       "    </tr>\n",
       "  </tbody>\n",
       "</table>\n",
       "</div>"
      ],
      "text/plain": [
       "                   A         B         C         D      E\n",
       "2017-10-26  0.232748 -0.045571 -0.025702 -0.291828    one\n",
       "2017-10-27  1.160497  0.231349 -2.502108  0.463124    one\n",
       "2017-10-28  2.128304 -0.004946 -0.039373 -0.859386    two\n",
       "2017-10-29 -1.110714  2.423362 -0.401902  1.600937  three\n",
       "2017-10-30 -0.751810 -0.422041 -1.032300 -0.704833   four\n",
       "2017-10-31 -0.065249  1.540292  1.982090  0.375051  three"
      ]
     },
     "execution_count": 58,
     "metadata": {},
     "output_type": "execute_result"
    }
   ],
   "source": [
    "df2 = df.copy()\n",
    "df2['E'] = ['one','one','two','three','four','three']\n",
    "df2"
   ]
  },
  {
   "cell_type": "code",
   "execution_count": 59,
   "metadata": {},
   "outputs": [
    {
     "data": {
      "text/html": [
       "<div>\n",
       "<style scoped>\n",
       "    .dataframe tbody tr th:only-of-type {\n",
       "        vertical-align: middle;\n",
       "    }\n",
       "\n",
       "    .dataframe tbody tr th {\n",
       "        vertical-align: top;\n",
       "    }\n",
       "\n",
       "    .dataframe thead th {\n",
       "        text-align: right;\n",
       "    }\n",
       "</style>\n",
       "<table border=\"1\" class=\"dataframe\">\n",
       "  <thead>\n",
       "    <tr style=\"text-align: right;\">\n",
       "      <th></th>\n",
       "      <th>A</th>\n",
       "      <th>B</th>\n",
       "      <th>C</th>\n",
       "      <th>D</th>\n",
       "      <th>E</th>\n",
       "    </tr>\n",
       "  </thead>\n",
       "  <tbody>\n",
       "    <tr>\n",
       "      <td>2017-10-28</td>\n",
       "      <td>2.128304</td>\n",
       "      <td>-0.004946</td>\n",
       "      <td>-0.039373</td>\n",
       "      <td>-0.859386</td>\n",
       "      <td>two</td>\n",
       "    </tr>\n",
       "    <tr>\n",
       "      <td>2017-10-30</td>\n",
       "      <td>-0.751810</td>\n",
       "      <td>-0.422041</td>\n",
       "      <td>-1.032300</td>\n",
       "      <td>-0.704833</td>\n",
       "      <td>four</td>\n",
       "    </tr>\n",
       "  </tbody>\n",
       "</table>\n",
       "</div>"
      ],
      "text/plain": [
       "                   A         B         C         D     E\n",
       "2017-10-28  2.128304 -0.004946 -0.039373 -0.859386   two\n",
       "2017-10-30 -0.751810 -0.422041 -1.032300 -0.704833  four"
      ]
     },
     "execution_count": 59,
     "metadata": {},
     "output_type": "execute_result"
    }
   ],
   "source": [
    "# isin()方法，过滤非数值型数据\n",
    "df2[df2['E'].isin(['two','four'])]"
   ]
  },
  {
   "cell_type": "markdown",
   "metadata": {},
   "source": [
    " # 赋值"
   ]
  },
  {
   "cell_type": "code",
   "execution_count": 60,
   "metadata": {},
   "outputs": [
    {
     "data": {
      "text/plain": [
       "2017-10-27    1\n",
       "2017-10-28    2\n",
       "2017-10-29    3\n",
       "2017-10-30    4\n",
       "2017-10-31    5\n",
       "2017-11-01    6\n",
       "Freq: D, dtype: int64"
      ]
     },
     "execution_count": 60,
     "metadata": {},
     "output_type": "execute_result"
    }
   ],
   "source": [
    "s1 = pd.Series([1,2,3,4,5,6], index=pd.date_range('20171027', periods=6))\n",
    "s1"
   ]
  },
  {
   "cell_type": "code",
   "execution_count": 62,
   "metadata": {},
   "outputs": [
    {
     "data": {
      "text/html": [
       "<div>\n",
       "<style scoped>\n",
       "    .dataframe tbody tr th:only-of-type {\n",
       "        vertical-align: middle;\n",
       "    }\n",
       "\n",
       "    .dataframe tbody tr th {\n",
       "        vertical-align: top;\n",
       "    }\n",
       "\n",
       "    .dataframe thead th {\n",
       "        text-align: right;\n",
       "    }\n",
       "</style>\n",
       "<table border=\"1\" class=\"dataframe\">\n",
       "  <thead>\n",
       "    <tr style=\"text-align: right;\">\n",
       "      <th></th>\n",
       "      <th>A</th>\n",
       "      <th>B</th>\n",
       "      <th>C</th>\n",
       "      <th>D</th>\n",
       "      <th>F</th>\n",
       "    </tr>\n",
       "  </thead>\n",
       "  <tbody>\n",
       "    <tr>\n",
       "      <td>2017-10-26</td>\n",
       "      <td>0.232748</td>\n",
       "      <td>-0.045571</td>\n",
       "      <td>-0.025702</td>\n",
       "      <td>-0.291828</td>\n",
       "      <td>NaN</td>\n",
       "    </tr>\n",
       "    <tr>\n",
       "      <td>2017-10-27</td>\n",
       "      <td>1.160497</td>\n",
       "      <td>0.231349</td>\n",
       "      <td>-2.502108</td>\n",
       "      <td>0.463124</td>\n",
       "      <td>1.0</td>\n",
       "    </tr>\n",
       "    <tr>\n",
       "      <td>2017-10-28</td>\n",
       "      <td>2.128304</td>\n",
       "      <td>-0.004946</td>\n",
       "      <td>-0.039373</td>\n",
       "      <td>-0.859386</td>\n",
       "      <td>2.0</td>\n",
       "    </tr>\n",
       "    <tr>\n",
       "      <td>2017-10-29</td>\n",
       "      <td>-1.110714</td>\n",
       "      <td>2.423362</td>\n",
       "      <td>-0.401902</td>\n",
       "      <td>1.600937</td>\n",
       "      <td>3.0</td>\n",
       "    </tr>\n",
       "    <tr>\n",
       "      <td>2017-10-30</td>\n",
       "      <td>-0.751810</td>\n",
       "      <td>-0.422041</td>\n",
       "      <td>-1.032300</td>\n",
       "      <td>-0.704833</td>\n",
       "      <td>4.0</td>\n",
       "    </tr>\n",
       "    <tr>\n",
       "      <td>2017-10-31</td>\n",
       "      <td>-0.065249</td>\n",
       "      <td>1.540292</td>\n",
       "      <td>1.982090</td>\n",
       "      <td>0.375051</td>\n",
       "      <td>5.0</td>\n",
       "    </tr>\n",
       "  </tbody>\n",
       "</table>\n",
       "</div>"
      ],
      "text/plain": [
       "                   A         B         C         D    F\n",
       "2017-10-26  0.232748 -0.045571 -0.025702 -0.291828  NaN\n",
       "2017-10-27  1.160497  0.231349 -2.502108  0.463124  1.0\n",
       "2017-10-28  2.128304 -0.004946 -0.039373 -0.859386  2.0\n",
       "2017-10-29 -1.110714  2.423362 -0.401902  1.600937  3.0\n",
       "2017-10-30 -0.751810 -0.422041 -1.032300 -0.704833  4.0\n",
       "2017-10-31 -0.065249  1.540292  1.982090  0.375051  5.0"
      ]
     },
     "execution_count": 62,
     "metadata": {},
     "output_type": "execute_result"
    }
   ],
   "source": [
    "df['F'] = s1\n",
    "df"
   ]
  },
  {
   "cell_type": "code",
   "execution_count": 63,
   "metadata": {},
   "outputs": [
    {
     "data": {
      "text/html": [
       "<div>\n",
       "<style scoped>\n",
       "    .dataframe tbody tr th:only-of-type {\n",
       "        vertical-align: middle;\n",
       "    }\n",
       "\n",
       "    .dataframe tbody tr th {\n",
       "        vertical-align: top;\n",
       "    }\n",
       "\n",
       "    .dataframe thead th {\n",
       "        text-align: right;\n",
       "    }\n",
       "</style>\n",
       "<table border=\"1\" class=\"dataframe\">\n",
       "  <thead>\n",
       "    <tr style=\"text-align: right;\">\n",
       "      <th></th>\n",
       "      <th>A</th>\n",
       "      <th>B</th>\n",
       "      <th>C</th>\n",
       "      <th>D</th>\n",
       "      <th>F</th>\n",
       "    </tr>\n",
       "  </thead>\n",
       "  <tbody>\n",
       "    <tr>\n",
       "      <td>2017-10-26</td>\n",
       "      <td>0.000000</td>\n",
       "      <td>-0.045571</td>\n",
       "      <td>-0.025702</td>\n",
       "      <td>-0.291828</td>\n",
       "      <td>NaN</td>\n",
       "    </tr>\n",
       "    <tr>\n",
       "      <td>2017-10-27</td>\n",
       "      <td>1.160497</td>\n",
       "      <td>0.231349</td>\n",
       "      <td>-2.502108</td>\n",
       "      <td>0.463124</td>\n",
       "      <td>1.0</td>\n",
       "    </tr>\n",
       "    <tr>\n",
       "      <td>2017-10-28</td>\n",
       "      <td>2.128304</td>\n",
       "      <td>-0.004946</td>\n",
       "      <td>-0.039373</td>\n",
       "      <td>-0.859386</td>\n",
       "      <td>2.0</td>\n",
       "    </tr>\n",
       "    <tr>\n",
       "      <td>2017-10-29</td>\n",
       "      <td>-1.110714</td>\n",
       "      <td>2.423362</td>\n",
       "      <td>-0.401902</td>\n",
       "      <td>1.600937</td>\n",
       "      <td>3.0</td>\n",
       "    </tr>\n",
       "    <tr>\n",
       "      <td>2017-10-30</td>\n",
       "      <td>-0.751810</td>\n",
       "      <td>-0.422041</td>\n",
       "      <td>-1.032300</td>\n",
       "      <td>-0.704833</td>\n",
       "      <td>4.0</td>\n",
       "    </tr>\n",
       "    <tr>\n",
       "      <td>2017-10-31</td>\n",
       "      <td>-0.065249</td>\n",
       "      <td>1.540292</td>\n",
       "      <td>1.982090</td>\n",
       "      <td>0.375051</td>\n",
       "      <td>5.0</td>\n",
       "    </tr>\n",
       "  </tbody>\n",
       "</table>\n",
       "</div>"
      ],
      "text/plain": [
       "                   A         B         C         D    F\n",
       "2017-10-26  0.000000 -0.045571 -0.025702 -0.291828  NaN\n",
       "2017-10-27  1.160497  0.231349 -2.502108  0.463124  1.0\n",
       "2017-10-28  2.128304 -0.004946 -0.039373 -0.859386  2.0\n",
       "2017-10-29 -1.110714  2.423362 -0.401902  1.600937  3.0\n",
       "2017-10-30 -0.751810 -0.422041 -1.032300 -0.704833  4.0\n",
       "2017-10-31 -0.065249  1.540292  1.982090  0.375051  5.0"
      ]
     },
     "execution_count": 63,
     "metadata": {},
     "output_type": "execute_result"
    }
   ],
   "source": [
    "df.at[dates[0],'A'] = 0\n",
    "df"
   ]
  },
  {
   "cell_type": "code",
   "execution_count": 64,
   "metadata": {},
   "outputs": [
    {
     "data": {
      "text/html": [
       "<div>\n",
       "<style scoped>\n",
       "    .dataframe tbody tr th:only-of-type {\n",
       "        vertical-align: middle;\n",
       "    }\n",
       "\n",
       "    .dataframe tbody tr th {\n",
       "        vertical-align: top;\n",
       "    }\n",
       "\n",
       "    .dataframe thead th {\n",
       "        text-align: right;\n",
       "    }\n",
       "</style>\n",
       "<table border=\"1\" class=\"dataframe\">\n",
       "  <thead>\n",
       "    <tr style=\"text-align: right;\">\n",
       "      <th></th>\n",
       "      <th>A</th>\n",
       "      <th>B</th>\n",
       "      <th>C</th>\n",
       "      <th>D</th>\n",
       "      <th>F</th>\n",
       "    </tr>\n",
       "  </thead>\n",
       "  <tbody>\n",
       "    <tr>\n",
       "      <td>2017-10-26</td>\n",
       "      <td>0.000000</td>\n",
       "      <td>0.000000</td>\n",
       "      <td>-0.025702</td>\n",
       "      <td>-0.291828</td>\n",
       "      <td>NaN</td>\n",
       "    </tr>\n",
       "    <tr>\n",
       "      <td>2017-10-27</td>\n",
       "      <td>1.160497</td>\n",
       "      <td>0.231349</td>\n",
       "      <td>-2.502108</td>\n",
       "      <td>0.463124</td>\n",
       "      <td>1.0</td>\n",
       "    </tr>\n",
       "    <tr>\n",
       "      <td>2017-10-28</td>\n",
       "      <td>2.128304</td>\n",
       "      <td>-0.004946</td>\n",
       "      <td>-0.039373</td>\n",
       "      <td>-0.859386</td>\n",
       "      <td>2.0</td>\n",
       "    </tr>\n",
       "    <tr>\n",
       "      <td>2017-10-29</td>\n",
       "      <td>-1.110714</td>\n",
       "      <td>2.423362</td>\n",
       "      <td>-0.401902</td>\n",
       "      <td>1.600937</td>\n",
       "      <td>3.0</td>\n",
       "    </tr>\n",
       "    <tr>\n",
       "      <td>2017-10-30</td>\n",
       "      <td>-0.751810</td>\n",
       "      <td>-0.422041</td>\n",
       "      <td>-1.032300</td>\n",
       "      <td>-0.704833</td>\n",
       "      <td>4.0</td>\n",
       "    </tr>\n",
       "    <tr>\n",
       "      <td>2017-10-31</td>\n",
       "      <td>-0.065249</td>\n",
       "      <td>1.540292</td>\n",
       "      <td>1.982090</td>\n",
       "      <td>0.375051</td>\n",
       "      <td>5.0</td>\n",
       "    </tr>\n",
       "  </tbody>\n",
       "</table>\n",
       "</div>"
      ],
      "text/plain": [
       "                   A         B         C         D    F\n",
       "2017-10-26  0.000000  0.000000 -0.025702 -0.291828  NaN\n",
       "2017-10-27  1.160497  0.231349 -2.502108  0.463124  1.0\n",
       "2017-10-28  2.128304 -0.004946 -0.039373 -0.859386  2.0\n",
       "2017-10-29 -1.110714  2.423362 -0.401902  1.600937  3.0\n",
       "2017-10-30 -0.751810 -0.422041 -1.032300 -0.704833  4.0\n",
       "2017-10-31 -0.065249  1.540292  1.982090  0.375051  5.0"
      ]
     },
     "execution_count": 64,
     "metadata": {},
     "output_type": "execute_result"
    }
   ],
   "source": [
    "df.iat[0,1] = 0\n",
    "df"
   ]
  },
  {
   "cell_type": "code",
   "execution_count": 66,
   "metadata": {},
   "outputs": [
    {
     "data": {
      "text/html": [
       "<div>\n",
       "<style scoped>\n",
       "    .dataframe tbody tr th:only-of-type {\n",
       "        vertical-align: middle;\n",
       "    }\n",
       "\n",
       "    .dataframe tbody tr th {\n",
       "        vertical-align: top;\n",
       "    }\n",
       "\n",
       "    .dataframe thead th {\n",
       "        text-align: right;\n",
       "    }\n",
       "</style>\n",
       "<table border=\"1\" class=\"dataframe\">\n",
       "  <thead>\n",
       "    <tr style=\"text-align: right;\">\n",
       "      <th></th>\n",
       "      <th>A</th>\n",
       "      <th>B</th>\n",
       "      <th>C</th>\n",
       "      <th>D</th>\n",
       "      <th>F</th>\n",
       "    </tr>\n",
       "  </thead>\n",
       "  <tbody>\n",
       "    <tr>\n",
       "      <td>2017-10-26</td>\n",
       "      <td>0.000000</td>\n",
       "      <td>0.000000</td>\n",
       "      <td>-0.025702</td>\n",
       "      <td>5</td>\n",
       "      <td>NaN</td>\n",
       "    </tr>\n",
       "    <tr>\n",
       "      <td>2017-10-27</td>\n",
       "      <td>1.160497</td>\n",
       "      <td>0.231349</td>\n",
       "      <td>-2.502108</td>\n",
       "      <td>5</td>\n",
       "      <td>1.0</td>\n",
       "    </tr>\n",
       "    <tr>\n",
       "      <td>2017-10-28</td>\n",
       "      <td>2.128304</td>\n",
       "      <td>-0.004946</td>\n",
       "      <td>-0.039373</td>\n",
       "      <td>5</td>\n",
       "      <td>2.0</td>\n",
       "    </tr>\n",
       "    <tr>\n",
       "      <td>2017-10-29</td>\n",
       "      <td>-1.110714</td>\n",
       "      <td>2.423362</td>\n",
       "      <td>-0.401902</td>\n",
       "      <td>5</td>\n",
       "      <td>3.0</td>\n",
       "    </tr>\n",
       "    <tr>\n",
       "      <td>2017-10-30</td>\n",
       "      <td>-0.751810</td>\n",
       "      <td>-0.422041</td>\n",
       "      <td>-1.032300</td>\n",
       "      <td>5</td>\n",
       "      <td>4.0</td>\n",
       "    </tr>\n",
       "    <tr>\n",
       "      <td>2017-10-31</td>\n",
       "      <td>-0.065249</td>\n",
       "      <td>1.540292</td>\n",
       "      <td>1.982090</td>\n",
       "      <td>5</td>\n",
       "      <td>5.0</td>\n",
       "    </tr>\n",
       "  </tbody>\n",
       "</table>\n",
       "</div>"
      ],
      "text/plain": [
       "                   A         B         C  D    F\n",
       "2017-10-26  0.000000  0.000000 -0.025702  5  NaN\n",
       "2017-10-27  1.160497  0.231349 -2.502108  5  1.0\n",
       "2017-10-28  2.128304 -0.004946 -0.039373  5  2.0\n",
       "2017-10-29 -1.110714  2.423362 -0.401902  5  3.0\n",
       "2017-10-30 -0.751810 -0.422041 -1.032300  5  4.0\n",
       "2017-10-31 -0.065249  1.540292  1.982090  5  5.0"
      ]
     },
     "execution_count": 66,
     "metadata": {},
     "output_type": "execute_result"
    }
   ],
   "source": [
    "df.loc[:,'D']=np.array([5]*len(df))\n",
    "df"
   ]
  },
  {
   "cell_type": "code",
   "execution_count": 67,
   "metadata": {},
   "outputs": [
    {
     "data": {
      "text/plain": [
       "6"
      ]
     },
     "execution_count": 67,
     "metadata": {},
     "output_type": "execute_result"
    }
   ],
   "source": [
    "# len(df)表示的是一共有多少记录，即有多少行\n",
    "len(df)"
   ]
  },
  {
   "cell_type": "code",
   "execution_count": 68,
   "metadata": {},
   "outputs": [
    {
     "data": {
      "text/html": [
       "<div>\n",
       "<style scoped>\n",
       "    .dataframe tbody tr th:only-of-type {\n",
       "        vertical-align: middle;\n",
       "    }\n",
       "\n",
       "    .dataframe tbody tr th {\n",
       "        vertical-align: top;\n",
       "    }\n",
       "\n",
       "    .dataframe thead th {\n",
       "        text-align: right;\n",
       "    }\n",
       "</style>\n",
       "<table border=\"1\" class=\"dataframe\">\n",
       "  <thead>\n",
       "    <tr style=\"text-align: right;\">\n",
       "      <th></th>\n",
       "      <th>A</th>\n",
       "      <th>B</th>\n",
       "      <th>C</th>\n",
       "      <th>D</th>\n",
       "      <th>F</th>\n",
       "      <th>E</th>\n",
       "    </tr>\n",
       "  </thead>\n",
       "  <tbody>\n",
       "    <tr>\n",
       "      <td>2017-10-26</td>\n",
       "      <td>0.000000</td>\n",
       "      <td>0.000000</td>\n",
       "      <td>-0.025702</td>\n",
       "      <td>5</td>\n",
       "      <td>NaN</td>\n",
       "      <td>1.0</td>\n",
       "    </tr>\n",
       "    <tr>\n",
       "      <td>2017-10-27</td>\n",
       "      <td>1.160497</td>\n",
       "      <td>0.231349</td>\n",
       "      <td>-2.502108</td>\n",
       "      <td>5</td>\n",
       "      <td>1.0</td>\n",
       "      <td>1.0</td>\n",
       "    </tr>\n",
       "    <tr>\n",
       "      <td>2017-10-28</td>\n",
       "      <td>2.128304</td>\n",
       "      <td>-0.004946</td>\n",
       "      <td>-0.039373</td>\n",
       "      <td>5</td>\n",
       "      <td>2.0</td>\n",
       "      <td>NaN</td>\n",
       "    </tr>\n",
       "    <tr>\n",
       "      <td>2017-10-29</td>\n",
       "      <td>-1.110714</td>\n",
       "      <td>2.423362</td>\n",
       "      <td>-0.401902</td>\n",
       "      <td>5</td>\n",
       "      <td>3.0</td>\n",
       "      <td>NaN</td>\n",
       "    </tr>\n",
       "  </tbody>\n",
       "</table>\n",
       "</div>"
      ],
      "text/plain": [
       "                   A         B         C  D    F    E\n",
       "2017-10-26  0.000000  0.000000 -0.025702  5  NaN  1.0\n",
       "2017-10-27  1.160497  0.231349 -2.502108  5  1.0  1.0\n",
       "2017-10-28  2.128304 -0.004946 -0.039373  5  2.0  NaN\n",
       "2017-10-29 -1.110714  2.423362 -0.401902  5  3.0  NaN"
      ]
     },
     "execution_count": 68,
     "metadata": {},
     "output_type": "execute_result"
    }
   ],
   "source": [
    "# 缺失值\n",
    "df1 = df.reindex(index=dates[0:4], columns=list(df.columns) + ['E'])\n",
    "df1.loc[dates[0]:dates[1],'E'] = 1\n",
    "df1"
   ]
  },
  {
   "cell_type": "code",
   "execution_count": 69,
   "metadata": {},
   "outputs": [
    {
     "data": {
      "text/html": [
       "<div>\n",
       "<style scoped>\n",
       "    .dataframe tbody tr th:only-of-type {\n",
       "        vertical-align: middle;\n",
       "    }\n",
       "\n",
       "    .dataframe tbody tr th {\n",
       "        vertical-align: top;\n",
       "    }\n",
       "\n",
       "    .dataframe thead th {\n",
       "        text-align: right;\n",
       "    }\n",
       "</style>\n",
       "<table border=\"1\" class=\"dataframe\">\n",
       "  <thead>\n",
       "    <tr style=\"text-align: right;\">\n",
       "      <th></th>\n",
       "      <th>A</th>\n",
       "      <th>B</th>\n",
       "      <th>C</th>\n",
       "      <th>D</th>\n",
       "      <th>F</th>\n",
       "      <th>E</th>\n",
       "    </tr>\n",
       "  </thead>\n",
       "  <tbody>\n",
       "    <tr>\n",
       "      <td>2017-10-27</td>\n",
       "      <td>1.160497</td>\n",
       "      <td>0.231349</td>\n",
       "      <td>-2.502108</td>\n",
       "      <td>5</td>\n",
       "      <td>1.0</td>\n",
       "      <td>1.0</td>\n",
       "    </tr>\n",
       "  </tbody>\n",
       "</table>\n",
       "</div>"
      ],
      "text/plain": [
       "                   A         B         C  D    F    E\n",
       "2017-10-27  1.160497  0.231349 -2.502108  5  1.0  1.0"
      ]
     },
     "execution_count": 69,
     "metadata": {},
     "output_type": "execute_result"
    }
   ],
   "source": [
    "# 删除含有缺失值的行\n",
    "df1.dropna(how='any')"
   ]
  },
  {
   "cell_type": "code",
   "execution_count": 70,
   "metadata": {},
   "outputs": [
    {
     "data": {
      "text/html": [
       "<div>\n",
       "<style scoped>\n",
       "    .dataframe tbody tr th:only-of-type {\n",
       "        vertical-align: middle;\n",
       "    }\n",
       "\n",
       "    .dataframe tbody tr th {\n",
       "        vertical-align: top;\n",
       "    }\n",
       "\n",
       "    .dataframe thead th {\n",
       "        text-align: right;\n",
       "    }\n",
       "</style>\n",
       "<table border=\"1\" class=\"dataframe\">\n",
       "  <thead>\n",
       "    <tr style=\"text-align: right;\">\n",
       "      <th></th>\n",
       "      <th>A</th>\n",
       "      <th>B</th>\n",
       "      <th>C</th>\n",
       "      <th>D</th>\n",
       "      <th>F</th>\n",
       "      <th>E</th>\n",
       "    </tr>\n",
       "  </thead>\n",
       "  <tbody>\n",
       "    <tr>\n",
       "      <td>2017-10-26</td>\n",
       "      <td>0.000000</td>\n",
       "      <td>0.000000</td>\n",
       "      <td>-0.025702</td>\n",
       "      <td>5</td>\n",
       "      <td>5.0</td>\n",
       "      <td>1.0</td>\n",
       "    </tr>\n",
       "    <tr>\n",
       "      <td>2017-10-27</td>\n",
       "      <td>1.160497</td>\n",
       "      <td>0.231349</td>\n",
       "      <td>-2.502108</td>\n",
       "      <td>5</td>\n",
       "      <td>1.0</td>\n",
       "      <td>1.0</td>\n",
       "    </tr>\n",
       "    <tr>\n",
       "      <td>2017-10-28</td>\n",
       "      <td>2.128304</td>\n",
       "      <td>-0.004946</td>\n",
       "      <td>-0.039373</td>\n",
       "      <td>5</td>\n",
       "      <td>2.0</td>\n",
       "      <td>5.0</td>\n",
       "    </tr>\n",
       "    <tr>\n",
       "      <td>2017-10-29</td>\n",
       "      <td>-1.110714</td>\n",
       "      <td>2.423362</td>\n",
       "      <td>-0.401902</td>\n",
       "      <td>5</td>\n",
       "      <td>3.0</td>\n",
       "      <td>5.0</td>\n",
       "    </tr>\n",
       "  </tbody>\n",
       "</table>\n",
       "</div>"
      ],
      "text/plain": [
       "                   A         B         C  D    F    E\n",
       "2017-10-26  0.000000  0.000000 -0.025702  5  5.0  1.0\n",
       "2017-10-27  1.160497  0.231349 -2.502108  5  1.0  1.0\n",
       "2017-10-28  2.128304 -0.004946 -0.039373  5  2.0  5.0\n",
       "2017-10-29 -1.110714  2.423362 -0.401902  5  3.0  5.0"
      ]
     },
     "execution_count": 70,
     "metadata": {},
     "output_type": "execute_result"
    }
   ],
   "source": [
    "df1.fillna(value=5)"
   ]
  },
  {
   "cell_type": "code",
   "execution_count": 71,
   "metadata": {},
   "outputs": [
    {
     "data": {
      "text/html": [
       "<div>\n",
       "<style scoped>\n",
       "    .dataframe tbody tr th:only-of-type {\n",
       "        vertical-align: middle;\n",
       "    }\n",
       "\n",
       "    .dataframe tbody tr th {\n",
       "        vertical-align: top;\n",
       "    }\n",
       "\n",
       "    .dataframe thead th {\n",
       "        text-align: right;\n",
       "    }\n",
       "</style>\n",
       "<table border=\"1\" class=\"dataframe\">\n",
       "  <thead>\n",
       "    <tr style=\"text-align: right;\">\n",
       "      <th></th>\n",
       "      <th>A</th>\n",
       "      <th>B</th>\n",
       "      <th>C</th>\n",
       "      <th>D</th>\n",
       "      <th>F</th>\n",
       "      <th>E</th>\n",
       "    </tr>\n",
       "  </thead>\n",
       "  <tbody>\n",
       "    <tr>\n",
       "      <td>2017-10-26</td>\n",
       "      <td>False</td>\n",
       "      <td>False</td>\n",
       "      <td>False</td>\n",
       "      <td>False</td>\n",
       "      <td>True</td>\n",
       "      <td>False</td>\n",
       "    </tr>\n",
       "    <tr>\n",
       "      <td>2017-10-27</td>\n",
       "      <td>False</td>\n",
       "      <td>False</td>\n",
       "      <td>False</td>\n",
       "      <td>False</td>\n",
       "      <td>False</td>\n",
       "      <td>False</td>\n",
       "    </tr>\n",
       "    <tr>\n",
       "      <td>2017-10-28</td>\n",
       "      <td>False</td>\n",
       "      <td>False</td>\n",
       "      <td>False</td>\n",
       "      <td>False</td>\n",
       "      <td>False</td>\n",
       "      <td>True</td>\n",
       "    </tr>\n",
       "    <tr>\n",
       "      <td>2017-10-29</td>\n",
       "      <td>False</td>\n",
       "      <td>False</td>\n",
       "      <td>False</td>\n",
       "      <td>False</td>\n",
       "      <td>False</td>\n",
       "      <td>True</td>\n",
       "    </tr>\n",
       "  </tbody>\n",
       "</table>\n",
       "</div>"
      ],
      "text/plain": [
       "                A      B      C      D      F      E\n",
       "2017-10-26  False  False  False  False   True  False\n",
       "2017-10-27  False  False  False  False  False  False\n",
       "2017-10-28  False  False  False  False  False   True\n",
       "2017-10-29  False  False  False  False  False   True"
      ]
     },
     "execution_count": 71,
     "metadata": {},
     "output_type": "execute_result"
    }
   ],
   "source": [
    "# 获取所以缺失值的掩码布尔矩阵\n",
    "pd.isnull(df1)"
   ]
  },
  {
   "cell_type": "markdown",
   "metadata": {},
   "source": [
    "# 操作"
   ]
  },
  {
   "cell_type": "markdown",
   "metadata": {},
   "source": [
    "## 统计"
   ]
  },
  {
   "cell_type": "code",
   "execution_count": 72,
   "metadata": {},
   "outputs": [
    {
     "data": {
      "text/plain": [
       "A    0.226838\n",
       "B    0.628003\n",
       "C   -0.336549\n",
       "D    5.000000\n",
       "F    3.000000\n",
       "dtype: float64"
      ]
     },
     "execution_count": 72,
     "metadata": {},
     "output_type": "execute_result"
    }
   ],
   "source": [
    "df.mean()"
   ]
  },
  {
   "cell_type": "code",
   "execution_count": 73,
   "metadata": {},
   "outputs": [
    {
     "data": {
      "text/plain": [
       "2017-10-26    1.243574\n",
       "2017-10-27    0.977948\n",
       "2017-10-28    1.816797\n",
       "2017-10-29    1.782149\n",
       "2017-10-30    1.358770\n",
       "2017-10-31    2.691427\n",
       "Freq: D, dtype: float64"
      ]
     },
     "execution_count": 73,
     "metadata": {},
     "output_type": "execute_result"
    }
   ],
   "source": [
    "df.mean(axis=1)"
   ]
  },
  {
   "cell_type": "code",
   "execution_count": 74,
   "metadata": {},
   "outputs": [
    {
     "data": {
      "text/plain": [
       "A    0.226838\n",
       "B    0.628003\n",
       "C   -0.336549\n",
       "D    5.000000\n",
       "F    3.000000\n",
       "dtype: float64"
      ]
     },
     "execution_count": 74,
     "metadata": {},
     "output_type": "execute_result"
    }
   ],
   "source": [
    "df.mean(axis=0)"
   ]
  },
  {
   "cell_type": "code",
   "execution_count": 75,
   "metadata": {},
   "outputs": [
    {
     "data": {
      "text/html": [
       "<div>\n",
       "<style scoped>\n",
       "    .dataframe tbody tr th:only-of-type {\n",
       "        vertical-align: middle;\n",
       "    }\n",
       "\n",
       "    .dataframe tbody tr th {\n",
       "        vertical-align: top;\n",
       "    }\n",
       "\n",
       "    .dataframe thead th {\n",
       "        text-align: right;\n",
       "    }\n",
       "</style>\n",
       "<table border=\"1\" class=\"dataframe\">\n",
       "  <thead>\n",
       "    <tr style=\"text-align: right;\">\n",
       "      <th></th>\n",
       "      <th>A</th>\n",
       "      <th>B</th>\n",
       "      <th>C</th>\n",
       "      <th>D</th>\n",
       "      <th>F</th>\n",
       "    </tr>\n",
       "  </thead>\n",
       "  <tbody>\n",
       "    <tr>\n",
       "      <td>2017-10-26</td>\n",
       "      <td>0.000000</td>\n",
       "      <td>0.000000</td>\n",
       "      <td>-0.025702</td>\n",
       "      <td>5</td>\n",
       "      <td>NaN</td>\n",
       "    </tr>\n",
       "    <tr>\n",
       "      <td>2017-10-27</td>\n",
       "      <td>1.160497</td>\n",
       "      <td>0.231349</td>\n",
       "      <td>-2.527810</td>\n",
       "      <td>10</td>\n",
       "      <td>1.0</td>\n",
       "    </tr>\n",
       "    <tr>\n",
       "      <td>2017-10-28</td>\n",
       "      <td>3.288801</td>\n",
       "      <td>0.226403</td>\n",
       "      <td>-2.567184</td>\n",
       "      <td>15</td>\n",
       "      <td>3.0</td>\n",
       "    </tr>\n",
       "    <tr>\n",
       "      <td>2017-10-29</td>\n",
       "      <td>2.178086</td>\n",
       "      <td>2.649765</td>\n",
       "      <td>-2.969086</td>\n",
       "      <td>20</td>\n",
       "      <td>6.0</td>\n",
       "    </tr>\n",
       "    <tr>\n",
       "      <td>2017-10-30</td>\n",
       "      <td>1.426276</td>\n",
       "      <td>2.227724</td>\n",
       "      <td>-4.001386</td>\n",
       "      <td>25</td>\n",
       "      <td>10.0</td>\n",
       "    </tr>\n",
       "    <tr>\n",
       "      <td>2017-10-31</td>\n",
       "      <td>1.361028</td>\n",
       "      <td>3.768017</td>\n",
       "      <td>-2.019296</td>\n",
       "      <td>30</td>\n",
       "      <td>15.0</td>\n",
       "    </tr>\n",
       "  </tbody>\n",
       "</table>\n",
       "</div>"
      ],
      "text/plain": [
       "                   A         B         C   D     F\n",
       "2017-10-26  0.000000  0.000000 -0.025702   5   NaN\n",
       "2017-10-27  1.160497  0.231349 -2.527810  10   1.0\n",
       "2017-10-28  3.288801  0.226403 -2.567184  15   3.0\n",
       "2017-10-29  2.178086  2.649765 -2.969086  20   6.0\n",
       "2017-10-30  1.426276  2.227724 -4.001386  25  10.0\n",
       "2017-10-31  1.361028  3.768017 -2.019296  30  15.0"
      ]
     },
     "execution_count": 75,
     "metadata": {},
     "output_type": "execute_result"
    }
   ],
   "source": [
    "# 沿着行方向求累加和\n",
    "df.apply(np.cumsum)"
   ]
  },
  {
   "cell_type": "code",
   "execution_count": 76,
   "metadata": {},
   "outputs": [
    {
     "data": {
      "text/plain": [
       "0    3\n",
       "1    5\n",
       "2    1\n",
       "3    4\n",
       "4    1\n",
       "5    5\n",
       "6    6\n",
       "7    2\n",
       "8    0\n",
       "9    6\n",
       "dtype: int64"
      ]
     },
     "execution_count": 76,
     "metadata": {},
     "output_type": "execute_result"
    }
   ],
   "source": [
    "# histogramming计数\n",
    "s = pd.Series(np.random.randint(0,7,size=10))\n",
    "s\n"
   ]
  },
  {
   "cell_type": "code",
   "execution_count": 78,
   "metadata": {},
   "outputs": [
    {
     "data": {
      "text/plain": [
       "6    2\n",
       "5    2\n",
       "1    2\n",
       "4    1\n",
       "3    1\n",
       "2    1\n",
       "0    1\n",
       "dtype: int64"
      ]
     },
     "execution_count": 78,
     "metadata": {},
     "output_type": "execute_result"
    }
   ],
   "source": [
    "s.value_counts()"
   ]
  },
  {
   "cell_type": "markdown",
   "metadata": {},
   "source": [
    "# 合并"
   ]
  },
  {
   "cell_type": "markdown",
   "metadata": {},
   "source": [
    "## 连接"
   ]
  },
  {
   "cell_type": "code",
   "execution_count": 81,
   "metadata": {},
   "outputs": [
    {
     "data": {
      "text/html": [
       "<div>\n",
       "<style scoped>\n",
       "    .dataframe tbody tr th:only-of-type {\n",
       "        vertical-align: middle;\n",
       "    }\n",
       "\n",
       "    .dataframe tbody tr th {\n",
       "        vertical-align: top;\n",
       "    }\n",
       "\n",
       "    .dataframe thead th {\n",
       "        text-align: right;\n",
       "    }\n",
       "</style>\n",
       "<table border=\"1\" class=\"dataframe\">\n",
       "  <thead>\n",
       "    <tr style=\"text-align: right;\">\n",
       "      <th></th>\n",
       "      <th>0</th>\n",
       "      <th>1</th>\n",
       "      <th>2</th>\n",
       "      <th>3</th>\n",
       "    </tr>\n",
       "  </thead>\n",
       "  <tbody>\n",
       "    <tr>\n",
       "      <td>0</td>\n",
       "      <td>-0.381163</td>\n",
       "      <td>0.026336</td>\n",
       "      <td>-0.326169</td>\n",
       "      <td>-1.827521</td>\n",
       "    </tr>\n",
       "    <tr>\n",
       "      <td>1</td>\n",
       "      <td>0.186749</td>\n",
       "      <td>0.234396</td>\n",
       "      <td>-0.631029</td>\n",
       "      <td>-1.349511</td>\n",
       "    </tr>\n",
       "    <tr>\n",
       "      <td>2</td>\n",
       "      <td>-0.622793</td>\n",
       "      <td>-0.413419</td>\n",
       "      <td>1.011957</td>\n",
       "      <td>0.459760</td>\n",
       "    </tr>\n",
       "    <tr>\n",
       "      <td>3</td>\n",
       "      <td>1.708935</td>\n",
       "      <td>1.761086</td>\n",
       "      <td>-0.559255</td>\n",
       "      <td>-0.290140</td>\n",
       "    </tr>\n",
       "    <tr>\n",
       "      <td>4</td>\n",
       "      <td>-0.091314</td>\n",
       "      <td>-2.034351</td>\n",
       "      <td>-0.503448</td>\n",
       "      <td>-1.590966</td>\n",
       "    </tr>\n",
       "    <tr>\n",
       "      <td>5</td>\n",
       "      <td>-0.950524</td>\n",
       "      <td>0.548015</td>\n",
       "      <td>0.836110</td>\n",
       "      <td>0.322636</td>\n",
       "    </tr>\n",
       "    <tr>\n",
       "      <td>6</td>\n",
       "      <td>-0.009287</td>\n",
       "      <td>-0.746961</td>\n",
       "      <td>-0.165641</td>\n",
       "      <td>0.774410</td>\n",
       "    </tr>\n",
       "    <tr>\n",
       "      <td>7</td>\n",
       "      <td>0.928766</td>\n",
       "      <td>0.621312</td>\n",
       "      <td>-0.854129</td>\n",
       "      <td>-0.311554</td>\n",
       "    </tr>\n",
       "    <tr>\n",
       "      <td>8</td>\n",
       "      <td>1.882520</td>\n",
       "      <td>-0.078032</td>\n",
       "      <td>-0.174294</td>\n",
       "      <td>-0.346413</td>\n",
       "    </tr>\n",
       "    <tr>\n",
       "      <td>9</td>\n",
       "      <td>-1.530564</td>\n",
       "      <td>-0.414410</td>\n",
       "      <td>0.928571</td>\n",
       "      <td>-1.672612</td>\n",
       "    </tr>\n",
       "  </tbody>\n",
       "</table>\n",
       "</div>"
      ],
      "text/plain": [
       "          0         1         2         3\n",
       "0 -0.381163  0.026336 -0.326169 -1.827521\n",
       "1  0.186749  0.234396 -0.631029 -1.349511\n",
       "2 -0.622793 -0.413419  1.011957  0.459760\n",
       "3  1.708935  1.761086 -0.559255 -0.290140\n",
       "4 -0.091314 -2.034351 -0.503448 -1.590966\n",
       "5 -0.950524  0.548015  0.836110  0.322636\n",
       "6 -0.009287 -0.746961 -0.165641  0.774410\n",
       "7  0.928766  0.621312 -0.854129 -0.311554\n",
       "8  1.882520 -0.078032 -0.174294 -0.346413\n",
       "9 -1.530564 -0.414410  0.928571 -1.672612"
      ]
     },
     "execution_count": 81,
     "metadata": {},
     "output_type": "execute_result"
    }
   ],
   "source": [
    "df = pd.DataFrame(np.random.randn(10,4))\n",
    "df"
   ]
  },
  {
   "cell_type": "code",
   "execution_count": 82,
   "metadata": {},
   "outputs": [
    {
     "data": {
      "text/plain": [
       "[          0         1         2         3\n",
       " 0 -0.381163  0.026336 -0.326169 -1.827521\n",
       " 1  0.186749  0.234396 -0.631029 -1.349511\n",
       " 2 -0.622793 -0.413419  1.011957  0.459760,\n",
       "           0         1         2         3\n",
       " 3  1.708935  1.761086 -0.559255 -0.290140\n",
       " 4 -0.091314 -2.034351 -0.503448 -1.590966\n",
       " 5 -0.950524  0.548015  0.836110  0.322636\n",
       " 6 -0.009287 -0.746961 -0.165641  0.774410,\n",
       "           0         1         2         3\n",
       " 7  0.928766  0.621312 -0.854129 -0.311554\n",
       " 8  1.882520 -0.078032 -0.174294 -0.346413\n",
       " 9 -1.530564 -0.414410  0.928571 -1.672612]"
      ]
     },
     "execution_count": 82,
     "metadata": {},
     "output_type": "execute_result"
    }
   ],
   "source": [
    "pieces = [df[:3], df[3:7],df[7:]]\n",
    "pieces"
   ]
  },
  {
   "cell_type": "code",
   "execution_count": 83,
   "metadata": {},
   "outputs": [
    {
     "data": {
      "text/html": [
       "<div>\n",
       "<style scoped>\n",
       "    .dataframe tbody tr th:only-of-type {\n",
       "        vertical-align: middle;\n",
       "    }\n",
       "\n",
       "    .dataframe tbody tr th {\n",
       "        vertical-align: top;\n",
       "    }\n",
       "\n",
       "    .dataframe thead th {\n",
       "        text-align: right;\n",
       "    }\n",
       "</style>\n",
       "<table border=\"1\" class=\"dataframe\">\n",
       "  <thead>\n",
       "    <tr style=\"text-align: right;\">\n",
       "      <th></th>\n",
       "      <th>0</th>\n",
       "      <th>1</th>\n",
       "      <th>2</th>\n",
       "      <th>3</th>\n",
       "    </tr>\n",
       "  </thead>\n",
       "  <tbody>\n",
       "    <tr>\n",
       "      <td>0</td>\n",
       "      <td>-0.381163</td>\n",
       "      <td>0.026336</td>\n",
       "      <td>-0.326169</td>\n",
       "      <td>-1.827521</td>\n",
       "    </tr>\n",
       "    <tr>\n",
       "      <td>1</td>\n",
       "      <td>0.186749</td>\n",
       "      <td>0.234396</td>\n",
       "      <td>-0.631029</td>\n",
       "      <td>-1.349511</td>\n",
       "    </tr>\n",
       "    <tr>\n",
       "      <td>2</td>\n",
       "      <td>-0.622793</td>\n",
       "      <td>-0.413419</td>\n",
       "      <td>1.011957</td>\n",
       "      <td>0.459760</td>\n",
       "    </tr>\n",
       "    <tr>\n",
       "      <td>3</td>\n",
       "      <td>1.708935</td>\n",
       "      <td>1.761086</td>\n",
       "      <td>-0.559255</td>\n",
       "      <td>-0.290140</td>\n",
       "    </tr>\n",
       "    <tr>\n",
       "      <td>4</td>\n",
       "      <td>-0.091314</td>\n",
       "      <td>-2.034351</td>\n",
       "      <td>-0.503448</td>\n",
       "      <td>-1.590966</td>\n",
       "    </tr>\n",
       "    <tr>\n",
       "      <td>5</td>\n",
       "      <td>-0.950524</td>\n",
       "      <td>0.548015</td>\n",
       "      <td>0.836110</td>\n",
       "      <td>0.322636</td>\n",
       "    </tr>\n",
       "    <tr>\n",
       "      <td>6</td>\n",
       "      <td>-0.009287</td>\n",
       "      <td>-0.746961</td>\n",
       "      <td>-0.165641</td>\n",
       "      <td>0.774410</td>\n",
       "    </tr>\n",
       "    <tr>\n",
       "      <td>7</td>\n",
       "      <td>0.928766</td>\n",
       "      <td>0.621312</td>\n",
       "      <td>-0.854129</td>\n",
       "      <td>-0.311554</td>\n",
       "    </tr>\n",
       "    <tr>\n",
       "      <td>8</td>\n",
       "      <td>1.882520</td>\n",
       "      <td>-0.078032</td>\n",
       "      <td>-0.174294</td>\n",
       "      <td>-0.346413</td>\n",
       "    </tr>\n",
       "    <tr>\n",
       "      <td>9</td>\n",
       "      <td>-1.530564</td>\n",
       "      <td>-0.414410</td>\n",
       "      <td>0.928571</td>\n",
       "      <td>-1.672612</td>\n",
       "    </tr>\n",
       "  </tbody>\n",
       "</table>\n",
       "</div>"
      ],
      "text/plain": [
       "          0         1         2         3\n",
       "0 -0.381163  0.026336 -0.326169 -1.827521\n",
       "1  0.186749  0.234396 -0.631029 -1.349511\n",
       "2 -0.622793 -0.413419  1.011957  0.459760\n",
       "3  1.708935  1.761086 -0.559255 -0.290140\n",
       "4 -0.091314 -2.034351 -0.503448 -1.590966\n",
       "5 -0.950524  0.548015  0.836110  0.322636\n",
       "6 -0.009287 -0.746961 -0.165641  0.774410\n",
       "7  0.928766  0.621312 -0.854129 -0.311554\n",
       "8  1.882520 -0.078032 -0.174294 -0.346413\n",
       "9 -1.530564 -0.414410  0.928571 -1.672612"
      ]
     },
     "execution_count": 83,
     "metadata": {},
     "output_type": "execute_result"
    }
   ],
   "source": [
    "pd.concat(pieces) # 合并"
   ]
  },
  {
   "cell_type": "markdown",
   "metadata": {},
   "source": [
    "# Join"
   ]
  },
  {
   "cell_type": "code",
   "execution_count": 93,
   "metadata": {},
   "outputs": [],
   "source": [
    "left = pd.DataFrame({'key':['foo','foo'],'lval':[1,2]})\n",
    "right = pd.DataFrame({'key':['foo','foo'],'rval':[4,5]})"
   ]
  },
  {
   "cell_type": "code",
   "execution_count": 94,
   "metadata": {},
   "outputs": [
    {
     "data": {
      "text/html": [
       "<div>\n",
       "<style scoped>\n",
       "    .dataframe tbody tr th:only-of-type {\n",
       "        vertical-align: middle;\n",
       "    }\n",
       "\n",
       "    .dataframe tbody tr th {\n",
       "        vertical-align: top;\n",
       "    }\n",
       "\n",
       "    .dataframe thead th {\n",
       "        text-align: right;\n",
       "    }\n",
       "</style>\n",
       "<table border=\"1\" class=\"dataframe\">\n",
       "  <thead>\n",
       "    <tr style=\"text-align: right;\">\n",
       "      <th></th>\n",
       "      <th>key</th>\n",
       "      <th>lval</th>\n",
       "      <th>rval</th>\n",
       "    </tr>\n",
       "  </thead>\n",
       "  <tbody>\n",
       "    <tr>\n",
       "      <td>0</td>\n",
       "      <td>foo</td>\n",
       "      <td>1</td>\n",
       "      <td>4</td>\n",
       "    </tr>\n",
       "    <tr>\n",
       "      <td>1</td>\n",
       "      <td>foo</td>\n",
       "      <td>1</td>\n",
       "      <td>5</td>\n",
       "    </tr>\n",
       "    <tr>\n",
       "      <td>2</td>\n",
       "      <td>foo</td>\n",
       "      <td>2</td>\n",
       "      <td>4</td>\n",
       "    </tr>\n",
       "    <tr>\n",
       "      <td>3</td>\n",
       "      <td>foo</td>\n",
       "      <td>2</td>\n",
       "      <td>5</td>\n",
       "    </tr>\n",
       "  </tbody>\n",
       "</table>\n",
       "</div>"
      ],
      "text/plain": [
       "   key  lval  rval\n",
       "0  foo     1     4\n",
       "1  foo     1     5\n",
       "2  foo     2     4\n",
       "3  foo     2     5"
      ]
     },
     "execution_count": 94,
     "metadata": {},
     "output_type": "execute_result"
    }
   ],
   "source": [
    "pd.merge(left,right, on = 'key')"
   ]
  },
  {
   "cell_type": "code",
   "execution_count": 95,
   "metadata": {},
   "outputs": [],
   "source": [
    "left = pd.DataFrame({'key':['foo','bar'],'lval':[1,2]})\n",
    "right = pd.DataFrame({'key':['foo','bar'],'rval':[4,5]})"
   ]
  },
  {
   "cell_type": "code",
   "execution_count": 96,
   "metadata": {},
   "outputs": [
    {
     "data": {
      "text/html": [
       "<div>\n",
       "<style scoped>\n",
       "    .dataframe tbody tr th:only-of-type {\n",
       "        vertical-align: middle;\n",
       "    }\n",
       "\n",
       "    .dataframe tbody tr th {\n",
       "        vertical-align: top;\n",
       "    }\n",
       "\n",
       "    .dataframe thead th {\n",
       "        text-align: right;\n",
       "    }\n",
       "</style>\n",
       "<table border=\"1\" class=\"dataframe\">\n",
       "  <thead>\n",
       "    <tr style=\"text-align: right;\">\n",
       "      <th></th>\n",
       "      <th>key</th>\n",
       "      <th>lval</th>\n",
       "      <th>rval</th>\n",
       "    </tr>\n",
       "  </thead>\n",
       "  <tbody>\n",
       "    <tr>\n",
       "      <td>0</td>\n",
       "      <td>foo</td>\n",
       "      <td>1</td>\n",
       "      <td>4</td>\n",
       "    </tr>\n",
       "    <tr>\n",
       "      <td>1</td>\n",
       "      <td>bar</td>\n",
       "      <td>2</td>\n",
       "      <td>5</td>\n",
       "    </tr>\n",
       "  </tbody>\n",
       "</table>\n",
       "</div>"
      ],
      "text/plain": [
       "   key  lval  rval\n",
       "0  foo     1     4\n",
       "1  bar     2     5"
      ]
     },
     "execution_count": 96,
     "metadata": {},
     "output_type": "execute_result"
    }
   ],
   "source": [
    "pd.merge(left,right, on = 'key')"
   ]
  },
  {
   "cell_type": "code",
   "execution_count": 98,
   "metadata": {},
   "outputs": [
    {
     "data": {
      "text/html": [
       "<div>\n",
       "<style scoped>\n",
       "    .dataframe tbody tr th:only-of-type {\n",
       "        vertical-align: middle;\n",
       "    }\n",
       "\n",
       "    .dataframe tbody tr th {\n",
       "        vertical-align: top;\n",
       "    }\n",
       "\n",
       "    .dataframe thead th {\n",
       "        text-align: right;\n",
       "    }\n",
       "</style>\n",
       "<table border=\"1\" class=\"dataframe\">\n",
       "  <thead>\n",
       "    <tr style=\"text-align: right;\">\n",
       "      <th></th>\n",
       "      <th>A</th>\n",
       "      <th>B</th>\n",
       "      <th>C</th>\n",
       "      <th>D</th>\n",
       "    </tr>\n",
       "  </thead>\n",
       "  <tbody>\n",
       "    <tr>\n",
       "      <td>0</td>\n",
       "      <td>0.281726</td>\n",
       "      <td>-0.179505</td>\n",
       "      <td>-0.269292</td>\n",
       "      <td>-0.251110</td>\n",
       "    </tr>\n",
       "    <tr>\n",
       "      <td>1</td>\n",
       "      <td>0.023209</td>\n",
       "      <td>-1.644733</td>\n",
       "      <td>1.467857</td>\n",
       "      <td>-0.813217</td>\n",
       "    </tr>\n",
       "    <tr>\n",
       "      <td>2</td>\n",
       "      <td>0.601090</td>\n",
       "      <td>-0.301530</td>\n",
       "      <td>-0.884638</td>\n",
       "      <td>0.419431</td>\n",
       "    </tr>\n",
       "    <tr>\n",
       "      <td>3</td>\n",
       "      <td>0.559484</td>\n",
       "      <td>0.263708</td>\n",
       "      <td>0.219612</td>\n",
       "      <td>0.175058</td>\n",
       "    </tr>\n",
       "    <tr>\n",
       "      <td>4</td>\n",
       "      <td>0.642055</td>\n",
       "      <td>-0.468622</td>\n",
       "      <td>-0.066023</td>\n",
       "      <td>-0.111512</td>\n",
       "    </tr>\n",
       "    <tr>\n",
       "      <td>5</td>\n",
       "      <td>0.331414</td>\n",
       "      <td>-2.191357</td>\n",
       "      <td>-1.236714</td>\n",
       "      <td>-0.110092</td>\n",
       "    </tr>\n",
       "    <tr>\n",
       "      <td>6</td>\n",
       "      <td>-0.835023</td>\n",
       "      <td>-0.544331</td>\n",
       "      <td>-0.718433</td>\n",
       "      <td>-1.845462</td>\n",
       "    </tr>\n",
       "    <tr>\n",
       "      <td>7</td>\n",
       "      <td>2.014138</td>\n",
       "      <td>0.665888</td>\n",
       "      <td>0.992700</td>\n",
       "      <td>-1.477391</td>\n",
       "    </tr>\n",
       "  </tbody>\n",
       "</table>\n",
       "</div>"
      ],
      "text/plain": [
       "          A         B         C         D\n",
       "0  0.281726 -0.179505 -0.269292 -0.251110\n",
       "1  0.023209 -1.644733  1.467857 -0.813217\n",
       "2  0.601090 -0.301530 -0.884638  0.419431\n",
       "3  0.559484  0.263708  0.219612  0.175058\n",
       "4  0.642055 -0.468622 -0.066023 -0.111512\n",
       "5  0.331414 -2.191357 -1.236714 -0.110092\n",
       "6 -0.835023 -0.544331 -0.718433 -1.845462\n",
       "7  2.014138  0.665888  0.992700 -1.477391"
      ]
     },
     "execution_count": 98,
     "metadata": {},
     "output_type": "execute_result"
    }
   ],
   "source": [
    "df = pd.DataFrame(np.random.randn(8,4), columns=['A','B','C','D'])\n",
    "df"
   ]
  },
  {
   "cell_type": "code",
   "execution_count": 100,
   "metadata": {},
   "outputs": [
    {
     "data": {
      "text/plain": [
       "A    0.559484\n",
       "B    0.263708\n",
       "C    0.219612\n",
       "D    0.175058\n",
       "Name: 3, dtype: float64"
      ]
     },
     "execution_count": 100,
     "metadata": {},
     "output_type": "execute_result"
    }
   ],
   "source": [
    "s = df.iloc[3]\n",
    "s"
   ]
  },
  {
   "cell_type": "code",
   "execution_count": 103,
   "metadata": {},
   "outputs": [
    {
     "data": {
      "text/html": [
       "<div>\n",
       "<style scoped>\n",
       "    .dataframe tbody tr th:only-of-type {\n",
       "        vertical-align: middle;\n",
       "    }\n",
       "\n",
       "    .dataframe tbody tr th {\n",
       "        vertical-align: top;\n",
       "    }\n",
       "\n",
       "    .dataframe thead th {\n",
       "        text-align: right;\n",
       "    }\n",
       "</style>\n",
       "<table border=\"1\" class=\"dataframe\">\n",
       "  <thead>\n",
       "    <tr style=\"text-align: right;\">\n",
       "      <th></th>\n",
       "      <th>A</th>\n",
       "      <th>B</th>\n",
       "      <th>C</th>\n",
       "      <th>D</th>\n",
       "    </tr>\n",
       "  </thead>\n",
       "  <tbody>\n",
       "    <tr>\n",
       "      <td>0</td>\n",
       "      <td>0.281726</td>\n",
       "      <td>-0.179505</td>\n",
       "      <td>-0.269292</td>\n",
       "      <td>-0.251110</td>\n",
       "    </tr>\n",
       "    <tr>\n",
       "      <td>1</td>\n",
       "      <td>0.023209</td>\n",
       "      <td>-1.644733</td>\n",
       "      <td>1.467857</td>\n",
       "      <td>-0.813217</td>\n",
       "    </tr>\n",
       "    <tr>\n",
       "      <td>2</td>\n",
       "      <td>0.601090</td>\n",
       "      <td>-0.301530</td>\n",
       "      <td>-0.884638</td>\n",
       "      <td>0.419431</td>\n",
       "    </tr>\n",
       "    <tr>\n",
       "      <td>3</td>\n",
       "      <td>0.559484</td>\n",
       "      <td>0.263708</td>\n",
       "      <td>0.219612</td>\n",
       "      <td>0.175058</td>\n",
       "    </tr>\n",
       "    <tr>\n",
       "      <td>4</td>\n",
       "      <td>0.642055</td>\n",
       "      <td>-0.468622</td>\n",
       "      <td>-0.066023</td>\n",
       "      <td>-0.111512</td>\n",
       "    </tr>\n",
       "    <tr>\n",
       "      <td>5</td>\n",
       "      <td>0.331414</td>\n",
       "      <td>-2.191357</td>\n",
       "      <td>-1.236714</td>\n",
       "      <td>-0.110092</td>\n",
       "    </tr>\n",
       "    <tr>\n",
       "      <td>6</td>\n",
       "      <td>-0.835023</td>\n",
       "      <td>-0.544331</td>\n",
       "      <td>-0.718433</td>\n",
       "      <td>-1.845462</td>\n",
       "    </tr>\n",
       "    <tr>\n",
       "      <td>7</td>\n",
       "      <td>2.014138</td>\n",
       "      <td>0.665888</td>\n",
       "      <td>0.992700</td>\n",
       "      <td>-1.477391</td>\n",
       "    </tr>\n",
       "    <tr>\n",
       "      <td>8</td>\n",
       "      <td>0.559484</td>\n",
       "      <td>0.263708</td>\n",
       "      <td>0.219612</td>\n",
       "      <td>0.175058</td>\n",
       "    </tr>\n",
       "  </tbody>\n",
       "</table>\n",
       "</div>"
      ],
      "text/plain": [
       "          A         B         C         D\n",
       "0  0.281726 -0.179505 -0.269292 -0.251110\n",
       "1  0.023209 -1.644733  1.467857 -0.813217\n",
       "2  0.601090 -0.301530 -0.884638  0.419431\n",
       "3  0.559484  0.263708  0.219612  0.175058\n",
       "4  0.642055 -0.468622 -0.066023 -0.111512\n",
       "5  0.331414 -2.191357 -1.236714 -0.110092\n",
       "6 -0.835023 -0.544331 -0.718433 -1.845462\n",
       "7  2.014138  0.665888  0.992700 -1.477391\n",
       "8  0.559484  0.263708  0.219612  0.175058"
      ]
     },
     "execution_count": 103,
     "metadata": {},
     "output_type": "execute_result"
    }
   ],
   "source": [
    "df.append(s, ignore_index=True)"
   ]
  },
  {
   "cell_type": "markdown",
   "metadata": {},
   "source": [
    "# groupby"
   ]
  },
  {
   "cell_type": "code",
   "execution_count": 84,
   "metadata": {},
   "outputs": [],
   "source": [
    "df = pd.DataFrame({\n",
    "    'key':['a','b','c']*4,\n",
    "    'value': np.arange(12.)\n",
    "})"
   ]
  },
  {
   "cell_type": "code",
   "execution_count": 87,
   "metadata": {},
   "outputs": [
    {
     "data": {
      "text/plain": [
       "<pandas.core.groupby.generic.SeriesGroupBy object at 0x1145b5dd0>"
      ]
     },
     "execution_count": 87,
     "metadata": {},
     "output_type": "execute_result"
    }
   ],
   "source": [
    "g = df.groupby('key').value\n",
    "g"
   ]
  },
  {
   "cell_type": "code",
   "execution_count": 88,
   "metadata": {},
   "outputs": [
    {
     "data": {
      "text/plain": [
       "key\n",
       "a    4.5\n",
       "b    5.5\n",
       "c    6.5\n",
       "Name: value, dtype: float64"
      ]
     },
     "execution_count": 88,
     "metadata": {},
     "output_type": "execute_result"
    }
   ],
   "source": [
    "g.mean()"
   ]
  },
  {
   "cell_type": "code",
   "execution_count": 92,
   "metadata": {},
   "outputs": [
    {
     "data": {
      "text/html": [
       "<div>\n",
       "<style scoped>\n",
       "    .dataframe tbody tr th:only-of-type {\n",
       "        vertical-align: middle;\n",
       "    }\n",
       "\n",
       "    .dataframe tbody tr th {\n",
       "        vertical-align: top;\n",
       "    }\n",
       "\n",
       "    .dataframe thead th {\n",
       "        text-align: right;\n",
       "    }\n",
       "</style>\n",
       "<table border=\"1\" class=\"dataframe\">\n",
       "  <thead>\n",
       "    <tr style=\"text-align: right;\">\n",
       "      <th></th>\n",
       "      <th>key</th>\n",
       "      <th>value</th>\n",
       "      <th>A</th>\n",
       "    </tr>\n",
       "  </thead>\n",
       "  <tbody>\n",
       "    <tr>\n",
       "      <td>0</td>\n",
       "      <td>a</td>\n",
       "      <td>0.0</td>\n",
       "      <td>1</td>\n",
       "    </tr>\n",
       "    <tr>\n",
       "      <td>1</td>\n",
       "      <td>b</td>\n",
       "      <td>1.0</td>\n",
       "      <td>1</td>\n",
       "    </tr>\n",
       "    <tr>\n",
       "      <td>2</td>\n",
       "      <td>c</td>\n",
       "      <td>2.0</td>\n",
       "      <td>1</td>\n",
       "    </tr>\n",
       "    <tr>\n",
       "      <td>3</td>\n",
       "      <td>a</td>\n",
       "      <td>3.0</td>\n",
       "      <td>1</td>\n",
       "    </tr>\n",
       "    <tr>\n",
       "      <td>4</td>\n",
       "      <td>b</td>\n",
       "      <td>4.0</td>\n",
       "      <td>1</td>\n",
       "    </tr>\n",
       "    <tr>\n",
       "      <td>5</td>\n",
       "      <td>c</td>\n",
       "      <td>5.0</td>\n",
       "      <td>1</td>\n",
       "    </tr>\n",
       "    <tr>\n",
       "      <td>6</td>\n",
       "      <td>a</td>\n",
       "      <td>6.0</td>\n",
       "      <td>1</td>\n",
       "    </tr>\n",
       "    <tr>\n",
       "      <td>7</td>\n",
       "      <td>b</td>\n",
       "      <td>7.0</td>\n",
       "      <td>1</td>\n",
       "    </tr>\n",
       "    <tr>\n",
       "      <td>8</td>\n",
       "      <td>c</td>\n",
       "      <td>8.0</td>\n",
       "      <td>1</td>\n",
       "    </tr>\n",
       "    <tr>\n",
       "      <td>9</td>\n",
       "      <td>a</td>\n",
       "      <td>9.0</td>\n",
       "      <td>1</td>\n",
       "    </tr>\n",
       "    <tr>\n",
       "      <td>10</td>\n",
       "      <td>b</td>\n",
       "      <td>10.0</td>\n",
       "      <td>1</td>\n",
       "    </tr>\n",
       "    <tr>\n",
       "      <td>11</td>\n",
       "      <td>c</td>\n",
       "      <td>11.0</td>\n",
       "      <td>1</td>\n",
       "    </tr>\n",
       "  </tbody>\n",
       "</table>\n",
       "</div>"
      ],
      "text/plain": [
       "   key  value  A\n",
       "0    a    0.0  1\n",
       "1    b    1.0  1\n",
       "2    c    2.0  1\n",
       "3    a    3.0  1\n",
       "4    b    4.0  1\n",
       "5    c    5.0  1\n",
       "6    a    6.0  1\n",
       "7    b    7.0  1\n",
       "8    c    8.0  1\n",
       "9    a    9.0  1\n",
       "10   b   10.0  1\n",
       "11   c   11.0  1"
      ]
     },
     "execution_count": 92,
     "metadata": {},
     "output_type": "execute_result"
    }
   ],
   "source": [
    "df['A']=1\n",
    "df"
   ]
  },
  {
   "cell_type": "code",
   "execution_count": 108,
   "metadata": {},
   "outputs": [
    {
     "data": {
      "text/html": [
       "<div>\n",
       "<style scoped>\n",
       "    .dataframe tbody tr th:only-of-type {\n",
       "        vertical-align: middle;\n",
       "    }\n",
       "\n",
       "    .dataframe tbody tr th {\n",
       "        vertical-align: top;\n",
       "    }\n",
       "\n",
       "    .dataframe thead th {\n",
       "        text-align: right;\n",
       "    }\n",
       "</style>\n",
       "<table border=\"1\" class=\"dataframe\">\n",
       "  <thead>\n",
       "    <tr style=\"text-align: right;\">\n",
       "      <th></th>\n",
       "      <th>A</th>\n",
       "      <th>B</th>\n",
       "      <th>C</th>\n",
       "      <th>D</th>\n",
       "    </tr>\n",
       "  </thead>\n",
       "  <tbody>\n",
       "    <tr>\n",
       "      <td>0</td>\n",
       "      <td>foo</td>\n",
       "      <td>one</td>\n",
       "      <td>-0.651237</td>\n",
       "      <td>1.327105</td>\n",
       "    </tr>\n",
       "    <tr>\n",
       "      <td>1</td>\n",
       "      <td>bar</td>\n",
       "      <td>one</td>\n",
       "      <td>-1.874712</td>\n",
       "      <td>0.618362</td>\n",
       "    </tr>\n",
       "    <tr>\n",
       "      <td>2</td>\n",
       "      <td>foo</td>\n",
       "      <td>two</td>\n",
       "      <td>0.365153</td>\n",
       "      <td>-0.447428</td>\n",
       "    </tr>\n",
       "    <tr>\n",
       "      <td>3</td>\n",
       "      <td>bar</td>\n",
       "      <td>three</td>\n",
       "      <td>-2.082160</td>\n",
       "      <td>-0.990235</td>\n",
       "    </tr>\n",
       "    <tr>\n",
       "      <td>4</td>\n",
       "      <td>foo</td>\n",
       "      <td>two</td>\n",
       "      <td>-0.993861</td>\n",
       "      <td>0.550047</td>\n",
       "    </tr>\n",
       "    <tr>\n",
       "      <td>5</td>\n",
       "      <td>bar</td>\n",
       "      <td>two</td>\n",
       "      <td>1.741254</td>\n",
       "      <td>-0.079034</td>\n",
       "    </tr>\n",
       "    <tr>\n",
       "      <td>6</td>\n",
       "      <td>foo</td>\n",
       "      <td>one</td>\n",
       "      <td>-0.592577</td>\n",
       "      <td>-0.483133</td>\n",
       "    </tr>\n",
       "    <tr>\n",
       "      <td>7</td>\n",
       "      <td>foo</td>\n",
       "      <td>three</td>\n",
       "      <td>0.680354</td>\n",
       "      <td>0.337801</td>\n",
       "    </tr>\n",
       "  </tbody>\n",
       "</table>\n",
       "</div>"
      ],
      "text/plain": [
       "     A      B         C         D\n",
       "0  foo    one -0.651237  1.327105\n",
       "1  bar    one -1.874712  0.618362\n",
       "2  foo    two  0.365153 -0.447428\n",
       "3  bar  three -2.082160 -0.990235\n",
       "4  foo    two -0.993861  0.550047\n",
       "5  bar    two  1.741254 -0.079034\n",
       "6  foo    one -0.592577 -0.483133\n",
       "7  foo  three  0.680354  0.337801"
      ]
     },
     "execution_count": 108,
     "metadata": {},
     "output_type": "execute_result"
    }
   ],
   "source": [
    "df = pd.DataFrame({\n",
    "    'A':['foo','bar','foo','bar',\n",
    "        'foo','bar','foo','foo'],\n",
    "    'B':['one','one','two','three',\n",
    "        'two','two','one','three'],\n",
    "    'C':np.random.randn(8),\n",
    "    'D': np.random.randn(8)\n",
    "})\n",
    "df"
   ]
  },
  {
   "cell_type": "code",
   "execution_count": 111,
   "metadata": {},
   "outputs": [
    {
     "data": {
      "text/html": [
       "<div>\n",
       "<style scoped>\n",
       "    .dataframe tbody tr th:only-of-type {\n",
       "        vertical-align: middle;\n",
       "    }\n",
       "\n",
       "    .dataframe tbody tr th {\n",
       "        vertical-align: top;\n",
       "    }\n",
       "\n",
       "    .dataframe thead th {\n",
       "        text-align: right;\n",
       "    }\n",
       "</style>\n",
       "<table border=\"1\" class=\"dataframe\">\n",
       "  <thead>\n",
       "    <tr style=\"text-align: right;\">\n",
       "      <th></th>\n",
       "      <th>C</th>\n",
       "      <th>D</th>\n",
       "    </tr>\n",
       "    <tr>\n",
       "      <th>A</th>\n",
       "      <th></th>\n",
       "      <th></th>\n",
       "    </tr>\n",
       "  </thead>\n",
       "  <tbody>\n",
       "    <tr>\n",
       "      <td>bar</td>\n",
       "      <td>-2.215618</td>\n",
       "      <td>-0.450907</td>\n",
       "    </tr>\n",
       "    <tr>\n",
       "      <td>foo</td>\n",
       "      <td>-1.192168</td>\n",
       "      <td>1.284392</td>\n",
       "    </tr>\n",
       "  </tbody>\n",
       "</table>\n",
       "</div>"
      ],
      "text/plain": [
       "            C         D\n",
       "A                      \n",
       "bar -2.215618 -0.450907\n",
       "foo -1.192168  1.284392"
      ]
     },
     "execution_count": 111,
     "metadata": {},
     "output_type": "execute_result"
    }
   ],
   "source": [
    "df.groupby('A').sum()"
   ]
  },
  {
   "cell_type": "code",
   "execution_count": 117,
   "metadata": {},
   "outputs": [
    {
     "data": {
      "text/html": [
       "<div>\n",
       "<style scoped>\n",
       "    .dataframe tbody tr th:only-of-type {\n",
       "        vertical-align: middle;\n",
       "    }\n",
       "\n",
       "    .dataframe tbody tr th {\n",
       "        vertical-align: top;\n",
       "    }\n",
       "\n",
       "    .dataframe thead th {\n",
       "        text-align: right;\n",
       "    }\n",
       "</style>\n",
       "<table border=\"1\" class=\"dataframe\">\n",
       "  <thead>\n",
       "    <tr style=\"text-align: right;\">\n",
       "      <th></th>\n",
       "      <th></th>\n",
       "      <th>C</th>\n",
       "      <th>D</th>\n",
       "    </tr>\n",
       "    <tr>\n",
       "      <th>A</th>\n",
       "      <th>B</th>\n",
       "      <th></th>\n",
       "      <th></th>\n",
       "    </tr>\n",
       "  </thead>\n",
       "  <tbody>\n",
       "    <tr>\n",
       "      <td rowspan=\"3\" valign=\"top\">bar</td>\n",
       "      <td>one</td>\n",
       "      <td>-1.874712</td>\n",
       "      <td>0.618362</td>\n",
       "    </tr>\n",
       "    <tr>\n",
       "      <td>three</td>\n",
       "      <td>-2.082160</td>\n",
       "      <td>-0.990235</td>\n",
       "    </tr>\n",
       "    <tr>\n",
       "      <td>two</td>\n",
       "      <td>1.741254</td>\n",
       "      <td>-0.079034</td>\n",
       "    </tr>\n",
       "    <tr>\n",
       "      <td rowspan=\"3\" valign=\"top\">foo</td>\n",
       "      <td>one</td>\n",
       "      <td>-1.243814</td>\n",
       "      <td>0.843972</td>\n",
       "    </tr>\n",
       "    <tr>\n",
       "      <td>three</td>\n",
       "      <td>0.680354</td>\n",
       "      <td>0.337801</td>\n",
       "    </tr>\n",
       "    <tr>\n",
       "      <td>two</td>\n",
       "      <td>-0.628708</td>\n",
       "      <td>0.102619</td>\n",
       "    </tr>\n",
       "  </tbody>\n",
       "</table>\n",
       "</div>"
      ],
      "text/plain": [
       "                  C         D\n",
       "A   B                        \n",
       "bar one   -1.874712  0.618362\n",
       "    three -2.082160 -0.990235\n",
       "    two    1.741254 -0.079034\n",
       "foo one   -1.243814  0.843972\n",
       "    three  0.680354  0.337801\n",
       "    two   -0.628708  0.102619"
      ]
     },
     "execution_count": 117,
     "metadata": {},
     "output_type": "execute_result"
    }
   ],
   "source": [
    "df.groupby(list('AB')).sum()"
   ]
  },
  {
   "cell_type": "code",
   "execution_count": 119,
   "metadata": {},
   "outputs": [
    {
     "data": {
      "text/plain": [
       "[('bar', 'one'),\n",
       " ('bar', 'two'),\n",
       " ('baz', 'one'),\n",
       " ('baz', 'two'),\n",
       " ('foo', 'one'),\n",
       " ('foo', 'two'),\n",
       " ('qux', 'one'),\n",
       " ('qux', 'two')]"
      ]
     },
     "execution_count": 119,
     "metadata": {},
     "output_type": "execute_result"
    }
   ],
   "source": [
    "tuples = list(zip(['bar','bar','baz','baz','foo','foo','qux','qux'],\n",
    "                 ['one','two','one','two','one','two','one','two']))\n",
    "tuples"
   ]
  },
  {
   "cell_type": "code",
   "execution_count": 121,
   "metadata": {},
   "outputs": [
    {
     "data": {
      "text/plain": [
       "MultiIndex([('bar', 'one'),\n",
       "            ('bar', 'two'),\n",
       "            ('baz', 'one'),\n",
       "            ('baz', 'two'),\n",
       "            ('foo', 'one'),\n",
       "            ('foo', 'two'),\n",
       "            ('qux', 'one'),\n",
       "            ('qux', 'two')],\n",
       "           names=['first', 'second'])"
      ]
     },
     "execution_count": 121,
     "metadata": {},
     "output_type": "execute_result"
    }
   ],
   "source": [
    "index = pd.MultiIndex.from_tuples(tuples, names=['first','second'])\n",
    "index"
   ]
  },
  {
   "cell_type": "code",
   "execution_count": 122,
   "metadata": {},
   "outputs": [
    {
     "data": {
      "text/html": [
       "<div>\n",
       "<style scoped>\n",
       "    .dataframe tbody tr th:only-of-type {\n",
       "        vertical-align: middle;\n",
       "    }\n",
       "\n",
       "    .dataframe tbody tr th {\n",
       "        vertical-align: top;\n",
       "    }\n",
       "\n",
       "    .dataframe thead th {\n",
       "        text-align: right;\n",
       "    }\n",
       "</style>\n",
       "<table border=\"1\" class=\"dataframe\">\n",
       "  <thead>\n",
       "    <tr style=\"text-align: right;\">\n",
       "      <th></th>\n",
       "      <th></th>\n",
       "      <th>A</th>\n",
       "      <th>B</th>\n",
       "    </tr>\n",
       "    <tr>\n",
       "      <th>first</th>\n",
       "      <th>second</th>\n",
       "      <th></th>\n",
       "      <th></th>\n",
       "    </tr>\n",
       "  </thead>\n",
       "  <tbody>\n",
       "    <tr>\n",
       "      <td rowspan=\"2\" valign=\"top\">bar</td>\n",
       "      <td>one</td>\n",
       "      <td>2.195420</td>\n",
       "      <td>0.644051</td>\n",
       "    </tr>\n",
       "    <tr>\n",
       "      <td>two</td>\n",
       "      <td>0.613641</td>\n",
       "      <td>0.900669</td>\n",
       "    </tr>\n",
       "    <tr>\n",
       "      <td rowspan=\"2\" valign=\"top\">baz</td>\n",
       "      <td>one</td>\n",
       "      <td>-0.250525</td>\n",
       "      <td>1.113566</td>\n",
       "    </tr>\n",
       "    <tr>\n",
       "      <td>two</td>\n",
       "      <td>0.369680</td>\n",
       "      <td>-1.104077</td>\n",
       "    </tr>\n",
       "  </tbody>\n",
       "</table>\n",
       "</div>"
      ],
      "text/plain": [
       "                     A         B\n",
       "first second                    \n",
       "bar   one     2.195420  0.644051\n",
       "      two     0.613641  0.900669\n",
       "baz   one    -0.250525  1.113566\n",
       "      two     0.369680 -1.104077"
      ]
     },
     "execution_count": 122,
     "metadata": {},
     "output_type": "execute_result"
    }
   ],
   "source": [
    "df = pd.DataFrame(np.random.randn(8,2), index = index, columns=['A','B'])\n",
    "\n",
    "df2 = df[:4]\n",
    "df2"
   ]
  },
  {
   "cell_type": "code",
   "execution_count": 123,
   "metadata": {},
   "outputs": [
    {
     "data": {
      "text/plain": [
       "first  second   \n",
       "bar    one     A    2.195420\n",
       "               B    0.644051\n",
       "       two     A    0.613641\n",
       "               B    0.900669\n",
       "baz    one     A   -0.250525\n",
       "               B    1.113566\n",
       "       two     A    0.369680\n",
       "               B   -1.104077\n",
       "foo    one     A   -0.603436\n",
       "               B    1.027162\n",
       "       two     A    0.710362\n",
       "               B   -0.337160\n",
       "qux    one     A    0.187287\n",
       "               B   -0.832406\n",
       "       two     A   -0.184709\n",
       "               B    0.619744\n",
       "dtype: float64"
      ]
     },
     "execution_count": 123,
     "metadata": {},
     "output_type": "execute_result"
    }
   ],
   "source": [
    "stacked = df.stack() # 将某一级的列转为行索引\n",
    "stacked"
   ]
  },
  {
   "cell_type": "code",
   "execution_count": 124,
   "metadata": {},
   "outputs": [
    {
     "data": {
      "text/html": [
       "<div>\n",
       "<style scoped>\n",
       "    .dataframe tbody tr th:only-of-type {\n",
       "        vertical-align: middle;\n",
       "    }\n",
       "\n",
       "    .dataframe tbody tr th {\n",
       "        vertical-align: top;\n",
       "    }\n",
       "\n",
       "    .dataframe thead th {\n",
       "        text-align: right;\n",
       "    }\n",
       "</style>\n",
       "<table border=\"1\" class=\"dataframe\">\n",
       "  <thead>\n",
       "    <tr style=\"text-align: right;\">\n",
       "      <th></th>\n",
       "      <th></th>\n",
       "      <th>A</th>\n",
       "      <th>B</th>\n",
       "    </tr>\n",
       "    <tr>\n",
       "      <th>first</th>\n",
       "      <th>second</th>\n",
       "      <th></th>\n",
       "      <th></th>\n",
       "    </tr>\n",
       "  </thead>\n",
       "  <tbody>\n",
       "    <tr>\n",
       "      <td rowspan=\"2\" valign=\"top\">bar</td>\n",
       "      <td>one</td>\n",
       "      <td>2.195420</td>\n",
       "      <td>0.644051</td>\n",
       "    </tr>\n",
       "    <tr>\n",
       "      <td>two</td>\n",
       "      <td>0.613641</td>\n",
       "      <td>0.900669</td>\n",
       "    </tr>\n",
       "    <tr>\n",
       "      <td rowspan=\"2\" valign=\"top\">baz</td>\n",
       "      <td>one</td>\n",
       "      <td>-0.250525</td>\n",
       "      <td>1.113566</td>\n",
       "    </tr>\n",
       "    <tr>\n",
       "      <td>two</td>\n",
       "      <td>0.369680</td>\n",
       "      <td>-1.104077</td>\n",
       "    </tr>\n",
       "    <tr>\n",
       "      <td rowspan=\"2\" valign=\"top\">foo</td>\n",
       "      <td>one</td>\n",
       "      <td>-0.603436</td>\n",
       "      <td>1.027162</td>\n",
       "    </tr>\n",
       "    <tr>\n",
       "      <td>two</td>\n",
       "      <td>0.710362</td>\n",
       "      <td>-0.337160</td>\n",
       "    </tr>\n",
       "    <tr>\n",
       "      <td rowspan=\"2\" valign=\"top\">qux</td>\n",
       "      <td>one</td>\n",
       "      <td>0.187287</td>\n",
       "      <td>-0.832406</td>\n",
       "    </tr>\n",
       "    <tr>\n",
       "      <td>two</td>\n",
       "      <td>-0.184709</td>\n",
       "      <td>0.619744</td>\n",
       "    </tr>\n",
       "  </tbody>\n",
       "</table>\n",
       "</div>"
      ],
      "text/plain": [
       "                     A         B\n",
       "first second                    \n",
       "bar   one     2.195420  0.644051\n",
       "      two     0.613641  0.900669\n",
       "baz   one    -0.250525  1.113566\n",
       "      two     0.369680 -1.104077\n",
       "foo   one    -0.603436  1.027162\n",
       "      two     0.710362 -0.337160\n",
       "qux   one     0.187287 -0.832406\n",
       "      two    -0.184709  0.619744"
      ]
     },
     "execution_count": 124,
     "metadata": {},
     "output_type": "execute_result"
    }
   ],
   "source": [
    "# 若有多重索引，可以unstack\n",
    "stacked.unstack()"
   ]
  },
  {
   "cell_type": "code",
   "execution_count": 126,
   "metadata": {},
   "outputs": [
    {
     "data": {
      "text/html": [
       "<div>\n",
       "<style scoped>\n",
       "    .dataframe tbody tr th:only-of-type {\n",
       "        vertical-align: middle;\n",
       "    }\n",
       "\n",
       "    .dataframe tbody tr th {\n",
       "        vertical-align: top;\n",
       "    }\n",
       "\n",
       "    .dataframe thead th {\n",
       "        text-align: right;\n",
       "    }\n",
       "</style>\n",
       "<table border=\"1\" class=\"dataframe\">\n",
       "  <thead>\n",
       "    <tr style=\"text-align: right;\">\n",
       "      <th></th>\n",
       "      <th>second</th>\n",
       "      <th>one</th>\n",
       "      <th>two</th>\n",
       "    </tr>\n",
       "    <tr>\n",
       "      <th>first</th>\n",
       "      <th></th>\n",
       "      <th></th>\n",
       "      <th></th>\n",
       "    </tr>\n",
       "  </thead>\n",
       "  <tbody>\n",
       "    <tr>\n",
       "      <td rowspan=\"2\" valign=\"top\">bar</td>\n",
       "      <td>A</td>\n",
       "      <td>2.195420</td>\n",
       "      <td>0.613641</td>\n",
       "    </tr>\n",
       "    <tr>\n",
       "      <td>B</td>\n",
       "      <td>0.644051</td>\n",
       "      <td>0.900669</td>\n",
       "    </tr>\n",
       "    <tr>\n",
       "      <td rowspan=\"2\" valign=\"top\">baz</td>\n",
       "      <td>A</td>\n",
       "      <td>-0.250525</td>\n",
       "      <td>0.369680</td>\n",
       "    </tr>\n",
       "    <tr>\n",
       "      <td>B</td>\n",
       "      <td>1.113566</td>\n",
       "      <td>-1.104077</td>\n",
       "    </tr>\n",
       "    <tr>\n",
       "      <td rowspan=\"2\" valign=\"top\">foo</td>\n",
       "      <td>A</td>\n",
       "      <td>-0.603436</td>\n",
       "      <td>0.710362</td>\n",
       "    </tr>\n",
       "    <tr>\n",
       "      <td>B</td>\n",
       "      <td>1.027162</td>\n",
       "      <td>-0.337160</td>\n",
       "    </tr>\n",
       "    <tr>\n",
       "      <td rowspan=\"2\" valign=\"top\">qux</td>\n",
       "      <td>A</td>\n",
       "      <td>0.187287</td>\n",
       "      <td>-0.184709</td>\n",
       "    </tr>\n",
       "    <tr>\n",
       "      <td>B</td>\n",
       "      <td>-0.832406</td>\n",
       "      <td>0.619744</td>\n",
       "    </tr>\n",
       "  </tbody>\n",
       "</table>\n",
       "</div>"
      ],
      "text/plain": [
       "second        one       two\n",
       "first                      \n",
       "bar   A  2.195420  0.613641\n",
       "      B  0.644051  0.900669\n",
       "baz   A -0.250525  0.369680\n",
       "      B  1.113566 -1.104077\n",
       "foo   A -0.603436  0.710362\n",
       "      B  1.027162 -0.337160\n",
       "qux   A  0.187287 -0.184709\n",
       "      B -0.832406  0.619744"
      ]
     },
     "execution_count": 126,
     "metadata": {},
     "output_type": "execute_result"
    }
   ],
   "source": [
    "# 制定转换层级\n",
    "stacked.unstack(1)"
   ]
  },
  {
   "cell_type": "code",
   "execution_count": 127,
   "metadata": {},
   "outputs": [
    {
     "data": {
      "text/html": [
       "<div>\n",
       "<style scoped>\n",
       "    .dataframe tbody tr th:only-of-type {\n",
       "        vertical-align: middle;\n",
       "    }\n",
       "\n",
       "    .dataframe tbody tr th {\n",
       "        vertical-align: top;\n",
       "    }\n",
       "\n",
       "    .dataframe thead th {\n",
       "        text-align: right;\n",
       "    }\n",
       "</style>\n",
       "<table border=\"1\" class=\"dataframe\">\n",
       "  <thead>\n",
       "    <tr style=\"text-align: right;\">\n",
       "      <th></th>\n",
       "      <th>first</th>\n",
       "      <th>bar</th>\n",
       "      <th>baz</th>\n",
       "      <th>foo</th>\n",
       "      <th>qux</th>\n",
       "    </tr>\n",
       "    <tr>\n",
       "      <th>second</th>\n",
       "      <th></th>\n",
       "      <th></th>\n",
       "      <th></th>\n",
       "      <th></th>\n",
       "      <th></th>\n",
       "    </tr>\n",
       "  </thead>\n",
       "  <tbody>\n",
       "    <tr>\n",
       "      <td rowspan=\"2\" valign=\"top\">one</td>\n",
       "      <td>A</td>\n",
       "      <td>2.195420</td>\n",
       "      <td>-0.250525</td>\n",
       "      <td>-0.603436</td>\n",
       "      <td>0.187287</td>\n",
       "    </tr>\n",
       "    <tr>\n",
       "      <td>B</td>\n",
       "      <td>0.644051</td>\n",
       "      <td>1.113566</td>\n",
       "      <td>1.027162</td>\n",
       "      <td>-0.832406</td>\n",
       "    </tr>\n",
       "    <tr>\n",
       "      <td rowspan=\"2\" valign=\"top\">two</td>\n",
       "      <td>A</td>\n",
       "      <td>0.613641</td>\n",
       "      <td>0.369680</td>\n",
       "      <td>0.710362</td>\n",
       "      <td>-0.184709</td>\n",
       "    </tr>\n",
       "    <tr>\n",
       "      <td>B</td>\n",
       "      <td>0.900669</td>\n",
       "      <td>-1.104077</td>\n",
       "      <td>-0.337160</td>\n",
       "      <td>0.619744</td>\n",
       "    </tr>\n",
       "  </tbody>\n",
       "</table>\n",
       "</div>"
      ],
      "text/plain": [
       "first          bar       baz       foo       qux\n",
       "second                                          \n",
       "one    A  2.195420 -0.250525 -0.603436  0.187287\n",
       "       B  0.644051  1.113566  1.027162 -0.832406\n",
       "two    A  0.613641  0.369680  0.710362 -0.184709\n",
       "       B  0.900669 -1.104077 -0.337160  0.619744"
      ]
     },
     "execution_count": 127,
     "metadata": {},
     "output_type": "execute_result"
    }
   ],
   "source": [
    "stacked.unstack(0)"
   ]
  },
  {
   "cell_type": "markdown",
   "metadata": {},
   "source": [
    "# 数据透视表"
   ]
  },
  {
   "cell_type": "code",
   "execution_count": 128,
   "metadata": {},
   "outputs": [
    {
     "data": {
      "text/html": [
       "<div>\n",
       "<style scoped>\n",
       "    .dataframe tbody tr th:only-of-type {\n",
       "        vertical-align: middle;\n",
       "    }\n",
       "\n",
       "    .dataframe tbody tr th {\n",
       "        vertical-align: top;\n",
       "    }\n",
       "\n",
       "    .dataframe thead th {\n",
       "        text-align: right;\n",
       "    }\n",
       "</style>\n",
       "<table border=\"1\" class=\"dataframe\">\n",
       "  <thead>\n",
       "    <tr style=\"text-align: right;\">\n",
       "      <th></th>\n",
       "      <th>A</th>\n",
       "      <th>B</th>\n",
       "      <th>C</th>\n",
       "      <th>D</th>\n",
       "      <th>E</th>\n",
       "    </tr>\n",
       "  </thead>\n",
       "  <tbody>\n",
       "    <tr>\n",
       "      <td>0</td>\n",
       "      <td>one</td>\n",
       "      <td>A</td>\n",
       "      <td>foo</td>\n",
       "      <td>1.624345</td>\n",
       "      <td>-0.322417</td>\n",
       "    </tr>\n",
       "    <tr>\n",
       "      <td>1</td>\n",
       "      <td>one</td>\n",
       "      <td>B</td>\n",
       "      <td>foo</td>\n",
       "      <td>-0.611756</td>\n",
       "      <td>-0.384054</td>\n",
       "    </tr>\n",
       "    <tr>\n",
       "      <td>2</td>\n",
       "      <td>two</td>\n",
       "      <td>C</td>\n",
       "      <td>foo</td>\n",
       "      <td>-0.528172</td>\n",
       "      <td>1.133769</td>\n",
       "    </tr>\n",
       "    <tr>\n",
       "      <td>3</td>\n",
       "      <td>three</td>\n",
       "      <td>A</td>\n",
       "      <td>bar</td>\n",
       "      <td>-1.072969</td>\n",
       "      <td>-1.099891</td>\n",
       "    </tr>\n",
       "    <tr>\n",
       "      <td>4</td>\n",
       "      <td>one</td>\n",
       "      <td>B</td>\n",
       "      <td>bar</td>\n",
       "      <td>0.865408</td>\n",
       "      <td>-0.172428</td>\n",
       "    </tr>\n",
       "    <tr>\n",
       "      <td>5</td>\n",
       "      <td>one</td>\n",
       "      <td>C</td>\n",
       "      <td>bar</td>\n",
       "      <td>-2.301539</td>\n",
       "      <td>-0.877858</td>\n",
       "    </tr>\n",
       "    <tr>\n",
       "      <td>6</td>\n",
       "      <td>two</td>\n",
       "      <td>A</td>\n",
       "      <td>foo</td>\n",
       "      <td>1.744812</td>\n",
       "      <td>0.042214</td>\n",
       "    </tr>\n",
       "    <tr>\n",
       "      <td>7</td>\n",
       "      <td>three</td>\n",
       "      <td>B</td>\n",
       "      <td>foo</td>\n",
       "      <td>-0.761207</td>\n",
       "      <td>0.582815</td>\n",
       "    </tr>\n",
       "    <tr>\n",
       "      <td>8</td>\n",
       "      <td>one</td>\n",
       "      <td>C</td>\n",
       "      <td>foo</td>\n",
       "      <td>0.319039</td>\n",
       "      <td>-1.100619</td>\n",
       "    </tr>\n",
       "    <tr>\n",
       "      <td>9</td>\n",
       "      <td>one</td>\n",
       "      <td>A</td>\n",
       "      <td>bar</td>\n",
       "      <td>-0.249370</td>\n",
       "      <td>1.144724</td>\n",
       "    </tr>\n",
       "    <tr>\n",
       "      <td>10</td>\n",
       "      <td>two</td>\n",
       "      <td>B</td>\n",
       "      <td>bar</td>\n",
       "      <td>1.462108</td>\n",
       "      <td>0.901591</td>\n",
       "    </tr>\n",
       "    <tr>\n",
       "      <td>11</td>\n",
       "      <td>three</td>\n",
       "      <td>C</td>\n",
       "      <td>bar</td>\n",
       "      <td>-2.060141</td>\n",
       "      <td>0.502494</td>\n",
       "    </tr>\n",
       "  </tbody>\n",
       "</table>\n",
       "</div>"
      ],
      "text/plain": [
       "        A  B    C         D         E\n",
       "0     one  A  foo  1.624345 -0.322417\n",
       "1     one  B  foo -0.611756 -0.384054\n",
       "2     two  C  foo -0.528172  1.133769\n",
       "3   three  A  bar -1.072969 -1.099891\n",
       "4     one  B  bar  0.865408 -0.172428\n",
       "5     one  C  bar -2.301539 -0.877858\n",
       "6     two  A  foo  1.744812  0.042214\n",
       "7   three  B  foo -0.761207  0.582815\n",
       "8     one  C  foo  0.319039 -1.100619\n",
       "9     one  A  bar -0.249370  1.144724\n",
       "10    two  B  bar  1.462108  0.901591\n",
       "11  three  C  bar -2.060141  0.502494"
      ]
     },
     "execution_count": 128,
     "metadata": {},
     "output_type": "execute_result"
    }
   ],
   "source": [
    "np.random.seed(1)\n",
    "df = pd.DataFrame({\n",
    "    'A':['one','one','two','three']*3,\n",
    "    'B':['A','B','C']*4,\n",
    "    'C':['foo','foo','foo','bar','bar','bar']*2,\n",
    "    'D':np.random.randn(12),\n",
    "    'E':np.random.randn(12)\n",
    "})\n",
    "df"
   ]
  },
  {
   "cell_type": "code",
   "execution_count": 129,
   "metadata": {},
   "outputs": [
    {
     "data": {
      "text/html": [
       "<div>\n",
       "<style scoped>\n",
       "    .dataframe tbody tr th:only-of-type {\n",
       "        vertical-align: middle;\n",
       "    }\n",
       "\n",
       "    .dataframe tbody tr th {\n",
       "        vertical-align: top;\n",
       "    }\n",
       "\n",
       "    .dataframe thead th {\n",
       "        text-align: right;\n",
       "    }\n",
       "</style>\n",
       "<table border=\"1\" class=\"dataframe\">\n",
       "  <thead>\n",
       "    <tr style=\"text-align: right;\">\n",
       "      <th></th>\n",
       "      <th>C</th>\n",
       "      <th>bar</th>\n",
       "      <th>foo</th>\n",
       "    </tr>\n",
       "    <tr>\n",
       "      <th>A</th>\n",
       "      <th>B</th>\n",
       "      <th></th>\n",
       "      <th></th>\n",
       "    </tr>\n",
       "  </thead>\n",
       "  <tbody>\n",
       "    <tr>\n",
       "      <td rowspan=\"3\" valign=\"top\">one</td>\n",
       "      <td>A</td>\n",
       "      <td>-0.249370</td>\n",
       "      <td>1.624345</td>\n",
       "    </tr>\n",
       "    <tr>\n",
       "      <td>B</td>\n",
       "      <td>0.865408</td>\n",
       "      <td>-0.611756</td>\n",
       "    </tr>\n",
       "    <tr>\n",
       "      <td>C</td>\n",
       "      <td>-2.301539</td>\n",
       "      <td>0.319039</td>\n",
       "    </tr>\n",
       "    <tr>\n",
       "      <td rowspan=\"3\" valign=\"top\">three</td>\n",
       "      <td>A</td>\n",
       "      <td>-1.072969</td>\n",
       "      <td>NaN</td>\n",
       "    </tr>\n",
       "    <tr>\n",
       "      <td>B</td>\n",
       "      <td>NaN</td>\n",
       "      <td>-0.761207</td>\n",
       "    </tr>\n",
       "    <tr>\n",
       "      <td>C</td>\n",
       "      <td>-2.060141</td>\n",
       "      <td>NaN</td>\n",
       "    </tr>\n",
       "    <tr>\n",
       "      <td rowspan=\"3\" valign=\"top\">two</td>\n",
       "      <td>A</td>\n",
       "      <td>NaN</td>\n",
       "      <td>1.744812</td>\n",
       "    </tr>\n",
       "    <tr>\n",
       "      <td>B</td>\n",
       "      <td>1.462108</td>\n",
       "      <td>NaN</td>\n",
       "    </tr>\n",
       "    <tr>\n",
       "      <td>C</td>\n",
       "      <td>NaN</td>\n",
       "      <td>-0.528172</td>\n",
       "    </tr>\n",
       "  </tbody>\n",
       "</table>\n",
       "</div>"
      ],
      "text/plain": [
       "C             bar       foo\n",
       "A     B                    \n",
       "one   A -0.249370  1.624345\n",
       "      B  0.865408 -0.611756\n",
       "      C -2.301539  0.319039\n",
       "three A -1.072969       NaN\n",
       "      B       NaN -0.761207\n",
       "      C -2.060141       NaN\n",
       "two   A       NaN  1.744812\n",
       "      B  1.462108       NaN\n",
       "      C       NaN -0.528172"
      ]
     },
     "execution_count": 129,
     "metadata": {},
     "output_type": "execute_result"
    }
   ],
   "source": [
    "pd.pivot_table(df, values='D', index=['A','B'], columns=['C']) # 以A，B为行维度，以C为列维度，计算D列之和"
   ]
  },
  {
   "cell_type": "markdown",
   "metadata": {},
   "source": [
    "# 绘图"
   ]
  },
  {
   "cell_type": "code",
   "execution_count": 131,
   "metadata": {},
   "outputs": [
    {
     "data": {
      "text/plain": [
       "<matplotlib.axes._subplots.AxesSubplot at 0x113b48650>"
      ]
     },
     "execution_count": 131,
     "metadata": {},
     "output_type": "execute_result"
    },
    {
     "data": {
      "image/png": "[encoded data removed]",
      "text/plain": [
       "<Figure size 432x288 with 1 Axes>"
      ]
     },
     "metadata": {
      "needs_background": "light"
     },
     "output_type": "display_data"
    }
   ],
   "source": [
    "ts = pd.Series(np.random.randn(1000), index=pd.date_range('1/1/2017', periods=1000))\n",
    "ts = ts.cumsum()\n",
    "%matplotlib inline\n",
    "ts.plot()"
   ]
  },
  {
   "cell_type": "code",
   "execution_count": 134,
   "metadata": {},
   "outputs": [
    {
     "data": {
      "text/plain": [
       "<matplotlib.legend.Legend at 0x115ac6810>"
      ]
     },
     "execution_count": 134,
     "metadata": {},
     "output_type": "execute_result"
    },
    {
     "data": {
      "image/png": "[encoded data removed]",
      "text/plain": [
       "<Figure size 432x288 with 1 Axes>"
      ]
     },
     "metadata": {
      "needs_background": "light"
     },
     "output_type": "display_data"
    }
   ],
   "source": [
    "df = pd.DataFrame(np.random.randn(1000,4), index=ts.index, columns=['A','B','C','D'])\n",
    "df = df.cumsum()\n",
    "%matplotlib inline\n",
    "df.plot()\n",
    "plt.legend(loc='best')"
   ]
  },
  {
   "cell_type": "code",
   "execution_count": null,
   "metadata": {},
   "outputs": [],
   "source": []
  }
 ],
 "metadata": {
  "kernelspec": {
   "display_name": "Python 3",
   "language": "python",
   "name": "python3"
  },
  "language_info": {
   "codemirror_mode": {
    "name": "ipython",
    "version": 3
   },
   "file_extension": ".py",
   "mimetype": "text/x-python",
   "name": "python",
   "nbconvert_exporter": "python",
   "pygments_lexer": "ipython3",
   "version": "3.7.4"
  }
 },
 "nbformat": 4,
 "nbformat_minor": 2
}
